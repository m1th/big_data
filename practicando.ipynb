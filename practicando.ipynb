{
  "nbformat": 4,
  "nbformat_minor": 0,
  "metadata": {
    "colab": {
      "name": "practicando.ipynb",
      "provenance": [],
      "collapsed_sections": []
    },
    "kernelspec": {
      "name": "python3",
      "display_name": "Python 3"
    },
    "language_info": {
      "name": "python"
    }
  },
  "cells": [
    {
      "cell_type": "code",
      "metadata": {
        "colab": {
          "base_uri": "https://localhost:8080/"
        },
        "id": "AfKiKEP0njeU",
        "outputId": "9292baff-50d8-41d9-eee9-e35f0a8630a8"
      },
      "source": [
        "horas_trabajadas = float (input (\"Escribir las horas trabajadas en numeros: \"))\n",
        "costo_hora = float (input (\"Valor Hora: $\"))\n",
        "valorTotal = horas_trabajadas*costo_hora\n",
        "\n",
        "print(\"el valor a pagar es $\",valorTotal)"
      ],
      "execution_count": null,
      "outputs": [
        {
          "output_type": "stream",
          "name": "stdout",
          "text": [
            "Escribir las horas trabajadas en numeros: 2\n",
            "Valor Hora: $500\n",
            "el valor a pagar es $ 1000.0\n"
          ]
        }
      ]
    },
    {
      "cell_type": "code",
      "metadata": {
        "colab": {
          "base_uri": "https://localhost:8080/"
        },
        "id": "P9zvGNtDq1pT",
        "outputId": "ac36c30b-f54a-4ca2-ba34-c60e6683aa97"
      },
      "source": [
        "peso = float (input(\"Ingrese su peso en numeros \"))\n",
        "estatura = float (input(\"ingrese su estatura en numeros \"))\n",
        "masaCorporal = peso/estatura**2\n",
        "print(\"su masa corporal es \", masaCorporal)"
      ],
      "execution_count": null,
      "outputs": [
        {
          "output_type": "stream",
          "name": "stdout",
          "text": [
            "Ingrese su peso en numeros 60\n",
            "ingrese su estatura en numeros 1.60\n",
            "su masa corporal es  23.437499999999996\n"
          ]
        }
      ]
    },
    {
      "cell_type": "code",
      "metadata": {
        "colab": {
          "base_uri": "https://localhost:8080/"
        },
        "id": "EmZhbqLFsRwr",
        "outputId": "dd3d0e40-9e4e-4048-95e2-af1c532ebdce"
      },
      "source": [
        "barra = float (input(\"cantidad barras vendidas \"))\n",
        "barraDescuento = float (input(\"cantidad barras vendidas con descuento \"))\n",
        "barraVendidas = barra + barraDescuento\n",
        "print (\"el precio habitual de una barra de dulce es $450 c/u\")\n",
        "costoDescuento = (barraDescuento* 450)/2\n",
        "costoNormal = barra* 450\n",
        "costoFinal = costoDescuento+costoNormal\n",
        "print(\"el total de barras vendidas es\", barraVendidas,\" el descuento será de 50% en las que tienen promoción y el costo final: $\",costoFinal)\n"
      ],
      "execution_count": null,
      "outputs": [
        {
          "output_type": "stream",
          "name": "stdout",
          "text": [
            "cantidad barras vendidas 3\n",
            "cantidad barras vendidas con descuento 10\n",
            "el precio habitual de una barra de dulce es $450 c/u\n",
            "el total de barras vendidas es 13.0  el descuento será de 50% en las que tienen promoción y el costo final: $ 3600.0\n"
          ]
        }
      ]
    },
    {
      "cell_type": "code",
      "metadata": {
        "colab": {
          "base_uri": "https://localhost:8080/"
        },
        "id": "LhnoL7DMWsLq",
        "outputId": "6bf7f2a9-47b9-45c1-9908-01dc2453d7b7"
      },
      "source": [
        "var_int = float (input(\"ingrese un numero del 0 al 2= \"))\n",
        "\n",
        "if var_int == 0:\n",
        "  print (\"el numero que digito es cero\")\n",
        "elif var_int == 1:\n",
        "  print (\"el numero que digito es uno\")\n",
        "elif var_int == 2:\n",
        "  print (\"el numero que digito es dos\")\n",
        "else:\n",
        "  print (\"ingrese un numero solo entre 0 y 2= \")"
      ],
      "execution_count": 7,
      "outputs": [
        {
          "output_type": "stream",
          "name": "stdout",
          "text": [
            "ingrese un numero del 0 al 2= 3\n",
            "ingrese un numero solo entre 0 y 2= \n"
          ]
        }
      ]
    }
  ]
}