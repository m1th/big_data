{
  "nbformat": 4,
  "nbformat_minor": 0,
  "metadata": {
    "colab": {
      "name": "Phyton Avanzado.ipynb",
      "provenance": [],
      "collapsed_sections": []
    },
    "kernelspec": {
      "name": "python3",
      "display_name": "Python 3"
    },
    "language_info": {
      "name": "python"
    }
  },
  "cells": [
    {
      "cell_type": "markdown",
      "metadata": {
        "id": "qlFpxbYTY1xq"
      },
      "source": [
        "NUMPY MATRIZ IMPORTANDO MODULO:\n",
        "\n",
        "pip install numpy: para instalar el paquete, solo se hace una vez\n",
        "import numpy as np: ya instalado podemos importarlo con el alias np, cada vez que se necesite utilizar el metodo o modulo\n",
        "from numpy import random: generar datos aleatorios"
      ]
    },
    {
      "cell_type": "code",
      "metadata": {
        "colab": {
          "base_uri": "https://localhost:8080/"
        },
        "id": "ygDL6ZtsJitg",
        "outputId": "1eed730f-9065-4f02-ecfd-18f0836b1bf8"
      },
      "source": [
        "import numpy as np\n",
        "arr = np.array(78) # array 0-D \n",
        "print(arr)\n",
        "print(\"Dimensiones=\", arr.ndim)"
      ],
      "execution_count": 95,
      "outputs": [
        {
          "output_type": "stream",
          "name": "stdout",
          "text": [
            "78\n",
            "Dimensiones= 0\n"
          ]
        }
      ]
    },
    {
      "cell_type": "code",
      "metadata": {
        "colab": {
          "base_uri": "https://localhost:8080/"
        },
        "id": "-JkKMIW65k7e",
        "outputId": "b316c03f-d69b-40ad-f2c7-b5c0587144e5"
      },
      "source": [
        "lista = [1,2,3,4,5,6,7]\n",
        "arreglo = np.array(lista)\n",
        "\n",
        "print (lista)\n",
        "# arreglo es como una forma de matriz de vectores\n",
        "print (arreglo)"
      ],
      "execution_count": null,
      "outputs": [
        {
          "output_type": "stream",
          "name": "stdout",
          "text": [
            "[1, 2, 3, 4, 5, 6, 7]\n",
            "[1 2 3 4 5 6 7]\n"
          ]
        }
      ]
    },
    {
      "cell_type": "code",
      "metadata": {
        "id": "4HfJUXhSYrKW"
      },
      "source": [
        "import numpy as np #importamos el método numpy"
      ],
      "execution_count": null,
      "outputs": []
    },
    {
      "cell_type": "markdown",
      "metadata": {
        "id": "NL8f_ael_wWW"
      },
      "source": [
        "CREACION DE arrays con RANDOM"
      ]
    },
    {
      "cell_type": "code",
      "metadata": {
        "id": "LBptbYYJxACz",
        "colab": {
          "base_uri": "https://localhost:8080/"
        },
        "outputId": "908e317b-ac3c-49f2-cf2d-a0f3aaa887db"
      },
      "source": [
        "import numpy as np\n",
        "from numpy import random # random: no se pueden predecir son aleatorios se debe especificar el SIZE en forma de dupla ()\n",
        "\n",
        "arr1 = random.randint(100, size=(2,3)) #LA TUPLA ES (fila, columna)\n",
        "# randint matrices con valores numericos enteros\n",
        "print(arr1)\n",
        "print(\"Dimensiones=\", arr1.ndim)\n",
        "print(\"Cuantos elementos tiene =\", arr1.shape)\n",
        "print(\"me muestra el valor del array=\", arr1[0,2])# es la forma de recorrer el array y traer los datos \n",
        "print(\"me muestra el valor del array=\", arr1[1,2])"
      ],
      "execution_count": 96,
      "outputs": [
        {
          "output_type": "stream",
          "name": "stdout",
          "text": [
            "[[17 30 18]\n",
            " [25 54 73]]\n",
            "Dimensiones= 2\n",
            "Cuantos elementos tiene = (2, 3)\n",
            "me muestra el valor del array= 18\n",
            "me muestra el valor del array= 73\n"
          ]
        }
      ]
    },
    {
      "cell_type": "code",
      "metadata": {
        "colab": {
          "base_uri": "https://localhost:8080/"
        },
        "id": "rwVBGYKiGyNl",
        "outputId": "0abe9511-0dda-4924-c7b0-ab7d04491943"
      },
      "source": [
        "arr2 = random.rand(3,3) # hasta el numero que el debe seleccionar este seria un array 1-D = unidemensional\n",
        "# rand para valores numericos con decimales\n",
        "print(arr2)\n",
        "print(\"Dimensiones=\", arr2.ndim)\n",
        "print(\"Cuantos elementos tiene =\", arr2.shape)\n",
        "print(\"me muestra un valor en la posición de dicho array=\", arr2[0,0])"
      ],
      "execution_count": null,
      "outputs": [
        {
          "output_type": "stream",
          "name": "stdout",
          "text": [
            "[[0.27567811 0.48128514 0.63794252]\n",
            " [0.1285024  0.17051793 0.05855639]\n",
            " [0.92820941 0.31368009 0.54511066]]\n",
            "Dimensiones= 2\n",
            "Cuantos elementos tiene = (3, 3)\n",
            "me muestra un valor en la posición de dicho array= 0.27567811219334626\n"
          ]
        }
      ]
    },
    {
      "cell_type": "code",
      "metadata": {
        "colab": {
          "base_uri": "https://localhost:8080/"
        },
        "id": "oyWSZQoW-Z9H",
        "outputId": "1d846f18-e38f-489c-f327-1096da566f32"
      },
      "source": [
        "arr3 = random.rand(5) # hasta el numero que el debe seleccionar, DIMENSIONES = 2-D\n",
        "# rand para valores numericos con decimales\n",
        "print(arr3)\n",
        "print(\"Dimensiones=\", arr3.ndim)\n",
        "print(\"Cuantos elementos tiene =\", arr3.shape)\n",
        "print(\"me muestra un valor en la posición de dicho array=\", arr3[0])\n",
        "print(\"me muestra un valor en la posición de dicho array=\", arr3[1])\n",
        "print(\"me muestra el valor de la fila del array=\", arr3[1])\n",
        "print(\"me muestra las posiciones =\", arr3[0:3]) #slyer\n",
        "print(\"me muestra las posiciones saltadas =\", arr3[0:4:2]) #slyer\n",
        "print(\"me muestra el último valor del array=\", arr3[-1])"
      ],
      "execution_count": null,
      "outputs": [
        {
          "output_type": "stream",
          "name": "stdout",
          "text": [
            "[0.86548893 0.05146784 0.22458739 0.50364981 0.31695884]\n",
            "Dimensiones= 1\n",
            "Cuantos elementos tiene = (5,)\n",
            "me muestra un valor en la posición de dicho array= 0.865488932481187\n",
            "me muestra un valor en la posición de dicho array= 0.051467844963127174\n",
            "me muestra el valor de la fila del array= 0.051467844963127174\n",
            "me muestra las posiciones = [0.86548893 0.05146784 0.22458739]\n",
            "me muestra las posiciones saltadas = [0.86548893 0.22458739]\n",
            "me muestra el último valor del array= 0.31695883574409367\n"
          ]
        }
      ]
    },
    {
      "cell_type": "code",
      "metadata": {
        "colab": {
          "base_uri": "https://localhost:8080/"
        },
        "id": "freXRh93-dgG",
        "outputId": "3da8cc12-77d2-4f19-dc7c-a6ffd0f44e44"
      },
      "source": [
        "arr4 = random.choice([1,2,54,9], p=[0.1,0.5,0.3,0.1], size=(5,5)) #array unidemensional\n",
        "#choice para selecci10onar unos valores desde un listado\n",
        "#p = la probabilidad que tiene cada uno de los datos del array\n",
        "print(arr4)\n",
        "print(\"Dimensiones=\", arr4.ndim)"
      ],
      "execution_count": null,
      "outputs": [
        {
          "output_type": "stream",
          "name": "stdout",
          "text": [
            "[[ 9  2  9 54  1]\n",
            " [ 2  2  2  9  2]\n",
            " [ 2  2 54  2  2]\n",
            " [ 2  2  1  2  2]\n",
            " [ 2  2  9  1 54]]\n",
            "Dimensiones= 2\n"
          ]
        }
      ]
    },
    {
      "cell_type": "code",
      "metadata": {
        "colab": {
          "base_uri": "https://localhost:8080/"
        },
        "id": "9AgpMzm_Qcn2",
        "outputId": "50ab15ed-e50a-40f2-9748-9178cd4b9afb"
      },
      "source": [
        "print(\"array\")\n",
        "print(arr)\n",
        "print(\"Dimensiones=\", arr.ndim)\n",
        "print(\"Cuantos elementos tiene =\", arr.shape)\n",
        "print(\" \")\n",
        "print(\"array 1\")\n",
        "print(arr1)\n",
        "print(\"Dimensiones=\", arr1.ndim)\n",
        "print(\"Cuantos elementos tiene =\", arr1.shape)\n",
        "print(\"me muestra el valor fila cero columna 2 del array=\", arr1[0,2])# es la forma de recorrer el array y traer los datos \n",
        "print(\"me muestra el valor fila uno columna 2 del array=\", arr1[1,2])\n",
        "\n",
        "print(\" \")\n",
        "print(\"array 2\")\n",
        "print(arr2)\n",
        "print(\"Dimensiones=\", arr2.ndim)\n",
        "print(\"Cuantos elementos tiene =\", arr2.shape)\n",
        "print(\"me muestra un valor en la posición de dicho array=\", arr2[0,0])\n",
        "print(\" \")\n",
        "print(\"array 3\")\n",
        "print(arr3)\n",
        "print(\"Dimensiones=\", arr3.ndim)\n",
        "print(\"Cuantos elementos tiene =\", arr3.shape)\n",
        "print(\"me muestra un valor en la posición cero de dicho array=\", arr3[0])\n",
        "print(\"me muestra un valor en la posición uno de dicho array=\", arr3[1])\n",
        "print(\"me muestra el valor de la fila del array=\", arr3[1])\n",
        "print(\"me muestra las posiciones =\", arr3[0:3]) #slyer\n",
        "print(\"me muestra las posiciones saltadas =\", arr3[0:4:2]) #slyer\n",
        "print(\"me muestra el último valor del array=\", arr3[-1])"
      ],
      "execution_count": null,
      "outputs": [
        {
          "output_type": "stream",
          "name": "stdout",
          "text": [
            "array\n",
            "78\n",
            "Dimensiones= 0\n",
            "Cuantos elementos tiene = ()\n",
            " \n",
            "array 1\n",
            "[[15  1 67]\n",
            " [51 25 33]]\n",
            "Dimensiones= 2\n",
            "Cuantos elementos tiene = (2, 3)\n",
            "me muestra el valor fila cero columna 2 del array= 67\n",
            "me muestra el valor fila uno columna 2 del array= 33\n",
            " \n",
            "array 2\n",
            "[[0.27567811 0.48128514 0.63794252]\n",
            " [0.1285024  0.17051793 0.05855639]\n",
            " [0.92820941 0.31368009 0.54511066]]\n",
            "Dimensiones= 2\n",
            "Cuantos elementos tiene = (3, 3)\n",
            "me muestra un valor en la posición de dicho array= 0.27567811219334626\n",
            " \n",
            "array 3\n",
            "[0.86548893 0.05146784 0.22458739 0.50364981 0.31695884]\n",
            "Dimensiones= 1\n",
            "Cuantos elementos tiene = (5,)\n",
            "me muestra un valor en la posición cero de dicho array= 0.865488932481187\n",
            "me muestra un valor en la posición uno de dicho array= 0.051467844963127174\n",
            "me muestra el valor de la fila del array= 0.051467844963127174\n",
            "me muestra las posiciones = [0.86548893 0.05146784 0.22458739]\n",
            "me muestra las posiciones saltadas = [0.86548893 0.22458739]\n",
            "me muestra el último valor del array= 0.31695883574409367\n"
          ]
        }
      ]
    },
    {
      "cell_type": "code",
      "metadata": {
        "colab": {
          "base_uri": "https://localhost:8080/"
        },
        "id": "udL8e6g4bKFz",
        "outputId": "e81b6774-1724-48c1-f47b-1680946fc458"
      },
      "source": [
        "print(arr1.dtype)\n",
        "print(arr3.dtype)\n",
        "print(arr1.shape)\n",
        "print(arr3.shape)\n",
        "print(\"\")\n",
        "arr3_s = arr3.astype('S')\n",
        "print(\"ANTES=\", arr3.dtype, arr3)\n",
        "print(\"AHORA=\",arr3_s.dtype, arr3_s)\n",
        "print(\"Cuantos elementos tiene =\", arr3_s.shape)\n",
        "print(\"\")\n",
        "print(arr1.shape)\n",
        "print(arr1)\n",
        "print(\"haciendo un reshape\")\n",
        "print(arr1.reshape(3,2))"
      ],
      "execution_count": null,
      "outputs": [
        {
          "output_type": "stream",
          "name": "stdout",
          "text": [
            "int64\n",
            "float64\n",
            "(2, 3)\n",
            "(5,)\n",
            "\n",
            "ANTES= float64 [0.86548893 0.05146784 0.22458739 0.50364981 0.31695884]\n",
            "AHORA= |S32 [b'0.865488932481187' b'0.051467844963127174' b'0.2245873945431427'\n",
            " b'0.5036498074689191' b'0.31695883574409367']\n",
            "Cuantos elementos tiene = (5,)\n",
            "\n",
            "(2, 3)\n",
            "[[15  1 67]\n",
            " [51 25 33]]\n",
            "haciendo un reshape\n",
            "[[15  1]\n",
            " [67 51]\n",
            " [25 33]]\n"
          ]
        }
      ]
    },
    {
      "cell_type": "markdown",
      "metadata": {
        "id": "atlOlm1DwfpR"
      },
      "source": [
        "OPERACIONES ARITMETICAS CON ARRAY"
      ]
    },
    {
      "cell_type": "code",
      "metadata": {
        "colab": {
          "base_uri": "https://localhost:8080/"
        },
        "id": "9ohpLjFkwj78",
        "outputId": "1f8468a1-2c3f-4b69-e336-e7c6bd05fa20"
      },
      "source": [
        "m = random.randint(10, size=(3,5)) # DEBEN SER IGUALES\n",
        "n = random.randint(10, size=(3,5))\n",
        "\n",
        "print(m)\n",
        "print(n)\n",
        "print(\"\")\n",
        "print(\"SUMA\")\n",
        "print(m+n)\n",
        "print(\"\")\n",
        "print(\"MULTIPLICACION\")\n",
        "print(m*n)"
      ],
      "execution_count": null,
      "outputs": [
        {
          "output_type": "stream",
          "name": "stdout",
          "text": [
            "[[2 9 0 5 5]\n",
            " [8 5 1 1 7]\n",
            " [6 4 8 4 2]]\n",
            "[[9 0 5 7 2]\n",
            " [0 3 6 3 8]\n",
            " [4 2 2 8 6]]\n",
            "\n",
            "SUMA\n",
            "[[11  9  5 12  7]\n",
            " [ 8  8  7  4 15]\n",
            " [10  6 10 12  8]]\n",
            "\n",
            "MULTIPLICACION\n",
            "[[18  0  0 35 10]\n",
            " [ 0 15  6  3 56]\n",
            " [24  8 16 32 12]]\n"
          ]
        }
      ]
    },
    {
      "cell_type": "markdown",
      "metadata": {
        "id": "PCOaQMUbz0jZ"
      },
      "source": [
        "OPERACIONES CON ARRAY: SEPARAR Y ORDENAR"
      ]
    },
    {
      "cell_type": "code",
      "metadata": {
        "colab": {
          "base_uri": "https://localhost:8080/"
        },
        "id": "_j_-Hf2Kz4Nq",
        "outputId": "328b744c-3aa3-412f-f6ac-14a3fdfd965e"
      },
      "source": [
        "newarr = np.array_split(m,3) # separar es la operación inversa de unir con array_split divide las filas\n",
        "print(newarr)"
      ],
      "execution_count": null,
      "outputs": [
        {
          "output_type": "stream",
          "name": "stdout",
          "text": [
            "[array([[2, 9, 0, 5, 5]]), array([[8, 5, 1, 1, 7]]), array([[6, 4, 8, 4, 2]])]\n"
          ]
        }
      ]
    },
    {
      "cell_type": "code",
      "metadata": {
        "colab": {
          "base_uri": "https://localhost:8080/"
        },
        "id": "pjoEGzc30ck8",
        "outputId": "73e005f0-07c6-46fe-8baf-4d3006117835"
      },
      "source": [
        "newarr = np.sort(m) # ordenar de mayor a menor los datos del array\n",
        "print(\"antes\")\n",
        "print(m)\n",
        "print(\"después\")\n",
        "print(newarr)"
      ],
      "execution_count": null,
      "outputs": [
        {
          "output_type": "stream",
          "name": "stdout",
          "text": [
            "antes\n",
            "[[2 9 0 5 5]\n",
            " [8 5 1 1 7]\n",
            " [6 4 8 4 2]]\n",
            "después\n",
            "[[0 2 5 5 9]\n",
            " [1 1 5 7 8]\n",
            " [2 4 4 6 8]]\n"
          ]
        }
      ]
    },
    {
      "cell_type": "markdown",
      "metadata": {
        "id": "QaJ_4ulU1TYg"
      },
      "source": [
        "OPERACIONES ARRAY: CONCATENAR Y APILAR"
      ]
    },
    {
      "cell_type": "code",
      "metadata": {
        "colab": {
          "base_uri": "https://localhost:8080/"
        },
        "id": "ku5S0GOT1YUf",
        "outputId": "01d3be5e-fdbb-4eb5-c0a3-10810e8d757d"
      },
      "source": [
        "newarr = np.concatenate((m,n), axis =1) # concatenar dos arreglos en uno solo\n",
        "print(\"antes\")\n",
        "print(m)\n",
        "print(n)\n",
        "print(\"después concatenado\")\n",
        "print(newarr)"
      ],
      "execution_count": null,
      "outputs": [
        {
          "output_type": "stream",
          "name": "stdout",
          "text": [
            "antes\n",
            "[[2 9 0 5 5]\n",
            " [8 5 1 1 7]\n",
            " [6 4 8 4 2]]\n",
            "[[9 0 5 7 2]\n",
            " [0 3 6 3 8]\n",
            " [4 2 2 8 6]]\n",
            "después concatenado\n",
            "[[2 9 0 5 5 9 0 5 7 2]\n",
            " [8 5 1 1 7 0 3 6 3 8]\n",
            " [6 4 8 4 2 4 2 2 8 6]]\n"
          ]
        }
      ]
    },
    {
      "cell_type": "code",
      "metadata": {
        "colab": {
          "base_uri": "https://localhost:8080/"
        },
        "id": "LqdL9neU18J2",
        "outputId": "5cfbe529-0cfb-4c6d-890c-b16bc8a5c539"
      },
      "source": [
        "newarr2 = np.stack((m,n), axis =1) # apilar unir en diferente eje con stack\n",
        "print(\"antes\")\n",
        "print(m)\n",
        "print(n)\n",
        "print(\"después apilado\")\n",
        "print(newarr2)"
      ],
      "execution_count": null,
      "outputs": [
        {
          "output_type": "stream",
          "name": "stdout",
          "text": [
            "antes\n",
            "[[2 9 0 5 5]\n",
            " [8 5 1 1 7]\n",
            " [6 4 8 4 2]]\n",
            "[[9 0 5 7 2]\n",
            " [0 3 6 3 8]\n",
            " [4 2 2 8 6]]\n",
            "después apilado\n",
            "[[[2 9 0 5 5]\n",
            "  [9 0 5 7 2]]\n",
            "\n",
            " [[8 5 1 1 7]\n",
            "  [0 3 6 3 8]]\n",
            "\n",
            " [[6 4 8 4 2]\n",
            "  [4 2 2 8 6]]]\n"
          ]
        }
      ]
    },
    {
      "cell_type": "markdown",
      "metadata": {
        "id": "-Yr2AIUb3Huz"
      },
      "source": [
        "OPERACIONES CON ARRAYS: FILTRAR Y BUSCAR"
      ]
    },
    {
      "cell_type": "code",
      "metadata": {
        "colab": {
          "base_uri": "https://localhost:8080/"
        },
        "id": "70NoWEWz3Mdw",
        "outputId": "5b748eeb-c1a5-4ed7-ce48-e12741fbbc9e"
      },
      "source": [
        "arr3 = np.array([41,42,43,44]) # filtrando\n",
        "filter_arr3 = arr3 > 42\n",
        "newarr3 = arr3[filter_arr3]\n",
        "print(\"antes\")\n",
        "print(arr3)\n",
        "print(\"filtrando mayores de 42\")\n",
        "print(newarr3)"
      ],
      "execution_count": null,
      "outputs": [
        {
          "output_type": "stream",
          "name": "stdout",
          "text": [
            "antes\n",
            "[41 42 43 44]\n",
            "filtrando mayores de 42\n",
            "[43 44]\n"
          ]
        }
      ]
    },
    {
      "cell_type": "code",
      "metadata": {
        "colab": {
          "base_uri": "https://localhost:8080/"
        },
        "id": "VUre6Jkn4P31",
        "outputId": "9b326403-3b5c-4d4a-a195-f922449fc410"
      },
      "source": [
        "arr3 = np.array([5,6,7,48]) # filtrando\n",
        "x = np.where(arr3 == 48)\n",
        "print(\"arreglo\")\n",
        "print(arr3)\n",
        "print(\"filtrando 48:\")\n",
        "print(\"esta en la posición\", x)\n",
        "print(\"el valor es\", arr3[x])\n",
        "print(\"\")\n",
        "x2 = np.where(arr3 <= 10)\n",
        "print(\"esta en la posición\", x2)\n",
        "print(\"el valor es\", arr3[x2])"
      ],
      "execution_count": null,
      "outputs": [
        {
          "output_type": "stream",
          "name": "stdout",
          "text": [
            "arreglo\n",
            "[ 5  6  7 48]\n",
            "filtrando 48:\n",
            "esta en la posición (array([3]),)\n",
            "el valor es [48]\n",
            "\n",
            "esta en la posición (array([0, 1, 2]),)\n",
            "el valor es [5 6 7]\n"
          ]
        }
      ]
    },
    {
      "cell_type": "markdown",
      "metadata": {
        "id": "uQt_t4ahRQz-"
      },
      "source": [
        "#Insert the correct argument for creating a NumPy array with 2 dimensions."
      ]
    },
    {
      "cell_type": "markdown",
      "metadata": {
        "id": "a6qLe27JRSP3"
      },
      "source": [
        ""
      ]
    },
    {
      "cell_type": "code",
      "metadata": {
        "colab": {
          "base_uri": "https://localhost:8080/"
        },
        "id": "8if8fAP1OPTO",
        "outputId": "94d0f85a-46de-46d1-bb84-97be58934791"
      },
      "source": [
        "arr = np.array([1, 2, 3, 4], ndmin=2) \n",
        "print(arr)"
      ],
      "execution_count": null,
      "outputs": [
        {
          "output_type": "stream",
          "name": "stdout",
          "text": [
            "[[1 2 3 4]]\n"
          ]
        }
      ]
    },
    {
      "cell_type": "markdown",
      "metadata": {
        "id": "Ap14sBscRGHZ"
      },
      "source": [
        "#Inserte la sintaxis de corte correcta para imprimir la siguiente selección de la matriz:\n",
        "\n",
        "Todo desde (incluido) el segundo elemento hasta (sin incluir) el quinto elemento."
      ]
    },
    {
      "cell_type": "code",
      "metadata": {
        "colab": {
          "base_uri": "https://localhost:8080/"
        },
        "id": "tDeyGezFQhEC",
        "outputId": "fe699cce-b77f-4405-a149-8e0425a7d5d1"
      },
      "source": [
        "arr = np.array([10, 15, 20, 25, 30, 35, 40])\n",
        "\n",
        "print(arr[1:4])"
      ],
      "execution_count": null,
      "outputs": [
        {
          "output_type": "stream",
          "name": "stdout",
          "text": [
            "[15 20 25]\n"
          ]
        }
      ]
    },
    {
      "cell_type": "markdown",
      "metadata": {
        "id": "YA7KqmiDRlv4"
      },
      "source": [
        "#Inserte la sintaxis de corte correcta para imprimir la siguiente selección de la matriz:\n",
        "\n",
        "Todo desde (incluido) el tercer elemento hasta (sin incluir) el quinto elemento."
      ]
    },
    {
      "cell_type": "code",
      "metadata": {
        "colab": {
          "base_uri": "https://localhost:8080/"
        },
        "id": "0N1kTfUGRoKV",
        "outputId": "7e978956-60d2-4353-8403-33151afb95ad"
      },
      "source": [
        "arr = np.array([10, 15, 20, 25, 30, 35, 40])\n",
        "\n",
        "print(arr[2:4])"
      ],
      "execution_count": null,
      "outputs": [
        {
          "output_type": "stream",
          "name": "stdout",
          "text": [
            "[20 25]\n"
          ]
        }
      ]
    },
    {
      "cell_type": "markdown",
      "metadata": {
        "id": "_VN6JRsaSmBZ"
      },
      "source": [
        "Inserte la sintaxis de corte correcta para imprimir la siguiente selección de la matriz:\n",
        "\n",
        "Cada otro elemento desde (incluido) el segundo elemento hasta (sin incluir) el quinto elemento.\n",
        "\n",
        "Consejo: utilice la sintaxis de pasos."
      ]
    },
    {
      "cell_type": "code",
      "metadata": {
        "colab": {
          "base_uri": "https://localhost:8080/"
        },
        "id": "oQ5tjjJJSmmC",
        "outputId": "8caa85b0-6323-4236-858d-4972e5a7db5d"
      },
      "source": [
        "arr = np.array([10, 15, 20, 25, 30, 35, 40])\n",
        "\n",
        "print(arr[2:7:4]) # 1er dato donde inicia, 2do dato hasta donde va y 3er dato el salto entre numeros del arreglo"
      ],
      "execution_count": null,
      "outputs": [
        {
          "output_type": "stream",
          "name": "stdout",
          "text": [
            "[20 40]\n"
          ]
        }
      ]
    },
    {
      "cell_type": "markdown",
      "metadata": {
        "id": "2O1igWoYUFjl"
      },
      "source": [
        "Inserte la sintaxis de corte correcta para imprimir la siguiente selección de la matriz:\n",
        "\n",
        "Todos los demás elementos de toda la matriz.\n",
        "\n",
        "Consejo: utilice la sintaxis de pasos."
      ]
    },
    {
      "cell_type": "code",
      "metadata": {
        "colab": {
          "base_uri": "https://localhost:8080/"
        },
        "id": "e6cAZdX-UGB3",
        "outputId": "999cb014-6741-4ad9-f059-57465c8aa2d9"
      },
      "source": [
        "arr = np.array([10, 15, 20, 25, 30, 35, 40]) # arranca en la posición 1 y se va de dos en dos\n",
        "\n",
        "print(arr[1::2])"
      ],
      "execution_count": null,
      "outputs": [
        {
          "output_type": "stream",
          "name": "stdout",
          "text": [
            "[15 25 35]\n"
          ]
        }
      ]
    },
    {
      "cell_type": "code",
      "metadata": {
        "colab": {
          "base_uri": "https://localhost:8080/"
        },
        "id": "uNqZLg_qVO9v",
        "outputId": "91b99706-f799-4546-b5db-cc033f3266c6"
      },
      "source": [
        "arr = np.array([10, 15, 20, 25, 30, 35, 40]) # arranca en posicion cero y se va de dos en dos\n",
        "\n",
        "print(arr[::2])"
      ],
      "execution_count": null,
      "outputs": [
        {
          "output_type": "stream",
          "name": "stdout",
          "text": [
            "[10 20 30 40]\n"
          ]
        }
      ]
    },
    {
      "cell_type": "code",
      "metadata": {
        "colab": {
          "base_uri": "https://localhost:8080/"
        },
        "id": "i_m7wAAaVxBO",
        "outputId": "68e30a5d-46e1-4848-8630-7de74a299da7"
      },
      "source": [
        "arr = np.array([1, 2, 3, 4]) \n",
        "\n",
        "print(arr.dtype) # ver el tipo de dato"
      ],
      "execution_count": null,
      "outputs": [
        {
          "output_type": "stream",
          "name": "stdout",
          "text": [
            "int64\n"
          ]
        }
      ]
    },
    {
      "cell_type": "code",
      "metadata": {
        "colab": {
          "base_uri": "https://localhost:8080/"
        },
        "id": "Pb3FzSO6WXow",
        "outputId": "6beba560-d924-4879-c996-bfd709905620"
      },
      "source": [
        "arr = np.array([1, 2, 3, 4], dtype='S')\n",
        "print(arr)"
      ],
      "execution_count": null,
      "outputs": [
        {
          "output_type": "stream",
          "name": "stdout",
          "text": [
            "[b'1' b'2' b'3' b'4']\n"
          ]
        }
      ]
    },
    {
      "cell_type": "code",
      "metadata": {
        "colab": {
          "base_uri": "https://localhost:8080/"
        },
        "id": "QszoKBNjW4d6",
        "outputId": "bcdf41aa-53c6-42af-a553-08110ebef0a9"
      },
      "source": [
        "arr = np.array([1.1, 2.1, 3.1]) \n",
        "newarr = arr.astype('i') #Inserte el método correcto para cambiar el tipo de datos a entero.\n",
        "print(\"Decimales\",arr)\n",
        "print(\"A enteros\",newarr)\n"
      ],
      "execution_count": null,
      "outputs": [
        {
          "output_type": "stream",
          "name": "stdout",
          "text": [
            "Decimales [1.1 2.1 3.1]\n",
            "A enteros [1 2 3]\n"
          ]
        }
      ]
    },
    {
      "cell_type": "code",
      "metadata": {
        "colab": {
          "base_uri": "https://localhost:8080/"
        },
        "id": "d0fI6-lvYErU",
        "outputId": "6825bd61-27d6-425b-e288-715f898a00b1"
      },
      "source": [
        "arr = np.array([1, 2, 3, 4, 5])\n",
        "\n",
        "x = arr.copy() # método para copiar un arreglo\n",
        "\n",
        "print(arr)\n",
        "print(x)\n"
      ],
      "execution_count": null,
      "outputs": [
        {
          "output_type": "stream",
          "name": "stdout",
          "text": [
            "[1 2 3 4 5]\n",
            "[1 2 3 4 5]\n"
          ]
        }
      ]
    },
    {
      "cell_type": "code",
      "metadata": {
        "colab": {
          "base_uri": "https://localhost:8080/"
        },
        "id": "nWDniBJ6YWyR",
        "outputId": "238e2e23-a938-46e1-e8e3-8e868d50e792"
      },
      "source": [
        "arr = np.array([1, 2, 3, 4, 5])\n",
        "\n",
        "x = arr.view() # el método correcto para hacer una vista de la matriz.\n",
        "\n",
        "print(x)\n"
      ],
      "execution_count": null,
      "outputs": [
        {
          "output_type": "stream",
          "name": "stdout",
          "text": [
            "[1 2 3 4 5]\n"
          ]
        }
      ]
    },
    {
      "cell_type": "code",
      "metadata": {
        "colab": {
          "base_uri": "https://localhost:8080/"
        },
        "id": "5QYzZtdcY2Xk",
        "outputId": "d5fadb31-1aa9-4930-f6e9-c903357f4ccc"
      },
      "source": [
        "arr = np.array([1, 2, 3, 4, 5, 6])\n",
        "\n",
        "print(\"la matriz tiene\",arr.shape, \"elementos\") # metodo para comprobar la cantidad de elementos de una matriz"
      ],
      "execution_count": null,
      "outputs": [
        {
          "output_type": "stream",
          "name": "stdout",
          "text": [
            "la matriz tiene (6,) elementos\n"
          ]
        }
      ]
    },
    {
      "cell_type": "code",
      "metadata": {
        "colab": {
          "base_uri": "https://localhost:8080/"
        },
        "id": "X7BtpODcZiSZ",
        "outputId": "dfdcd623-73cc-4ca4-ec3f-c8b1c1705137"
      },
      "source": [
        "arr = np.array([1, 2, 3, 4, 5, 6, 7, 8, 9, 10, 11, 12])\n",
        "\n",
        "newarr = arr.reshape(4, 3) #método para remodelar el arreglo\n",
        "print(arr)\n",
        "print(\"\")\n",
        "print(newarr,\"  3 columnas y 4 filas\")"
      ],
      "execution_count": null,
      "outputs": [
        {
          "output_type": "stream",
          "name": "stdout",
          "text": [
            "[ 1  2  3  4  5  6  7  8  9 10 11 12]\n",
            "\n",
            "[[ 1  2  3]\n",
            " [ 4  5  6]\n",
            " [ 7  8  9]\n",
            " [10 11 12]]   3 columnas y 4 filas\n"
          ]
        }
      ]
    },
    {
      "cell_type": "code",
      "metadata": {
        "colab": {
          "base_uri": "https://localhost:8080/"
        },
        "id": "iryfH0dAaj6D",
        "outputId": "09708b69-237b-476b-ec05-2f0b340a8522"
      },
      "source": [
        "arr = np.array([1, 2, 3, 4, 5, 6, 7, 8, 9, 10, 11, 12], ndmin=3)\n",
        "\n",
        "newarr = arr.reshape(-1) # cambiar de 3d a 1d\n",
        "print(arr, \"  en 3D\")\n",
        "print(\"\")\n",
        "print(newarr,\"  en 1D\")\n"
      ],
      "execution_count": null,
      "outputs": [
        {
          "output_type": "stream",
          "name": "stdout",
          "text": [
            "[[[ 1  2  3  4  5  6  7  8  9 10 11 12]]]   en 3D\n",
            "\n",
            "[ 1  2  3  4  5  6  7  8  9 10 11 12]   en 1D\n"
          ]
        }
      ]
    },
    {
      "cell_type": "markdown",
      "metadata": {
        "id": "_5eQq2Z_i4-r"
      },
      "source": [
        "# PANDAS"
      ]
    },
    {
      "cell_type": "code",
      "metadata": {
        "colab": {
          "base_uri": "https://localhost:8080/"
        },
        "id": "TmSrbtI-i8ZT",
        "outputId": "d38cfee6-46e2-41d5-ea26-4e0c8c0c2912"
      },
      "source": [
        "pip install pandas"
      ],
      "execution_count": 81,
      "outputs": [
        {
          "output_type": "stream",
          "name": "stdout",
          "text": [
            "Requirement already satisfied: pandas in /usr/local/lib/python3.7/dist-packages (1.1.5)\n",
            "Requirement already satisfied: pytz>=2017.2 in /usr/local/lib/python3.7/dist-packages (from pandas) (2018.9)\n",
            "Requirement already satisfied: python-dateutil>=2.7.3 in /usr/local/lib/python3.7/dist-packages (from pandas) (2.8.2)\n",
            "Requirement already satisfied: numpy>=1.15.4 in /usr/local/lib/python3.7/dist-packages (from pandas) (1.19.5)\n",
            "Requirement already satisfied: six>=1.5 in /usr/local/lib/python3.7/dist-packages (from python-dateutil>=2.7.3->pandas) (1.15.0)\n"
          ]
        }
      ]
    },
    {
      "cell_type": "code",
      "metadata": {
        "colab": {
          "base_uri": "https://localhost:8080/"
        },
        "id": "NV0ckjEljHRz",
        "outputId": "2d9b255b-0299-46dc-b972-75e854c8b40a"
      },
      "source": [
        "import pandas as pd # importar el método pandas\n",
        "\n",
        "col = pd.Series([1,2,3])\n",
        "\n",
        "print(col)\n",
        "print(\"\")\n",
        "\n",
        "import numpy as np\n",
        "from numpy import random  #importar el método random\n",
        "\n",
        "col2 = pd.Series(random.rand(5))\n",
        "print(col2)\n"
      ],
      "execution_count": 98,
      "outputs": [
        {
          "output_type": "stream",
          "name": "stdout",
          "text": [
            "0    1\n",
            "1    2\n",
            "2    3\n",
            "dtype: int64\n",
            "\n",
            "0    0.128942\n",
            "1    0.778461\n",
            "2    0.355399\n",
            "3    0.844690\n",
            "4    0.859128\n",
            "dtype: float64\n"
          ]
        }
      ]
    },
    {
      "cell_type": "markdown",
      "metadata": {
        "id": "pHHJ4k_5qRQi"
      },
      "source": [
        "# dataframes"
      ]
    },
    {
      "cell_type": "code",
      "metadata": {
        "colab": {
          "base_uri": "https://localhost:8080/"
        },
        "id": "hiYsLgpcqWn7",
        "outputId": "214c00c0-7252-417b-978a-464fc358a6e1"
      },
      "source": [
        "df = pd.DataFrame ({\"nombre\": [\"andres\", \"mitch\", \"kathe\"], \"notas\": [5, 4, 3]})\n",
        "\n",
        "print(df)"
      ],
      "execution_count": 100,
      "outputs": [
        {
          "output_type": "stream",
          "name": "stdout",
          "text": [
            "   nombre  notas\n",
            "0  andres      5\n",
            "1   mitch      4\n",
            "2   kathe      3\n"
          ]
        }
      ]
    }
  ]
}