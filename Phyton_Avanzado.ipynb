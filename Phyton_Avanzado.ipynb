{
  "nbformat": 4,
  "nbformat_minor": 0,
  "metadata": {
    "colab": {
      "name": "Phyton Avanzado.ipynb",
      "provenance": [],
      "collapsed_sections": []
    },
    "kernelspec": {
      "name": "python3",
      "display_name": "Python 3"
    },
    "language_info": {
      "name": "python"
    }
  },
  "cells": [
    {
      "cell_type": "markdown",
      "metadata": {
        "id": "qlFpxbYTY1xq"
      },
      "source": [
        "NUMPY MATRIZ IMPORTANDO MODULO:\n",
        "\n",
        "pip install numpy: para instalar el paquete, solo se hace una vez\n",
        "import numpy as np: ya instalado podemos importarlo con el alias np, cada vez que se necesite utilizar el metodo o modulo\n",
        "from numpy import random: generar datos aleatorios"
      ]
    },
    {
      "cell_type": "code",
      "metadata": {
        "colab": {
          "base_uri": "https://localhost:8080/"
        },
        "id": "ygDL6ZtsJitg",
        "outputId": "1eed730f-9065-4f02-ecfd-18f0836b1bf8"
      },
      "source": [
        "import numpy as np\n",
        "arr = np.array(78) # array 0-D \n",
        "print(arr)\n",
        "print(\"Dimensiones=\", arr.ndim)"
      ],
      "execution_count": null,
      "outputs": [
        {
          "output_type": "stream",
          "name": "stdout",
          "text": [
            "78\n",
            "Dimensiones= 0\n"
          ]
        }
      ]
    },
    {
      "cell_type": "code",
      "metadata": {
        "colab": {
          "base_uri": "https://localhost:8080/"
        },
        "id": "-JkKMIW65k7e",
        "outputId": "b316c03f-d69b-40ad-f2c7-b5c0587144e5"
      },
      "source": [
        "lista = [1,2,3,4,5,6,7]\n",
        "arreglo = np.array(lista)\n",
        "\n",
        "print (lista)\n",
        "# arreglo es como una forma de matriz de vectores\n",
        "print (arreglo)"
      ],
      "execution_count": null,
      "outputs": [
        {
          "output_type": "stream",
          "name": "stdout",
          "text": [
            "[1, 2, 3, 4, 5, 6, 7]\n",
            "[1 2 3 4 5 6 7]\n"
          ]
        }
      ]
    },
    {
      "cell_type": "code",
      "metadata": {
        "id": "4HfJUXhSYrKW"
      },
      "source": [
        "import numpy as np #importamos el método numpy"
      ],
      "execution_count": null,
      "outputs": []
    },
    {
      "cell_type": "markdown",
      "metadata": {
        "id": "NL8f_ael_wWW"
      },
      "source": [
        "CREACION DE arrays con RANDOM"
      ]
    },
    {
      "cell_type": "code",
      "metadata": {
        "id": "LBptbYYJxACz",
        "colab": {
          "base_uri": "https://localhost:8080/"
        },
        "outputId": "908e317b-ac3c-49f2-cf2d-a0f3aaa887db"
      },
      "source": [
        "import numpy as np\n",
        "from numpy import random # random: no se pueden predecir son aleatorios se debe especificar el SIZE en forma de dupla ()\n",
        "\n",
        "arr1 = random.randint(100, size=(2,3)) #LA TUPLA ES (fila, columna)\n",
        "# randint matrices con valores numericos enteros\n",
        "print(arr1)\n",
        "print(\"Dimensiones=\", arr1.ndim)\n",
        "print(\"Cuantos elementos tiene =\", arr1.shape)\n",
        "print(\"me muestra el valor del array=\", arr1[0,2])# es la forma de recorrer el array y traer los datos \n",
        "print(\"me muestra el valor del array=\", arr1[1,2])"
      ],
      "execution_count": null,
      "outputs": [
        {
          "output_type": "stream",
          "name": "stdout",
          "text": [
            "[[17 30 18]\n",
            " [25 54 73]]\n",
            "Dimensiones= 2\n",
            "Cuantos elementos tiene = (2, 3)\n",
            "me muestra el valor del array= 18\n",
            "me muestra el valor del array= 73\n"
          ]
        }
      ]
    },
    {
      "cell_type": "code",
      "metadata": {
        "colab": {
          "base_uri": "https://localhost:8080/"
        },
        "id": "rwVBGYKiGyNl",
        "outputId": "0abe9511-0dda-4924-c7b0-ab7d04491943"
      },
      "source": [
        "arr2 = random.rand(3,3) # hasta el numero que el debe seleccionar este seria un array 1-D = unidemensional\n",
        "# rand para valores numericos con decimales\n",
        "print(arr2)\n",
        "print(\"Dimensiones=\", arr2.ndim)\n",
        "print(\"Cuantos elementos tiene =\", arr2.shape)\n",
        "print(\"me muestra un valor en la posición de dicho array=\", arr2[0,0])"
      ],
      "execution_count": null,
      "outputs": [
        {
          "output_type": "stream",
          "name": "stdout",
          "text": [
            "[[0.27567811 0.48128514 0.63794252]\n",
            " [0.1285024  0.17051793 0.05855639]\n",
            " [0.92820941 0.31368009 0.54511066]]\n",
            "Dimensiones= 2\n",
            "Cuantos elementos tiene = (3, 3)\n",
            "me muestra un valor en la posición de dicho array= 0.27567811219334626\n"
          ]
        }
      ]
    },
    {
      "cell_type": "code",
      "metadata": {
        "colab": {
          "base_uri": "https://localhost:8080/"
        },
        "id": "oyWSZQoW-Z9H",
        "outputId": "1d846f18-e38f-489c-f327-1096da566f32"
      },
      "source": [
        "arr3 = random.rand(5) # hasta el numero que el debe seleccionar, DIMENSIONES = 2-D\n",
        "# rand para valores numericos con decimales\n",
        "print(arr3)\n",
        "print(\"Dimensiones=\", arr3.ndim)\n",
        "print(\"Cuantos elementos tiene =\", arr3.shape)\n",
        "print(\"me muestra un valor en la posición de dicho array=\", arr3[0])\n",
        "print(\"me muestra un valor en la posición de dicho array=\", arr3[1])\n",
        "print(\"me muestra el valor de la fila del array=\", arr3[1])\n",
        "print(\"me muestra las posiciones =\", arr3[0:3]) #slyer\n",
        "print(\"me muestra las posiciones saltadas =\", arr3[0:4:2]) #slyer\n",
        "print(\"me muestra el último valor del array=\", arr3[-1])"
      ],
      "execution_count": null,
      "outputs": [
        {
          "output_type": "stream",
          "name": "stdout",
          "text": [
            "[0.86548893 0.05146784 0.22458739 0.50364981 0.31695884]\n",
            "Dimensiones= 1\n",
            "Cuantos elementos tiene = (5,)\n",
            "me muestra un valor en la posición de dicho array= 0.865488932481187\n",
            "me muestra un valor en la posición de dicho array= 0.051467844963127174\n",
            "me muestra el valor de la fila del array= 0.051467844963127174\n",
            "me muestra las posiciones = [0.86548893 0.05146784 0.22458739]\n",
            "me muestra las posiciones saltadas = [0.86548893 0.22458739]\n",
            "me muestra el último valor del array= 0.31695883574409367\n"
          ]
        }
      ]
    },
    {
      "cell_type": "code",
      "metadata": {
        "colab": {
          "base_uri": "https://localhost:8080/"
        },
        "id": "freXRh93-dgG",
        "outputId": "3da8cc12-77d2-4f19-dc7c-a6ffd0f44e44"
      },
      "source": [
        "arr4 = random.choice([1,2,54,9], p=[0.1,0.5,0.3,0.1], size=(5,5)) #array unidemensional\n",
        "#choice para selecci10onar unos valores desde un listado\n",
        "#p = la probabilidad que tiene cada uno de los datos del array\n",
        "print(arr4)\n",
        "print(\"Dimensiones=\", arr4.ndim)"
      ],
      "execution_count": null,
      "outputs": [
        {
          "output_type": "stream",
          "name": "stdout",
          "text": [
            "[[ 9  2  9 54  1]\n",
            " [ 2  2  2  9  2]\n",
            " [ 2  2 54  2  2]\n",
            " [ 2  2  1  2  2]\n",
            " [ 2  2  9  1 54]]\n",
            "Dimensiones= 2\n"
          ]
        }
      ]
    },
    {
      "cell_type": "code",
      "metadata": {
        "colab": {
          "base_uri": "https://localhost:8080/"
        },
        "id": "9AgpMzm_Qcn2",
        "outputId": "50ab15ed-e50a-40f2-9748-9178cd4b9afb"
      },
      "source": [
        "print(\"array\")\n",
        "print(arr)\n",
        "print(\"Dimensiones=\", arr.ndim)\n",
        "print(\"Cuantos elementos tiene =\", arr.shape)\n",
        "print(\" \")\n",
        "print(\"array 1\")\n",
        "print(arr1)\n",
        "print(\"Dimensiones=\", arr1.ndim)\n",
        "print(\"Cuantos elementos tiene =\", arr1.shape)\n",
        "print(\"me muestra el valor fila cero columna 2 del array=\", arr1[0,2])# es la forma de recorrer el array y traer los datos \n",
        "print(\"me muestra el valor fila uno columna 2 del array=\", arr1[1,2])\n",
        "\n",
        "print(\" \")\n",
        "print(\"array 2\")\n",
        "print(arr2)\n",
        "print(\"Dimensiones=\", arr2.ndim)\n",
        "print(\"Cuantos elementos tiene =\", arr2.shape)\n",
        "print(\"me muestra un valor en la posición de dicho array=\", arr2[0,0])\n",
        "print(\" \")\n",
        "print(\"array 3\")\n",
        "print(arr3)\n",
        "print(\"Dimensiones=\", arr3.ndim)\n",
        "print(\"Cuantos elementos tiene =\", arr3.shape)\n",
        "print(\"me muestra un valor en la posición cero de dicho array=\", arr3[0])\n",
        "print(\"me muestra un valor en la posición uno de dicho array=\", arr3[1])\n",
        "print(\"me muestra el valor de la fila del array=\", arr3[1])\n",
        "print(\"me muestra las posiciones =\", arr3[0:3]) #slyer\n",
        "print(\"me muestra las posiciones saltadas =\", arr3[0:4:2]) #slyer\n",
        "print(\"me muestra el último valor del array=\", arr3[-1])"
      ],
      "execution_count": null,
      "outputs": [
        {
          "output_type": "stream",
          "name": "stdout",
          "text": [
            "array\n",
            "78\n",
            "Dimensiones= 0\n",
            "Cuantos elementos tiene = ()\n",
            " \n",
            "array 1\n",
            "[[15  1 67]\n",
            " [51 25 33]]\n",
            "Dimensiones= 2\n",
            "Cuantos elementos tiene = (2, 3)\n",
            "me muestra el valor fila cero columna 2 del array= 67\n",
            "me muestra el valor fila uno columna 2 del array= 33\n",
            " \n",
            "array 2\n",
            "[[0.27567811 0.48128514 0.63794252]\n",
            " [0.1285024  0.17051793 0.05855639]\n",
            " [0.92820941 0.31368009 0.54511066]]\n",
            "Dimensiones= 2\n",
            "Cuantos elementos tiene = (3, 3)\n",
            "me muestra un valor en la posición de dicho array= 0.27567811219334626\n",
            " \n",
            "array 3\n",
            "[0.86548893 0.05146784 0.22458739 0.50364981 0.31695884]\n",
            "Dimensiones= 1\n",
            "Cuantos elementos tiene = (5,)\n",
            "me muestra un valor en la posición cero de dicho array= 0.865488932481187\n",
            "me muestra un valor en la posición uno de dicho array= 0.051467844963127174\n",
            "me muestra el valor de la fila del array= 0.051467844963127174\n",
            "me muestra las posiciones = [0.86548893 0.05146784 0.22458739]\n",
            "me muestra las posiciones saltadas = [0.86548893 0.22458739]\n",
            "me muestra el último valor del array= 0.31695883574409367\n"
          ]
        }
      ]
    },
    {
      "cell_type": "code",
      "metadata": {
        "colab": {
          "base_uri": "https://localhost:8080/"
        },
        "id": "udL8e6g4bKFz",
        "outputId": "e81b6774-1724-48c1-f47b-1680946fc458"
      },
      "source": [
        "print(arr1.dtype)\n",
        "print(arr3.dtype)\n",
        "print(arr1.shape)\n",
        "print(arr3.shape)\n",
        "print(\"\")\n",
        "arr3_s = arr3.astype('S')\n",
        "print(\"ANTES=\", arr3.dtype, arr3)\n",
        "print(\"AHORA=\",arr3_s.dtype, arr3_s)\n",
        "print(\"Cuantos elementos tiene =\", arr3_s.shape)\n",
        "print(\"\")\n",
        "print(arr1.shape)\n",
        "print(arr1)\n",
        "print(\"haciendo un reshape\")\n",
        "print(arr1.reshape(3,2))"
      ],
      "execution_count": null,
      "outputs": [
        {
          "output_type": "stream",
          "name": "stdout",
          "text": [
            "int64\n",
            "float64\n",
            "(2, 3)\n",
            "(5,)\n",
            "\n",
            "ANTES= float64 [0.86548893 0.05146784 0.22458739 0.50364981 0.31695884]\n",
            "AHORA= |S32 [b'0.865488932481187' b'0.051467844963127174' b'0.2245873945431427'\n",
            " b'0.5036498074689191' b'0.31695883574409367']\n",
            "Cuantos elementos tiene = (5,)\n",
            "\n",
            "(2, 3)\n",
            "[[15  1 67]\n",
            " [51 25 33]]\n",
            "haciendo un reshape\n",
            "[[15  1]\n",
            " [67 51]\n",
            " [25 33]]\n"
          ]
        }
      ]
    },
    {
      "cell_type": "markdown",
      "metadata": {
        "id": "atlOlm1DwfpR"
      },
      "source": [
        "OPERACIONES ARITMETICAS CON ARRAY"
      ]
    },
    {
      "cell_type": "code",
      "metadata": {
        "colab": {
          "base_uri": "https://localhost:8080/"
        },
        "id": "9ohpLjFkwj78",
        "outputId": "1f8468a1-2c3f-4b69-e336-e7c6bd05fa20"
      },
      "source": [
        "m = random.randint(10, size=(3,5)) # DEBEN SER IGUALES\n",
        "n = random.randint(10, size=(3,5))\n",
        "\n",
        "print(m)\n",
        "print(n)\n",
        "print(\"\")\n",
        "print(\"SUMA\")\n",
        "print(m+n)\n",
        "print(\"\")\n",
        "print(\"MULTIPLICACION\")\n",
        "print(m*n)"
      ],
      "execution_count": null,
      "outputs": [
        {
          "output_type": "stream",
          "name": "stdout",
          "text": [
            "[[2 9 0 5 5]\n",
            " [8 5 1 1 7]\n",
            " [6 4 8 4 2]]\n",
            "[[9 0 5 7 2]\n",
            " [0 3 6 3 8]\n",
            " [4 2 2 8 6]]\n",
            "\n",
            "SUMA\n",
            "[[11  9  5 12  7]\n",
            " [ 8  8  7  4 15]\n",
            " [10  6 10 12  8]]\n",
            "\n",
            "MULTIPLICACION\n",
            "[[18  0  0 35 10]\n",
            " [ 0 15  6  3 56]\n",
            " [24  8 16 32 12]]\n"
          ]
        }
      ]
    },
    {
      "cell_type": "markdown",
      "metadata": {
        "id": "PCOaQMUbz0jZ"
      },
      "source": [
        "OPERACIONES CON ARRAY: SEPARAR Y ORDENAR"
      ]
    },
    {
      "cell_type": "code",
      "metadata": {
        "colab": {
          "base_uri": "https://localhost:8080/"
        },
        "id": "_j_-Hf2Kz4Nq",
        "outputId": "328b744c-3aa3-412f-f6ac-14a3fdfd965e"
      },
      "source": [
        "newarr = np.array_split(m,3) # separar es la operación inversa de unir con array_split divide las filas\n",
        "print(newarr)"
      ],
      "execution_count": null,
      "outputs": [
        {
          "output_type": "stream",
          "name": "stdout",
          "text": [
            "[array([[2, 9, 0, 5, 5]]), array([[8, 5, 1, 1, 7]]), array([[6, 4, 8, 4, 2]])]\n"
          ]
        }
      ]
    },
    {
      "cell_type": "code",
      "metadata": {
        "colab": {
          "base_uri": "https://localhost:8080/"
        },
        "id": "pjoEGzc30ck8",
        "outputId": "73e005f0-07c6-46fe-8baf-4d3006117835"
      },
      "source": [
        "newarr = np.sort(m) # ordenar de mayor a menor los datos del array\n",
        "print(\"antes\")\n",
        "print(m)\n",
        "print(\"después\")\n",
        "print(newarr)"
      ],
      "execution_count": null,
      "outputs": [
        {
          "output_type": "stream",
          "name": "stdout",
          "text": [
            "antes\n",
            "[[2 9 0 5 5]\n",
            " [8 5 1 1 7]\n",
            " [6 4 8 4 2]]\n",
            "después\n",
            "[[0 2 5 5 9]\n",
            " [1 1 5 7 8]\n",
            " [2 4 4 6 8]]\n"
          ]
        }
      ]
    },
    {
      "cell_type": "markdown",
      "metadata": {
        "id": "QaJ_4ulU1TYg"
      },
      "source": [
        "OPERACIONES ARRAY: CONCATENAR Y APILAR"
      ]
    },
    {
      "cell_type": "code",
      "metadata": {
        "colab": {
          "base_uri": "https://localhost:8080/"
        },
        "id": "ku5S0GOT1YUf",
        "outputId": "01d3be5e-fdbb-4eb5-c0a3-10810e8d757d"
      },
      "source": [
        "newarr = np.concatenate((m,n), axis =1) # concatenar dos arreglos en uno solo\n",
        "print(\"antes\")\n",
        "print(m)\n",
        "print(n)\n",
        "print(\"después concatenado\")\n",
        "print(newarr)"
      ],
      "execution_count": null,
      "outputs": [
        {
          "output_type": "stream",
          "name": "stdout",
          "text": [
            "antes\n",
            "[[2 9 0 5 5]\n",
            " [8 5 1 1 7]\n",
            " [6 4 8 4 2]]\n",
            "[[9 0 5 7 2]\n",
            " [0 3 6 3 8]\n",
            " [4 2 2 8 6]]\n",
            "después concatenado\n",
            "[[2 9 0 5 5 9 0 5 7 2]\n",
            " [8 5 1 1 7 0 3 6 3 8]\n",
            " [6 4 8 4 2 4 2 2 8 6]]\n"
          ]
        }
      ]
    },
    {
      "cell_type": "code",
      "metadata": {
        "colab": {
          "base_uri": "https://localhost:8080/"
        },
        "id": "LqdL9neU18J2",
        "outputId": "5cfbe529-0cfb-4c6d-890c-b16bc8a5c539"
      },
      "source": [
        "newarr2 = np.stack((m,n), axis =1) # apilar unir en diferente eje con stack\n",
        "print(\"antes\")\n",
        "print(m)\n",
        "print(n)\n",
        "print(\"después apilado\")\n",
        "print(newarr2)"
      ],
      "execution_count": null,
      "outputs": [
        {
          "output_type": "stream",
          "name": "stdout",
          "text": [
            "antes\n",
            "[[2 9 0 5 5]\n",
            " [8 5 1 1 7]\n",
            " [6 4 8 4 2]]\n",
            "[[9 0 5 7 2]\n",
            " [0 3 6 3 8]\n",
            " [4 2 2 8 6]]\n",
            "después apilado\n",
            "[[[2 9 0 5 5]\n",
            "  [9 0 5 7 2]]\n",
            "\n",
            " [[8 5 1 1 7]\n",
            "  [0 3 6 3 8]]\n",
            "\n",
            " [[6 4 8 4 2]\n",
            "  [4 2 2 8 6]]]\n"
          ]
        }
      ]
    },
    {
      "cell_type": "markdown",
      "metadata": {
        "id": "-Yr2AIUb3Huz"
      },
      "source": [
        "OPERACIONES CON ARRAYS: FILTRAR Y BUSCAR"
      ]
    },
    {
      "cell_type": "code",
      "metadata": {
        "colab": {
          "base_uri": "https://localhost:8080/"
        },
        "id": "70NoWEWz3Mdw",
        "outputId": "5b748eeb-c1a5-4ed7-ce48-e12741fbbc9e"
      },
      "source": [
        "arr3 = np.array([41,42,43,44]) # filtrando\n",
        "filter_arr3 = arr3 > 42\n",
        "newarr3 = arr3[filter_arr3]\n",
        "print(\"antes\")\n",
        "print(arr3)\n",
        "print(\"filtrando mayores de 42\")\n",
        "print(newarr3)"
      ],
      "execution_count": null,
      "outputs": [
        {
          "output_type": "stream",
          "name": "stdout",
          "text": [
            "antes\n",
            "[41 42 43 44]\n",
            "filtrando mayores de 42\n",
            "[43 44]\n"
          ]
        }
      ]
    },
    {
      "cell_type": "code",
      "metadata": {
        "colab": {
          "base_uri": "https://localhost:8080/"
        },
        "id": "VUre6Jkn4P31",
        "outputId": "9b326403-3b5c-4d4a-a195-f922449fc410"
      },
      "source": [
        "arr3 = np.array([5,6,7,48]) # filtrando\n",
        "x = np.where(arr3 == 48)\n",
        "print(\"arreglo\")\n",
        "print(arr3)\n",
        "print(\"filtrando 48:\")\n",
        "print(\"esta en la posición\", x)\n",
        "print(\"el valor es\", arr3[x])\n",
        "print(\"\")\n",
        "x2 = np.where(arr3 <= 10)\n",
        "print(\"esta en la posición\", x2)\n",
        "print(\"el valor es\", arr3[x2])"
      ],
      "execution_count": null,
      "outputs": [
        {
          "output_type": "stream",
          "name": "stdout",
          "text": [
            "arreglo\n",
            "[ 5  6  7 48]\n",
            "filtrando 48:\n",
            "esta en la posición (array([3]),)\n",
            "el valor es [48]\n",
            "\n",
            "esta en la posición (array([0, 1, 2]),)\n",
            "el valor es [5 6 7]\n"
          ]
        }
      ]
    },
    {
      "cell_type": "markdown",
      "metadata": {
        "id": "uQt_t4ahRQz-"
      },
      "source": [
        "#Insert the correct argument for creating a NumPy array with 2 dimensions."
      ]
    },
    {
      "cell_type": "markdown",
      "metadata": {
        "id": "a6qLe27JRSP3"
      },
      "source": [
        ""
      ]
    },
    {
      "cell_type": "code",
      "metadata": {
        "colab": {
          "base_uri": "https://localhost:8080/"
        },
        "id": "8if8fAP1OPTO",
        "outputId": "94d0f85a-46de-46d1-bb84-97be58934791"
      },
      "source": [
        "arr = np.array([1, 2, 3, 4], ndmin=2) \n",
        "print(arr)"
      ],
      "execution_count": null,
      "outputs": [
        {
          "output_type": "stream",
          "name": "stdout",
          "text": [
            "[[1 2 3 4]]\n"
          ]
        }
      ]
    },
    {
      "cell_type": "markdown",
      "metadata": {
        "id": "Ap14sBscRGHZ"
      },
      "source": [
        "#Inserte la sintaxis de corte correcta para imprimir la siguiente selección de la matriz:\n",
        "\n",
        "Todo desde (incluido) el segundo elemento hasta (sin incluir) el quinto elemento."
      ]
    },
    {
      "cell_type": "code",
      "metadata": {
        "colab": {
          "base_uri": "https://localhost:8080/"
        },
        "id": "tDeyGezFQhEC",
        "outputId": "fe699cce-b77f-4405-a149-8e0425a7d5d1"
      },
      "source": [
        "arr = np.array([10, 15, 20, 25, 30, 35, 40])\n",
        "\n",
        "print(arr[1:4])"
      ],
      "execution_count": null,
      "outputs": [
        {
          "output_type": "stream",
          "name": "stdout",
          "text": [
            "[15 20 25]\n"
          ]
        }
      ]
    },
    {
      "cell_type": "markdown",
      "metadata": {
        "id": "YA7KqmiDRlv4"
      },
      "source": [
        "#Inserte la sintaxis de corte correcta para imprimir la siguiente selección de la matriz:\n",
        "\n",
        "Todo desde (incluido) el tercer elemento hasta (sin incluir) el quinto elemento."
      ]
    },
    {
      "cell_type": "code",
      "metadata": {
        "colab": {
          "base_uri": "https://localhost:8080/"
        },
        "id": "0N1kTfUGRoKV",
        "outputId": "7e978956-60d2-4353-8403-33151afb95ad"
      },
      "source": [
        "arr = np.array([10, 15, 20, 25, 30, 35, 40])\n",
        "\n",
        "print(arr[2:4])"
      ],
      "execution_count": null,
      "outputs": [
        {
          "output_type": "stream",
          "name": "stdout",
          "text": [
            "[20 25]\n"
          ]
        }
      ]
    },
    {
      "cell_type": "markdown",
      "metadata": {
        "id": "_VN6JRsaSmBZ"
      },
      "source": [
        "Inserte la sintaxis de corte correcta para imprimir la siguiente selección de la matriz:\n",
        "\n",
        "Cada otro elemento desde (incluido) el segundo elemento hasta (sin incluir) el quinto elemento.\n",
        "\n",
        "Consejo: utilice la sintaxis de pasos."
      ]
    },
    {
      "cell_type": "code",
      "metadata": {
        "colab": {
          "base_uri": "https://localhost:8080/"
        },
        "id": "oQ5tjjJJSmmC",
        "outputId": "8caa85b0-6323-4236-858d-4972e5a7db5d"
      },
      "source": [
        "arr = np.array([10, 15, 20, 25, 30, 35, 40])\n",
        "\n",
        "print(arr[2:7:4]) # 1er dato donde inicia, 2do dato hasta donde va y 3er dato el salto entre numeros del arreglo"
      ],
      "execution_count": null,
      "outputs": [
        {
          "output_type": "stream",
          "name": "stdout",
          "text": [
            "[20 40]\n"
          ]
        }
      ]
    },
    {
      "cell_type": "markdown",
      "metadata": {
        "id": "2O1igWoYUFjl"
      },
      "source": [
        "Inserte la sintaxis de corte correcta para imprimir la siguiente selección de la matriz:\n",
        "\n",
        "Todos los demás elementos de toda la matriz.\n",
        "\n",
        "Consejo: utilice la sintaxis de pasos."
      ]
    },
    {
      "cell_type": "code",
      "metadata": {
        "colab": {
          "base_uri": "https://localhost:8080/"
        },
        "id": "e6cAZdX-UGB3",
        "outputId": "999cb014-6741-4ad9-f059-57465c8aa2d9"
      },
      "source": [
        "arr = np.array([10, 15, 20, 25, 30, 35, 40]) # arranca en la posición 1 y se va de dos en dos\n",
        "\n",
        "print(arr[1::2])"
      ],
      "execution_count": null,
      "outputs": [
        {
          "output_type": "stream",
          "name": "stdout",
          "text": [
            "[15 25 35]\n"
          ]
        }
      ]
    },
    {
      "cell_type": "code",
      "metadata": {
        "colab": {
          "base_uri": "https://localhost:8080/"
        },
        "id": "uNqZLg_qVO9v",
        "outputId": "91b99706-f799-4546-b5db-cc033f3266c6"
      },
      "source": [
        "arr = np.array([10, 15, 20, 25, 30, 35, 40]) # arranca en posicion cero y se va de dos en dos\n",
        "\n",
        "print(arr[::2])"
      ],
      "execution_count": null,
      "outputs": [
        {
          "output_type": "stream",
          "name": "stdout",
          "text": [
            "[10 20 30 40]\n"
          ]
        }
      ]
    },
    {
      "cell_type": "code",
      "metadata": {
        "colab": {
          "base_uri": "https://localhost:8080/"
        },
        "id": "i_m7wAAaVxBO",
        "outputId": "68e30a5d-46e1-4848-8630-7de74a299da7"
      },
      "source": [
        "arr = np.array([1, 2, 3, 4]) \n",
        "\n",
        "print(arr.dtype) # ver el tipo de dato"
      ],
      "execution_count": null,
      "outputs": [
        {
          "output_type": "stream",
          "name": "stdout",
          "text": [
            "int64\n"
          ]
        }
      ]
    },
    {
      "cell_type": "code",
      "metadata": {
        "colab": {
          "base_uri": "https://localhost:8080/"
        },
        "id": "Pb3FzSO6WXow",
        "outputId": "6beba560-d924-4879-c996-bfd709905620"
      },
      "source": [
        "arr = np.array([1, 2, 3, 4], dtype='S')\n",
        "print(arr)"
      ],
      "execution_count": null,
      "outputs": [
        {
          "output_type": "stream",
          "name": "stdout",
          "text": [
            "[b'1' b'2' b'3' b'4']\n"
          ]
        }
      ]
    },
    {
      "cell_type": "code",
      "metadata": {
        "colab": {
          "base_uri": "https://localhost:8080/"
        },
        "id": "QszoKBNjW4d6",
        "outputId": "bcdf41aa-53c6-42af-a553-08110ebef0a9"
      },
      "source": [
        "arr = np.array([1.1, 2.1, 3.1]) \n",
        "newarr = arr.astype('i') #Inserte el método correcto para cambiar el tipo de datos a entero.\n",
        "print(\"Decimales\",arr)\n",
        "print(\"A enteros\",newarr)\n"
      ],
      "execution_count": null,
      "outputs": [
        {
          "output_type": "stream",
          "name": "stdout",
          "text": [
            "Decimales [1.1 2.1 3.1]\n",
            "A enteros [1 2 3]\n"
          ]
        }
      ]
    },
    {
      "cell_type": "code",
      "metadata": {
        "colab": {
          "base_uri": "https://localhost:8080/"
        },
        "id": "d0fI6-lvYErU",
        "outputId": "6825bd61-27d6-425b-e288-715f898a00b1"
      },
      "source": [
        "arr = np.array([1, 2, 3, 4, 5])\n",
        "\n",
        "x = arr.copy() # método para copiar un arreglo\n",
        "\n",
        "print(arr)\n",
        "print(x)\n"
      ],
      "execution_count": null,
      "outputs": [
        {
          "output_type": "stream",
          "name": "stdout",
          "text": [
            "[1 2 3 4 5]\n",
            "[1 2 3 4 5]\n"
          ]
        }
      ]
    },
    {
      "cell_type": "code",
      "metadata": {
        "colab": {
          "base_uri": "https://localhost:8080/"
        },
        "id": "nWDniBJ6YWyR",
        "outputId": "238e2e23-a938-46e1-e8e3-8e868d50e792"
      },
      "source": [
        "arr = np.array([1, 2, 3, 4, 5])\n",
        "\n",
        "x = arr.view() # el método correcto para hacer una vista de la matriz.\n",
        "\n",
        "print(x)\n"
      ],
      "execution_count": null,
      "outputs": [
        {
          "output_type": "stream",
          "name": "stdout",
          "text": [
            "[1 2 3 4 5]\n"
          ]
        }
      ]
    },
    {
      "cell_type": "code",
      "metadata": {
        "colab": {
          "base_uri": "https://localhost:8080/"
        },
        "id": "5QYzZtdcY2Xk",
        "outputId": "d5fadb31-1aa9-4930-f6e9-c903357f4ccc"
      },
      "source": [
        "arr = np.array([1, 2, 3, 4, 5, 6])\n",
        "\n",
        "print(\"la matriz tiene\",arr.shape, \"elementos\") # metodo para comprobar la cantidad de elementos de una matriz"
      ],
      "execution_count": null,
      "outputs": [
        {
          "output_type": "stream",
          "name": "stdout",
          "text": [
            "la matriz tiene (6,) elementos\n"
          ]
        }
      ]
    },
    {
      "cell_type": "code",
      "metadata": {
        "colab": {
          "base_uri": "https://localhost:8080/"
        },
        "id": "X7BtpODcZiSZ",
        "outputId": "dfdcd623-73cc-4ca4-ec3f-c8b1c1705137"
      },
      "source": [
        "arr = np.array([1, 2, 3, 4, 5, 6, 7, 8, 9, 10, 11, 12])\n",
        "\n",
        "newarr = arr.reshape(4, 3) #método para remodelar el arreglo\n",
        "print(arr)\n",
        "print(\"\")\n",
        "print(newarr,\"  3 columnas y 4 filas\")"
      ],
      "execution_count": null,
      "outputs": [
        {
          "output_type": "stream",
          "name": "stdout",
          "text": [
            "[ 1  2  3  4  5  6  7  8  9 10 11 12]\n",
            "\n",
            "[[ 1  2  3]\n",
            " [ 4  5  6]\n",
            " [ 7  8  9]\n",
            " [10 11 12]]   3 columnas y 4 filas\n"
          ]
        }
      ]
    },
    {
      "cell_type": "code",
      "metadata": {
        "colab": {
          "base_uri": "https://localhost:8080/"
        },
        "id": "iryfH0dAaj6D",
        "outputId": "09708b69-237b-476b-ec05-2f0b340a8522"
      },
      "source": [
        "arr = np.array([1, 2, 3, 4, 5, 6, 7, 8, 9, 10, 11, 12], ndmin=3)\n",
        "\n",
        "newarr = arr.reshape(-1) # cambiar de 3d a 1d\n",
        "print(arr, \"  en 3D\")\n",
        "print(\"\")\n",
        "print(newarr,\"  en 1D\")\n"
      ],
      "execution_count": null,
      "outputs": [
        {
          "output_type": "stream",
          "name": "stdout",
          "text": [
            "[[[ 1  2  3  4  5  6  7  8  9 10 11 12]]]   en 3D\n",
            "\n",
            "[ 1  2  3  4  5  6  7  8  9 10 11 12]   en 1D\n"
          ]
        }
      ]
    },
    {
      "cell_type": "markdown",
      "metadata": {
        "id": "_5eQq2Z_i4-r"
      },
      "source": [
        "# PANDAS"
      ]
    },
    {
      "cell_type": "code",
      "metadata": {
        "colab": {
          "base_uri": "https://localhost:8080/"
        },
        "id": "TmSrbtI-i8ZT",
        "outputId": "d38cfee6-46e2-41d5-ea26-4e0c8c0c2912"
      },
      "source": [
        "pip install pandas"
      ],
      "execution_count": null,
      "outputs": [
        {
          "output_type": "stream",
          "name": "stdout",
          "text": [
            "Requirement already satisfied: pandas in /usr/local/lib/python3.7/dist-packages (1.1.5)\n",
            "Requirement already satisfied: pytz>=2017.2 in /usr/local/lib/python3.7/dist-packages (from pandas) (2018.9)\n",
            "Requirement already satisfied: python-dateutil>=2.7.3 in /usr/local/lib/python3.7/dist-packages (from pandas) (2.8.2)\n",
            "Requirement already satisfied: numpy>=1.15.4 in /usr/local/lib/python3.7/dist-packages (from pandas) (1.19.5)\n",
            "Requirement already satisfied: six>=1.5 in /usr/local/lib/python3.7/dist-packages (from python-dateutil>=2.7.3->pandas) (1.15.0)\n"
          ]
        }
      ]
    },
    {
      "cell_type": "code",
      "metadata": {
        "colab": {
          "base_uri": "https://localhost:8080/"
        },
        "id": "NV0ckjEljHRz",
        "outputId": "3e2bd299-edcc-4d59-dfeb-5a53894d6031"
      },
      "source": [
        "import pandas as pd # importar el método pandas\n",
        "\n",
        "col = pd.Series([1,2,3])\n",
        "\n",
        "print(col)\n",
        "print(\"\")\n",
        "\n",
        "import numpy as np #importar el método numpy\n",
        "from numpy import random  #importar el método random\n",
        "\n",
        "col2 = pd.Series(random.rand(5))\n",
        "print(col2)\n"
      ],
      "execution_count": 1,
      "outputs": [
        {
          "output_type": "stream",
          "name": "stdout",
          "text": [
            "0    1\n",
            "1    2\n",
            "2    3\n",
            "dtype: int64\n",
            "\n",
            "0    0.236517\n",
            "1    0.637594\n",
            "2    0.125338\n",
            "3    0.890363\n",
            "4    0.026930\n",
            "dtype: float64\n"
          ]
        }
      ]
    },
    {
      "cell_type": "markdown",
      "metadata": {
        "id": "pHHJ4k_5qRQi"
      },
      "source": [
        "# dataframes"
      ]
    },
    {
      "cell_type": "code",
      "metadata": {
        "colab": {
          "base_uri": "https://localhost:8080/"
        },
        "id": "hiYsLgpcqWn7",
        "outputId": "214c00c0-7252-417b-978a-464fc358a6e1"
      },
      "source": [
        "df = pd.DataFrame ({\"nombre\": [\"andres\", \"mitch\", \"kathe\"], \"notas\": [5, 4, 3]})\n",
        "\n",
        "print(df)"
      ],
      "execution_count": null,
      "outputs": [
        {
          "output_type": "stream",
          "name": "stdout",
          "text": [
            "   nombre  notas\n",
            "0  andres      5\n",
            "1   mitch      4\n",
            "2   kathe      3\n"
          ]
        }
      ]
    },
    {
      "cell_type": "markdown",
      "metadata": {
        "id": "Y7s1FlhQHyJB"
      },
      "source": [
        "#CONECTAR A BD CON PANDA\n",
        "Después de subir el documento plano a la plataforma"
      ]
    },
    {
      "cell_type": "code",
      "metadata": {
        "id": "iR9ViWayIA4P"
      },
      "source": [
        "df_sample = pd.read_csv(\"DATOS2.csv\")"
      ],
      "execution_count": 21,
      "outputs": []
    },
    {
      "cell_type": "code",
      "metadata": {
        "colab": {
          "base_uri": "https://localhost:8080/",
          "height": 357
        },
        "id": "S0OjNKP2JYSg",
        "outputId": "b33e09c3-5aa4-4b3e-ac4d-b5fe4f2e9df2"
      },
      "source": [
        "df_sample.head()"
      ],
      "execution_count": 22,
      "outputs": [
        {
          "output_type": "execute_result",
          "data": {
            "text/html": [
              "<div>\n",
              "<style scoped>\n",
              "    .dataframe tbody tr th:only-of-type {\n",
              "        vertical-align: middle;\n",
              "    }\n",
              "\n",
              "    .dataframe tbody tr th {\n",
              "        vertical-align: top;\n",
              "    }\n",
              "\n",
              "    .dataframe thead th {\n",
              "        text-align: right;\n",
              "    }\n",
              "</style>\n",
              "<table border=\"1\" class=\"dataframe\">\n",
              "  <thead>\n",
              "    <tr style=\"text-align: right;\">\n",
              "      <th></th>\n",
              "      <th>data-Habeas_Data-AutorizaDatos;data-Habeas_Data-FirmaAcepto;data-Habeas_Data-FinEncuesta;data-Introduccion;data-CantidadHabitantes;data-habitantes_count;data-habitantes;data-InformacionPredio-DepartamentodelPredio;data-InformacionPredio-MunicipiodelPredio;data-InformacionPredio-CorregimientodelPredio;data-InformacionPredio-VeredadelPredio;data-InformacionPredio-CedulaCatastraldelPredio;data-InformacionPredio-MatriculaInmobiliariadelPredio;data-InformacionPredio-ExtensiondelPredio;data-InformacionPredio-TipodePredio;data-InformacionPredio-PredioRustico;data-InformacionPredio-PredioParcelado;data-InformacionPredio-actividadparceladelPredio;data-InformacionPredio-ActividadDelPredio;data-InformacionPredio-actividaddelPredioUrbano;data-InicioEncuesta;data-FechaFinEncuesta;data-Dispositivo;data-MovilEncuestador;data-Encuestador;data-meta-instanceID;KEY</th>\n",
              "    </tr>\n",
              "  </thead>\n",
              "  <tbody>\n",
              "    <tr>\n",
              "      <th>0</th>\n",
              "      <td>acepto;https://drive.google.com/open?id=1taGfF...</td>\n",
              "    </tr>\n",
              "    <tr>\n",
              "      <th>1</th>\n",
              "      <td>acepto;https://drive.google.com/open?id=1XnCUO...</td>\n",
              "    </tr>\n",
              "    <tr>\n",
              "      <th>2</th>\n",
              "      <td>acepto;https://drive.google.com/open?id=17V94P...</td>\n",
              "    </tr>\n",
              "    <tr>\n",
              "      <th>3</th>\n",
              "      <td>acepto;https://drive.google.com/open?id=12ipOj...</td>\n",
              "    </tr>\n",
              "    <tr>\n",
              "      <th>4</th>\n",
              "      <td>acepto;https://drive.google.com/open?id=16CV5o...</td>\n",
              "    </tr>\n",
              "  </tbody>\n",
              "</table>\n",
              "</div>"
            ],
            "text/plain": [
              "  data-Habeas_Data-AutorizaDatos;data-Habeas_Data-FirmaAcepto;data-Habeas_Data-FinEncuesta;data-Introduccion;data-CantidadHabitantes;data-habitantes_count;data-habitantes;data-InformacionPredio-DepartamentodelPredio;data-InformacionPredio-MunicipiodelPredio;data-InformacionPredio-CorregimientodelPredio;data-InformacionPredio-VeredadelPredio;data-InformacionPredio-CedulaCatastraldelPredio;data-InformacionPredio-MatriculaInmobiliariadelPredio;data-InformacionPredio-ExtensiondelPredio;data-InformacionPredio-TipodePredio;data-InformacionPredio-PredioRustico;data-InformacionPredio-PredioParcelado;data-InformacionPredio-actividadparceladelPredio;data-InformacionPredio-ActividadDelPredio;data-InformacionPredio-actividaddelPredioUrbano;data-InicioEncuesta;data-FechaFinEncuesta;data-Dispositivo;data-MovilEncuestador;data-Encuestador;data-meta-instanceID;KEY\n",
              "0  acepto;https://drive.google.com/open?id=1taGfF...                                                                                                                                                                                                                                                                                                                                                                                                                                                                                                                                                                                                                                                                                                                                                                                                                                        \n",
              "1  acepto;https://drive.google.com/open?id=1XnCUO...                                                                                                                                                                                                                                                                                                                                                                                                                                                                                                                                                                                                                                                                                                                                                                                                                                        \n",
              "2  acepto;https://drive.google.com/open?id=17V94P...                                                                                                                                                                                                                                                                                                                                                                                                                                                                                                                                                                                                                                                                                                                                                                                                                                        \n",
              "3  acepto;https://drive.google.com/open?id=12ipOj...                                                                                                                                                                                                                                                                                                                                                                                                                                                                                                                                                                                                                                                                                                                                                                                                                                        \n",
              "4  acepto;https://drive.google.com/open?id=16CV5o...                                                                                                                                                                                                                                                                                                                                                                                                                                                                                                                                                                                                                                                                                                                                                                                                                                        "
            ]
          },
          "metadata": {},
          "execution_count": 22
        }
      ]
    },
    {
      "cell_type": "code",
      "metadata": {
        "id": "6xb4LdU8NWAS"
      },
      "source": [
        "import matplotlib.pyplot as plt # Visualización básica de datos"
      ],
      "execution_count": 11,
      "outputs": []
    },
    {
      "cell_type": "code",
      "metadata": {
        "colab": {
          "base_uri": "https://localhost:8080/"
        },
        "id": "gV6y5DwNO27g",
        "outputId": "9698c214-5265-4729-a0fa-620cbf80fa69"
      },
      "source": [
        "print(df_sample.columns) #imprimir columnas"
      ],
      "execution_count": 23,
      "outputs": [
        {
          "output_type": "stream",
          "name": "stdout",
          "text": [
            "Index(['data-Habeas_Data-AutorizaDatos;data-Habeas_Data-FirmaAcepto;data-Habeas_Data-FinEncuesta;data-Introduccion;data-CantidadHabitantes;data-habitantes_count;data-habitantes;data-InformacionPredio-DepartamentodelPredio;data-InformacionPredio-MunicipiodelPredio;data-InformacionPredio-CorregimientodelPredio;data-InformacionPredio-VeredadelPredio;data-InformacionPredio-CedulaCatastraldelPredio;data-InformacionPredio-MatriculaInmobiliariadelPredio;data-InformacionPredio-ExtensiondelPredio;data-InformacionPredio-TipodePredio;data-InformacionPredio-PredioRustico;data-InformacionPredio-PredioParcelado;data-InformacionPredio-actividadparceladelPredio;data-InformacionPredio-ActividadDelPredio;data-InformacionPredio-actividaddelPredioUrbano;data-InicioEncuesta;data-FechaFinEncuesta;data-Dispositivo;data-MovilEncuestador;data-Encuestador;data-meta-instanceID;KEY'], dtype='object')\n"
          ]
        }
      ]
    },
    {
      "cell_type": "code",
      "metadata": {
        "id": "4eLqWFi2PGOw"
      },
      "source": [
        "df_sample[\"NOMBRE DE LA COLUMNA\"].plot() # nombre de la columna en mi caso no funciono\n",
        "plt.show()"
      ],
      "execution_count": null,
      "outputs": []
    },
    {
      "cell_type": "code",
      "metadata": {
        "colab": {
          "base_uri": "https://localhost:8080/"
        },
        "id": "BwwmQ77sUU0k",
        "outputId": "b71ef29d-5cb1-44a9-c3fb-7d2447eb887d"
      },
      "source": [
        "df_sample.info()"
      ],
      "execution_count": 26,
      "outputs": [
        {
          "output_type": "stream",
          "name": "stdout",
          "text": [
            "<class 'pandas.core.frame.DataFrame'>\n",
            "RangeIndex: 13 entries, 0 to 12\n",
            "Data columns (total 1 columns):\n",
            " #   Column                                                                                                                                                                                                                                                                                                                                                                                                                                                                                                                                                                                                                                                                                                                                                                                                                                                                                      Non-Null Count  Dtype \n",
            "---  ------                                                                                                                                                                                                                                                                                                                                                                                                                                                                                                                                                                                                                                                                                                                                                                                                                                                                                      --------------  ----- \n",
            " 0   data-Habeas_Data-AutorizaDatos;data-Habeas_Data-FirmaAcepto;data-Habeas_Data-FinEncuesta;data-Introduccion;data-CantidadHabitantes;data-habitantes_count;data-habitantes;data-InformacionPredio-DepartamentodelPredio;data-InformacionPredio-MunicipiodelPredio;data-InformacionPredio-CorregimientodelPredio;data-InformacionPredio-VeredadelPredio;data-InformacionPredio-CedulaCatastraldelPredio;data-InformacionPredio-MatriculaInmobiliariadelPredio;data-InformacionPredio-ExtensiondelPredio;data-InformacionPredio-TipodePredio;data-InformacionPredio-PredioRustico;data-InformacionPredio-PredioParcelado;data-InformacionPredio-actividadparceladelPredio;data-InformacionPredio-ActividadDelPredio;data-InformacionPredio-actividaddelPredioUrbano;data-InicioEncuesta;data-FechaFinEncuesta;data-Dispositivo;data-MovilEncuestador;data-Encuestador;data-meta-instanceID;KEY  13 non-null     object\n",
            "dtypes: object(1)\n",
            "memory usage: 232.0+ bytes\n"
          ]
        }
      ]
    },
    {
      "cell_type": "code",
      "metadata": {
        "colab": {
          "base_uri": "https://localhost:8080/",
          "height": 357
        },
        "id": "uRZfRgR0Ug05",
        "outputId": "67f9cf5e-63aa-4c3c-d687-921d5a088743"
      },
      "source": [
        "df_sample.head() #encabezado y numero determinado de filas"
      ],
      "execution_count": 27,
      "outputs": [
        {
          "output_type": "execute_result",
          "data": {
            "text/html": [
              "<div>\n",
              "<style scoped>\n",
              "    .dataframe tbody tr th:only-of-type {\n",
              "        vertical-align: middle;\n",
              "    }\n",
              "\n",
              "    .dataframe tbody tr th {\n",
              "        vertical-align: top;\n",
              "    }\n",
              "\n",
              "    .dataframe thead th {\n",
              "        text-align: right;\n",
              "    }\n",
              "</style>\n",
              "<table border=\"1\" class=\"dataframe\">\n",
              "  <thead>\n",
              "    <tr style=\"text-align: right;\">\n",
              "      <th></th>\n",
              "      <th>data-Habeas_Data-AutorizaDatos;data-Habeas_Data-FirmaAcepto;data-Habeas_Data-FinEncuesta;data-Introduccion;data-CantidadHabitantes;data-habitantes_count;data-habitantes;data-InformacionPredio-DepartamentodelPredio;data-InformacionPredio-MunicipiodelPredio;data-InformacionPredio-CorregimientodelPredio;data-InformacionPredio-VeredadelPredio;data-InformacionPredio-CedulaCatastraldelPredio;data-InformacionPredio-MatriculaInmobiliariadelPredio;data-InformacionPredio-ExtensiondelPredio;data-InformacionPredio-TipodePredio;data-InformacionPredio-PredioRustico;data-InformacionPredio-PredioParcelado;data-InformacionPredio-actividadparceladelPredio;data-InformacionPredio-ActividadDelPredio;data-InformacionPredio-actividaddelPredioUrbano;data-InicioEncuesta;data-FechaFinEncuesta;data-Dispositivo;data-MovilEncuestador;data-Encuestador;data-meta-instanceID;KEY</th>\n",
              "    </tr>\n",
              "  </thead>\n",
              "  <tbody>\n",
              "    <tr>\n",
              "      <th>0</th>\n",
              "      <td>acepto;https://drive.google.com/open?id=1taGfF...</td>\n",
              "    </tr>\n",
              "    <tr>\n",
              "      <th>1</th>\n",
              "      <td>acepto;https://drive.google.com/open?id=1XnCUO...</td>\n",
              "    </tr>\n",
              "    <tr>\n",
              "      <th>2</th>\n",
              "      <td>acepto;https://drive.google.com/open?id=17V94P...</td>\n",
              "    </tr>\n",
              "    <tr>\n",
              "      <th>3</th>\n",
              "      <td>acepto;https://drive.google.com/open?id=12ipOj...</td>\n",
              "    </tr>\n",
              "    <tr>\n",
              "      <th>4</th>\n",
              "      <td>acepto;https://drive.google.com/open?id=16CV5o...</td>\n",
              "    </tr>\n",
              "  </tbody>\n",
              "</table>\n",
              "</div>"
            ],
            "text/plain": [
              "  data-Habeas_Data-AutorizaDatos;data-Habeas_Data-FirmaAcepto;data-Habeas_Data-FinEncuesta;data-Introduccion;data-CantidadHabitantes;data-habitantes_count;data-habitantes;data-InformacionPredio-DepartamentodelPredio;data-InformacionPredio-MunicipiodelPredio;data-InformacionPredio-CorregimientodelPredio;data-InformacionPredio-VeredadelPredio;data-InformacionPredio-CedulaCatastraldelPredio;data-InformacionPredio-MatriculaInmobiliariadelPredio;data-InformacionPredio-ExtensiondelPredio;data-InformacionPredio-TipodePredio;data-InformacionPredio-PredioRustico;data-InformacionPredio-PredioParcelado;data-InformacionPredio-actividadparceladelPredio;data-InformacionPredio-ActividadDelPredio;data-InformacionPredio-actividaddelPredioUrbano;data-InicioEncuesta;data-FechaFinEncuesta;data-Dispositivo;data-MovilEncuestador;data-Encuestador;data-meta-instanceID;KEY\n",
              "0  acepto;https://drive.google.com/open?id=1taGfF...                                                                                                                                                                                                                                                                                                                                                                                                                                                                                                                                                                                                                                                                                                                                                                                                                                        \n",
              "1  acepto;https://drive.google.com/open?id=1XnCUO...                                                                                                                                                                                                                                                                                                                                                                                                                                                                                                                                                                                                                                                                                                                                                                                                                                        \n",
              "2  acepto;https://drive.google.com/open?id=17V94P...                                                                                                                                                                                                                                                                                                                                                                                                                                                                                                                                                                                                                                                                                                                                                                                                                                        \n",
              "3  acepto;https://drive.google.com/open?id=12ipOj...                                                                                                                                                                                                                                                                                                                                                                                                                                                                                                                                                                                                                                                                                                                                                                                                                                        \n",
              "4  acepto;https://drive.google.com/open?id=16CV5o...                                                                                                                                                                                                                                                                                                                                                                                                                                                                                                                                                                                                                                                                                                                                                                                                                                        "
            ]
          },
          "metadata": {},
          "execution_count": 27
        }
      ]
    },
    {
      "cell_type": "code",
      "metadata": {
        "colab": {
          "base_uri": "https://localhost:8080/"
        },
        "id": "rxgmn2x8UmOz",
        "outputId": "6a8d2c6e-2a8a-432b-e618-9b1b8791dfa4"
      },
      "source": [
        "df_sample.shape # cantidad de filas y columnas"
      ],
      "execution_count": 29,
      "outputs": [
        {
          "output_type": "execute_result",
          "data": {
            "text/plain": [
              "(13, 1)"
            ]
          },
          "metadata": {},
          "execution_count": 29
        }
      ]
    },
    {
      "cell_type": "code",
      "metadata": {
        "colab": {
          "base_uri": "https://localhost:8080/",
          "height": 394
        },
        "id": "4gPj2s6mVFab",
        "outputId": "2626879c-4d99-4986-c5b8-8efb7d3eb1e7"
      },
      "source": [
        "df_sample.describe() #estadistica descriptiva"
      ],
      "execution_count": 30,
      "outputs": [
        {
          "output_type": "execute_result",
          "data": {
            "text/html": [
              "<div>\n",
              "<style scoped>\n",
              "    .dataframe tbody tr th:only-of-type {\n",
              "        vertical-align: middle;\n",
              "    }\n",
              "\n",
              "    .dataframe tbody tr th {\n",
              "        vertical-align: top;\n",
              "    }\n",
              "\n",
              "    .dataframe thead th {\n",
              "        text-align: right;\n",
              "    }\n",
              "</style>\n",
              "<table border=\"1\" class=\"dataframe\">\n",
              "  <thead>\n",
              "    <tr style=\"text-align: right;\">\n",
              "      <th></th>\n",
              "      <th>data-Habeas_Data-AutorizaDatos;data-Habeas_Data-FirmaAcepto;data-Habeas_Data-FinEncuesta;data-Introduccion;data-CantidadHabitantes;data-habitantes_count;data-habitantes;data-InformacionPredio-DepartamentodelPredio;data-InformacionPredio-MunicipiodelPredio;data-InformacionPredio-CorregimientodelPredio;data-InformacionPredio-VeredadelPredio;data-InformacionPredio-CedulaCatastraldelPredio;data-InformacionPredio-MatriculaInmobiliariadelPredio;data-InformacionPredio-ExtensiondelPredio;data-InformacionPredio-TipodePredio;data-InformacionPredio-PredioRustico;data-InformacionPredio-PredioParcelado;data-InformacionPredio-actividadparceladelPredio;data-InformacionPredio-ActividadDelPredio;data-InformacionPredio-actividaddelPredioUrbano;data-InicioEncuesta;data-FechaFinEncuesta;data-Dispositivo;data-MovilEncuestador;data-Encuestador;data-meta-instanceID;KEY</th>\n",
              "    </tr>\n",
              "  </thead>\n",
              "  <tbody>\n",
              "    <tr>\n",
              "      <th>count</th>\n",
              "      <td>13</td>\n",
              "    </tr>\n",
              "    <tr>\n",
              "      <th>unique</th>\n",
              "      <td>8</td>\n",
              "    </tr>\n",
              "    <tr>\n",
              "      <th>top</th>\n",
              "      <td>;;;;;;;;;;;;;;;;;;;;;;;;;;</td>\n",
              "    </tr>\n",
              "    <tr>\n",
              "      <th>freq</th>\n",
              "      <td>6</td>\n",
              "    </tr>\n",
              "  </tbody>\n",
              "</table>\n",
              "</div>"
            ],
            "text/plain": [
              "       data-Habeas_Data-AutorizaDatos;data-Habeas_Data-FirmaAcepto;data-Habeas_Data-FinEncuesta;data-Introduccion;data-CantidadHabitantes;data-habitantes_count;data-habitantes;data-InformacionPredio-DepartamentodelPredio;data-InformacionPredio-MunicipiodelPredio;data-InformacionPredio-CorregimientodelPredio;data-InformacionPredio-VeredadelPredio;data-InformacionPredio-CedulaCatastraldelPredio;data-InformacionPredio-MatriculaInmobiliariadelPredio;data-InformacionPredio-ExtensiondelPredio;data-InformacionPredio-TipodePredio;data-InformacionPredio-PredioRustico;data-InformacionPredio-PredioParcelado;data-InformacionPredio-actividadparceladelPredio;data-InformacionPredio-ActividadDelPredio;data-InformacionPredio-actividaddelPredioUrbano;data-InicioEncuesta;data-FechaFinEncuesta;data-Dispositivo;data-MovilEncuestador;data-Encuestador;data-meta-instanceID;KEY\n",
              "count                                                  13                                                                                                                                                                                                                                                                                                                                                                                                                                                                                                                                                                                                                                                                                                                                                                                                                                        \n",
              "unique                                                  8                                                                                                                                                                                                                                                                                                                                                                                                                                                                                                                                                                                                                                                                                                                                                                                                                                        \n",
              "top                            ;;;;;;;;;;;;;;;;;;;;;;;;;;                                                                                                                                                                                                                                                                                                                                                                                                                                                                                                                                                                                                                                                                                                                                                                                                                                        \n",
              "freq                                                    6                                                                                                                                                                                                                                                                                                                                                                                                                                                                                                                                                                                                                                                                                                                                                                                                                                        "
            ]
          },
          "metadata": {},
          "execution_count": 30
        }
      ]
    },
    {
      "cell_type": "code",
      "metadata": {
        "id": "bvjDWOpTZDE3"
      },
      "source": [
        "df_america = pd.read_csv(\"Trade_Indices_E_Americas.csv\")"
      ],
      "execution_count": 35,
      "outputs": []
    },
    {
      "cell_type": "code",
      "metadata": {
        "colab": {
          "base_uri": "https://localhost:8080/",
          "height": 661
        },
        "id": "HMI7LL5hZZAy",
        "outputId": "6dcefef9-344b-404e-eca3-6b7d3c4dbe89"
      },
      "source": [
        "df_america.head()"
      ],
      "execution_count": 49,
      "outputs": [
        {
          "output_type": "execute_result",
          "data": {
            "text/html": [
              "<div>\n",
              "<style scoped>\n",
              "    .dataframe tbody tr th:only-of-type {\n",
              "        vertical-align: middle;\n",
              "    }\n",
              "\n",
              "    .dataframe tbody tr th {\n",
              "        vertical-align: top;\n",
              "    }\n",
              "\n",
              "    .dataframe thead th {\n",
              "        text-align: right;\n",
              "    }\n",
              "</style>\n",
              "<table border=\"1\" class=\"dataframe\">\n",
              "  <thead>\n",
              "    <tr style=\"text-align: right;\">\n",
              "      <th></th>\n",
              "      <th>Area Code</th>\n",
              "      <th>Area</th>\n",
              "      <th>Item Code</th>\n",
              "      <th>Item</th>\n",
              "      <th>Element Code</th>\n",
              "      <th>Element</th>\n",
              "      <th>Unit</th>\n",
              "      <th>Y1961</th>\n",
              "      <th>Y1961F</th>\n",
              "      <th>Y1962</th>\n",
              "      <th>Y1962F</th>\n",
              "      <th>Y1963</th>\n",
              "      <th>Y1963F</th>\n",
              "      <th>Y1964</th>\n",
              "      <th>Y1964F</th>\n",
              "      <th>Y1965</th>\n",
              "      <th>Y1965F</th>\n",
              "      <th>Y1966</th>\n",
              "      <th>Y1966F</th>\n",
              "      <th>Y1967</th>\n",
              "      <th>Y1967F</th>\n",
              "      <th>Y1968</th>\n",
              "      <th>Y1968F</th>\n",
              "      <th>Y1969</th>\n",
              "      <th>Y1969F</th>\n",
              "      <th>Y1970</th>\n",
              "      <th>Y1970F</th>\n",
              "      <th>Y1971</th>\n",
              "      <th>Y1971F</th>\n",
              "      <th>Y1972</th>\n",
              "      <th>Y1972F</th>\n",
              "      <th>Y1973</th>\n",
              "      <th>Y1973F</th>\n",
              "      <th>Y1974</th>\n",
              "      <th>Y1974F</th>\n",
              "      <th>Y1975</th>\n",
              "      <th>Y1975F</th>\n",
              "      <th>Y1976</th>\n",
              "      <th>Y1976F</th>\n",
              "      <th>Y1977</th>\n",
              "      <th>...</th>\n",
              "      <th>Y2000</th>\n",
              "      <th>Y2000F</th>\n",
              "      <th>Y2001</th>\n",
              "      <th>Y2001F</th>\n",
              "      <th>Y2002</th>\n",
              "      <th>Y2002F</th>\n",
              "      <th>Y2003</th>\n",
              "      <th>Y2003F</th>\n",
              "      <th>Y2004</th>\n",
              "      <th>Y2004F</th>\n",
              "      <th>Y2005</th>\n",
              "      <th>Y2005F</th>\n",
              "      <th>Y2006</th>\n",
              "      <th>Y2006F</th>\n",
              "      <th>Y2007</th>\n",
              "      <th>Y2007F</th>\n",
              "      <th>Y2008</th>\n",
              "      <th>Y2008F</th>\n",
              "      <th>Y2009</th>\n",
              "      <th>Y2009F</th>\n",
              "      <th>Y2010</th>\n",
              "      <th>Y2010F</th>\n",
              "      <th>Y2011</th>\n",
              "      <th>Y2011F</th>\n",
              "      <th>Y2012</th>\n",
              "      <th>Y2012F</th>\n",
              "      <th>Y2013</th>\n",
              "      <th>Y2013F</th>\n",
              "      <th>Y2014</th>\n",
              "      <th>Y2014F</th>\n",
              "      <th>Y2015</th>\n",
              "      <th>Y2015F</th>\n",
              "      <th>Y2016</th>\n",
              "      <th>Y2016F</th>\n",
              "      <th>Y2017</th>\n",
              "      <th>Y2017F</th>\n",
              "      <th>Y2018</th>\n",
              "      <th>Y2018F</th>\n",
              "      <th>Y2019</th>\n",
              "      <th>Y2019F</th>\n",
              "    </tr>\n",
              "  </thead>\n",
              "  <tbody>\n",
              "    <tr>\n",
              "      <th>0</th>\n",
              "      <td>8</td>\n",
              "      <td>Antigua and Barbuda</td>\n",
              "      <td>515</td>\n",
              "      <td>Apples</td>\n",
              "      <td>64</td>\n",
              "      <td>Import Value Base Period Quantity</td>\n",
              "      <td>1000 $</td>\n",
              "      <td>104.0</td>\n",
              "      <td>Fc</td>\n",
              "      <td>106.0</td>\n",
              "      <td>Fc</td>\n",
              "      <td>90.0</td>\n",
              "      <td>Fc</td>\n",
              "      <td>135.0</td>\n",
              "      <td>Fc</td>\n",
              "      <td>145.0</td>\n",
              "      <td>Fc</td>\n",
              "      <td>128.0</td>\n",
              "      <td>Fc</td>\n",
              "      <td>142.0</td>\n",
              "      <td>Fc</td>\n",
              "      <td>157.0</td>\n",
              "      <td>Fc</td>\n",
              "      <td>140.0</td>\n",
              "      <td>Fc</td>\n",
              "      <td>130.0</td>\n",
              "      <td>Fc</td>\n",
              "      <td>134.0</td>\n",
              "      <td>Fc</td>\n",
              "      <td>144.0</td>\n",
              "      <td>Fc</td>\n",
              "      <td>186.0</td>\n",
              "      <td>Fc</td>\n",
              "      <td>202.0</td>\n",
              "      <td>Fc</td>\n",
              "      <td>247.0</td>\n",
              "      <td>Fc</td>\n",
              "      <td>262.0</td>\n",
              "      <td>Fc</td>\n",
              "      <td>248.0</td>\n",
              "      <td>...</td>\n",
              "      <td>NaN</td>\n",
              "      <td>NaN</td>\n",
              "      <td>134.0</td>\n",
              "      <td>Fc</td>\n",
              "      <td>291.0</td>\n",
              "      <td>Fc</td>\n",
              "      <td>335.0</td>\n",
              "      <td>Fc</td>\n",
              "      <td>405.0</td>\n",
              "      <td>Fc</td>\n",
              "      <td>394.0</td>\n",
              "      <td>Fc</td>\n",
              "      <td>264.0</td>\n",
              "      <td>Fc</td>\n",
              "      <td>269.0</td>\n",
              "      <td>Fc</td>\n",
              "      <td>357.0</td>\n",
              "      <td>Fc</td>\n",
              "      <td>468.0</td>\n",
              "      <td>Fc</td>\n",
              "      <td>483.0</td>\n",
              "      <td>Fc</td>\n",
              "      <td>584.0</td>\n",
              "      <td>Fc</td>\n",
              "      <td>750.0</td>\n",
              "      <td>Fc</td>\n",
              "      <td>528.0</td>\n",
              "      <td>Fc</td>\n",
              "      <td>584.0</td>\n",
              "      <td>Fc</td>\n",
              "      <td>596.0</td>\n",
              "      <td>Fc</td>\n",
              "      <td>593.0</td>\n",
              "      <td>Fc</td>\n",
              "      <td>595.0</td>\n",
              "      <td>Fc</td>\n",
              "      <td>557.0</td>\n",
              "      <td>Fc</td>\n",
              "      <td>478.0</td>\n",
              "      <td>Fc</td>\n",
              "    </tr>\n",
              "    <tr>\n",
              "      <th>1</th>\n",
              "      <td>8</td>\n",
              "      <td>Antigua and Barbuda</td>\n",
              "      <td>515</td>\n",
              "      <td>Apples</td>\n",
              "      <td>65</td>\n",
              "      <td>Import Value Base Period Price</td>\n",
              "      <td>1000 $</td>\n",
              "      <td>57.0</td>\n",
              "      <td>Fc</td>\n",
              "      <td>67.0</td>\n",
              "      <td>Fc</td>\n",
              "      <td>59.0</td>\n",
              "      <td>Fc</td>\n",
              "      <td>83.0</td>\n",
              "      <td>Fc</td>\n",
              "      <td>57.0</td>\n",
              "      <td>Fc</td>\n",
              "      <td>120.0</td>\n",
              "      <td>Fc</td>\n",
              "      <td>100.0</td>\n",
              "      <td>Fc</td>\n",
              "      <td>79.0</td>\n",
              "      <td>Fc</td>\n",
              "      <td>122.0</td>\n",
              "      <td>Fc</td>\n",
              "      <td>177.0</td>\n",
              "      <td>Fc</td>\n",
              "      <td>163.0</td>\n",
              "      <td>Fc</td>\n",
              "      <td>173.0</td>\n",
              "      <td>Fc</td>\n",
              "      <td>79.0</td>\n",
              "      <td>Fc</td>\n",
              "      <td>47.0</td>\n",
              "      <td>Fc</td>\n",
              "      <td>41.0</td>\n",
              "      <td>Fc</td>\n",
              "      <td>41.0</td>\n",
              "      <td>Fc</td>\n",
              "      <td>69.0</td>\n",
              "      <td>...</td>\n",
              "      <td>NaN</td>\n",
              "      <td>NaN</td>\n",
              "      <td>264.0</td>\n",
              "      <td>Fc</td>\n",
              "      <td>8.0</td>\n",
              "      <td>Fc</td>\n",
              "      <td>67.0</td>\n",
              "      <td>Fc</td>\n",
              "      <td>114.0</td>\n",
              "      <td>Fc</td>\n",
              "      <td>660.0</td>\n",
              "      <td>Fc</td>\n",
              "      <td>1624.0</td>\n",
              "      <td>Fc</td>\n",
              "      <td>1908.0</td>\n",
              "      <td>Fc</td>\n",
              "      <td>1002.0</td>\n",
              "      <td>Fc</td>\n",
              "      <td>234.0</td>\n",
              "      <td>Fc</td>\n",
              "      <td>132.0</td>\n",
              "      <td>Fc</td>\n",
              "      <td>518.0</td>\n",
              "      <td>Fc</td>\n",
              "      <td>77.0</td>\n",
              "      <td>Fc</td>\n",
              "      <td>687.0</td>\n",
              "      <td>Fc</td>\n",
              "      <td>652.0</td>\n",
              "      <td>Fc</td>\n",
              "      <td>604.0</td>\n",
              "      <td>Fc</td>\n",
              "      <td>516.0</td>\n",
              "      <td>Fc</td>\n",
              "      <td>703.0</td>\n",
              "      <td>Fc</td>\n",
              "      <td>715.0</td>\n",
              "      <td>Fc</td>\n",
              "      <td>738.0</td>\n",
              "      <td>Fc</td>\n",
              "    </tr>\n",
              "    <tr>\n",
              "      <th>2</th>\n",
              "      <td>8</td>\n",
              "      <td>Antigua and Barbuda</td>\n",
              "      <td>515</td>\n",
              "      <td>Apples</td>\n",
              "      <td>462</td>\n",
              "      <td>Import Value Index (2014-2016 = 100)</td>\n",
              "      <td>index</td>\n",
              "      <td>2.0</td>\n",
              "      <td>Fc</td>\n",
              "      <td>2.0</td>\n",
              "      <td>Fc</td>\n",
              "      <td>2.0</td>\n",
              "      <td>Fc</td>\n",
              "      <td>3.0</td>\n",
              "      <td>Fc</td>\n",
              "      <td>2.0</td>\n",
              "      <td>Fc</td>\n",
              "      <td>4.0</td>\n",
              "      <td>Fc</td>\n",
              "      <td>4.0</td>\n",
              "      <td>Fc</td>\n",
              "      <td>4.0</td>\n",
              "      <td>Fc</td>\n",
              "      <td>5.0</td>\n",
              "      <td>Fc</td>\n",
              "      <td>7.0</td>\n",
              "      <td>Fc</td>\n",
              "      <td>6.0</td>\n",
              "      <td>Fc</td>\n",
              "      <td>7.0</td>\n",
              "      <td>Fc</td>\n",
              "      <td>4.0</td>\n",
              "      <td>Fc</td>\n",
              "      <td>3.0</td>\n",
              "      <td>Fc</td>\n",
              "      <td>3.0</td>\n",
              "      <td>Fc</td>\n",
              "      <td>3.0</td>\n",
              "      <td>Fc</td>\n",
              "      <td>5.0</td>\n",
              "      <td>...</td>\n",
              "      <td>NaN</td>\n",
              "      <td>NaN</td>\n",
              "      <td>10.0</td>\n",
              "      <td>Fc</td>\n",
              "      <td>1.0</td>\n",
              "      <td>Fc</td>\n",
              "      <td>6.0</td>\n",
              "      <td>Fc</td>\n",
              "      <td>13.0</td>\n",
              "      <td>Fc</td>\n",
              "      <td>75.0</td>\n",
              "      <td>Fc</td>\n",
              "      <td>123.0</td>\n",
              "      <td>Fc</td>\n",
              "      <td>147.0</td>\n",
              "      <td>Fc</td>\n",
              "      <td>102.0</td>\n",
              "      <td>Fc</td>\n",
              "      <td>31.0</td>\n",
              "      <td>Fc</td>\n",
              "      <td>18.0</td>\n",
              "      <td>Fc</td>\n",
              "      <td>87.0</td>\n",
              "      <td>Fc</td>\n",
              "      <td>17.0</td>\n",
              "      <td>Fc</td>\n",
              "      <td>104.0</td>\n",
              "      <td>Fc</td>\n",
              "      <td>109.0</td>\n",
              "      <td>Fc</td>\n",
              "      <td>103.0</td>\n",
              "      <td>Fc</td>\n",
              "      <td>88.0</td>\n",
              "      <td>Fc</td>\n",
              "      <td>120.0</td>\n",
              "      <td>Fc</td>\n",
              "      <td>114.0</td>\n",
              "      <td>Fc</td>\n",
              "      <td>101.0</td>\n",
              "      <td>Fc</td>\n",
              "    </tr>\n",
              "    <tr>\n",
              "      <th>3</th>\n",
              "      <td>8</td>\n",
              "      <td>Antigua and Barbuda</td>\n",
              "      <td>515</td>\n",
              "      <td>Apples</td>\n",
              "      <td>464</td>\n",
              "      <td>Import Unit/Value Index (2014-2016 = 100)</td>\n",
              "      <td>index</td>\n",
              "      <td>18.0</td>\n",
              "      <td>Fc</td>\n",
              "      <td>18.0</td>\n",
              "      <td>Fc</td>\n",
              "      <td>15.0</td>\n",
              "      <td>Fc</td>\n",
              "      <td>23.0</td>\n",
              "      <td>Fc</td>\n",
              "      <td>25.0</td>\n",
              "      <td>Fc</td>\n",
              "      <td>22.0</td>\n",
              "      <td>Fc</td>\n",
              "      <td>24.0</td>\n",
              "      <td>Fc</td>\n",
              "      <td>26.0</td>\n",
              "      <td>Fc</td>\n",
              "      <td>24.0</td>\n",
              "      <td>Fc</td>\n",
              "      <td>22.0</td>\n",
              "      <td>Fc</td>\n",
              "      <td>23.0</td>\n",
              "      <td>Fc</td>\n",
              "      <td>24.0</td>\n",
              "      <td>Fc</td>\n",
              "      <td>32.0</td>\n",
              "      <td>Fc</td>\n",
              "      <td>34.0</td>\n",
              "      <td>Fc</td>\n",
              "      <td>42.0</td>\n",
              "      <td>Fc</td>\n",
              "      <td>44.0</td>\n",
              "      <td>Fc</td>\n",
              "      <td>42.0</td>\n",
              "      <td>...</td>\n",
              "      <td>NaN</td>\n",
              "      <td>NaN</td>\n",
              "      <td>23.0</td>\n",
              "      <td>Fc</td>\n",
              "      <td>49.0</td>\n",
              "      <td>Fc</td>\n",
              "      <td>57.0</td>\n",
              "      <td>Fc</td>\n",
              "      <td>69.0</td>\n",
              "      <td>Fc</td>\n",
              "      <td>67.0</td>\n",
              "      <td>Fc</td>\n",
              "      <td>45.0</td>\n",
              "      <td>Fc</td>\n",
              "      <td>45.0</td>\n",
              "      <td>Fc</td>\n",
              "      <td>60.0</td>\n",
              "      <td>Fc</td>\n",
              "      <td>79.0</td>\n",
              "      <td>Fc</td>\n",
              "      <td>82.0</td>\n",
              "      <td>Fc</td>\n",
              "      <td>99.0</td>\n",
              "      <td>Fc</td>\n",
              "      <td>127.0</td>\n",
              "      <td>Fc</td>\n",
              "      <td>89.0</td>\n",
              "      <td>Fc</td>\n",
              "      <td>99.0</td>\n",
              "      <td>Fc</td>\n",
              "      <td>101.0</td>\n",
              "      <td>Fc</td>\n",
              "      <td>100.0</td>\n",
              "      <td>Fc</td>\n",
              "      <td>101.0</td>\n",
              "      <td>Fc</td>\n",
              "      <td>94.0</td>\n",
              "      <td>Fc</td>\n",
              "      <td>81.0</td>\n",
              "      <td>Fc</td>\n",
              "    </tr>\n",
              "    <tr>\n",
              "      <th>4</th>\n",
              "      <td>8</td>\n",
              "      <td>Antigua and Barbuda</td>\n",
              "      <td>515</td>\n",
              "      <td>Apples</td>\n",
              "      <td>465</td>\n",
              "      <td>Import Quantity Index (2014-2016 = 100)</td>\n",
              "      <td>index</td>\n",
              "      <td>10.0</td>\n",
              "      <td>Fc</td>\n",
              "      <td>11.0</td>\n",
              "      <td>Fc</td>\n",
              "      <td>10.0</td>\n",
              "      <td>Fc</td>\n",
              "      <td>14.0</td>\n",
              "      <td>Fc</td>\n",
              "      <td>10.0</td>\n",
              "      <td>Fc</td>\n",
              "      <td>20.0</td>\n",
              "      <td>Fc</td>\n",
              "      <td>17.0</td>\n",
              "      <td>Fc</td>\n",
              "      <td>13.0</td>\n",
              "      <td>Fc</td>\n",
              "      <td>21.0</td>\n",
              "      <td>Fc</td>\n",
              "      <td>30.0</td>\n",
              "      <td>Fc</td>\n",
              "      <td>28.0</td>\n",
              "      <td>Fc</td>\n",
              "      <td>29.0</td>\n",
              "      <td>Fc</td>\n",
              "      <td>13.0</td>\n",
              "      <td>Fc</td>\n",
              "      <td>8.0</td>\n",
              "      <td>Fc</td>\n",
              "      <td>7.0</td>\n",
              "      <td>Fc</td>\n",
              "      <td>7.0</td>\n",
              "      <td>Fc</td>\n",
              "      <td>12.0</td>\n",
              "      <td>...</td>\n",
              "      <td>NaN</td>\n",
              "      <td>NaN</td>\n",
              "      <td>45.0</td>\n",
              "      <td>Fc</td>\n",
              "      <td>1.0</td>\n",
              "      <td>Fc</td>\n",
              "      <td>11.0</td>\n",
              "      <td>Fc</td>\n",
              "      <td>19.0</td>\n",
              "      <td>Fc</td>\n",
              "      <td>112.0</td>\n",
              "      <td>Fc</td>\n",
              "      <td>275.0</td>\n",
              "      <td>Fc</td>\n",
              "      <td>323.0</td>\n",
              "      <td>Fc</td>\n",
              "      <td>170.0</td>\n",
              "      <td>Fc</td>\n",
              "      <td>40.0</td>\n",
              "      <td>Fc</td>\n",
              "      <td>22.0</td>\n",
              "      <td>Fc</td>\n",
              "      <td>88.0</td>\n",
              "      <td>Fc</td>\n",
              "      <td>13.0</td>\n",
              "      <td>Fc</td>\n",
              "      <td>116.0</td>\n",
              "      <td>Fc</td>\n",
              "      <td>110.0</td>\n",
              "      <td>Fc</td>\n",
              "      <td>102.0</td>\n",
              "      <td>Fc</td>\n",
              "      <td>87.0</td>\n",
              "      <td>Fc</td>\n",
              "      <td>119.0</td>\n",
              "      <td>Fc</td>\n",
              "      <td>121.0</td>\n",
              "      <td>Fc</td>\n",
              "      <td>125.0</td>\n",
              "      <td>Fc</td>\n",
              "    </tr>\n",
              "  </tbody>\n",
              "</table>\n",
              "<p>5 rows × 125 columns</p>\n",
              "</div>"
            ],
            "text/plain": [
              "   Area Code                 Area  Item Code  ... Y2018F  Y2019 Y2019F\n",
              "0          8  Antigua and Barbuda        515  ...     Fc  478.0     Fc\n",
              "1          8  Antigua and Barbuda        515  ...     Fc  738.0     Fc\n",
              "2          8  Antigua and Barbuda        515  ...     Fc  101.0     Fc\n",
              "3          8  Antigua and Barbuda        515  ...     Fc   81.0     Fc\n",
              "4          8  Antigua and Barbuda        515  ...     Fc  125.0     Fc\n",
              "\n",
              "[5 rows x 125 columns]"
            ]
          },
          "metadata": {},
          "execution_count": 49
        }
      ]
    },
    {
      "cell_type": "code",
      "metadata": {
        "colab": {
          "base_uri": "https://localhost:8080/"
        },
        "id": "KiNzSa6nateN",
        "outputId": "ad9b00a3-8c95-4fc8-f89d-7e2b4ad8985e"
      },
      "source": [
        "print(df_america.columns)"
      ],
      "execution_count": 68,
      "outputs": [
        {
          "output_type": "stream",
          "name": "stdout",
          "text": [
            "Index(['Area Code', 'Area', 'Item Code', 'Item', 'Element Code', 'Element',\n",
            "       'Unit', 'Y1961', 'Y1961F', 'Y1962',\n",
            "       ...\n",
            "       'Y2015', 'Y2015F', 'Y2016', 'Y2016F', 'Y2017', 'Y2017F', 'Y2018',\n",
            "       'Y2018F', 'Y2019', 'Y2019F'],\n",
            "      dtype='object', length=125)\n"
          ]
        }
      ]
    },
    {
      "cell_type": "code",
      "metadata": {
        "id": "SA0IXB6za72C"
      },
      "source": [
        "df_colombia = df_america.loc[df_america[\"Area\"]== \"Colombia\", [\"Item\",\"Element\"]] # nombre de la columna en mi caso no funciono"
      ],
      "execution_count": 91,
      "outputs": []
    },
    {
      "cell_type": "code",
      "metadata": {
        "id": "NbFutj1Pl1g_"
      },
      "source": [
        ""
      ],
      "execution_count": null,
      "outputs": []
    },
    {
      "cell_type": "code",
      "metadata": {
        "colab": {
          "base_uri": "https://localhost:8080/",
          "height": 204
        },
        "id": "55av2doOgPjM",
        "outputId": "e4a62b44-38ed-43c1-b7db-491efeb19a4a"
      },
      "source": [
        "df_colombia.head()"
      ],
      "execution_count": 92,
      "outputs": [
        {
          "output_type": "execute_result",
          "data": {
            "text/html": [
              "<div>\n",
              "<style scoped>\n",
              "    .dataframe tbody tr th:only-of-type {\n",
              "        vertical-align: middle;\n",
              "    }\n",
              "\n",
              "    .dataframe tbody tr th {\n",
              "        vertical-align: top;\n",
              "    }\n",
              "\n",
              "    .dataframe thead th {\n",
              "        text-align: right;\n",
              "    }\n",
              "</style>\n",
              "<table border=\"1\" class=\"dataframe\">\n",
              "  <thead>\n",
              "    <tr style=\"text-align: right;\">\n",
              "      <th></th>\n",
              "      <th>Item</th>\n",
              "      <th>Element</th>\n",
              "    </tr>\n",
              "  </thead>\n",
              "  <tbody>\n",
              "    <tr>\n",
              "      <th>3373</th>\n",
              "      <td>Agave fibres nes</td>\n",
              "      <td>Gross Production Value (constant 2014-2016 tho...</td>\n",
              "    </tr>\n",
              "    <tr>\n",
              "      <th>3374</th>\n",
              "      <td>Agave fibres nes</td>\n",
              "      <td>Gross Production Value (current thousand SLC)</td>\n",
              "    </tr>\n",
              "    <tr>\n",
              "      <th>3375</th>\n",
              "      <td>Agave fibres nes</td>\n",
              "      <td>Gross Production Value (constant 2014-2016 tho...</td>\n",
              "    </tr>\n",
              "    <tr>\n",
              "      <th>3376</th>\n",
              "      <td>Agave fibres nes</td>\n",
              "      <td>Gross Production Value (current thousand US$)</td>\n",
              "    </tr>\n",
              "    <tr>\n",
              "      <th>3377</th>\n",
              "      <td>Agave fibres nes</td>\n",
              "      <td>Gross Production Value (constant 2014-2016 tho...</td>\n",
              "    </tr>\n",
              "  </tbody>\n",
              "</table>\n",
              "</div>"
            ],
            "text/plain": [
              "                  Item                                            Element\n",
              "3373  Agave fibres nes  Gross Production Value (constant 2014-2016 tho...\n",
              "3374  Agave fibres nes      Gross Production Value (current thousand SLC)\n",
              "3375  Agave fibres nes  Gross Production Value (constant 2014-2016 tho...\n",
              "3376  Agave fibres nes      Gross Production Value (current thousand US$)\n",
              "3377  Agave fibres nes  Gross Production Value (constant 2014-2016 tho..."
            ]
          },
          "metadata": {},
          "execution_count": 92
        }
      ]
    },
    {
      "cell_type": "code",
      "metadata": {
        "colab": {
          "base_uri": "https://localhost:8080/",
          "height": 297
        },
        "id": "X33lt362hFXJ",
        "outputId": "fc1ed9e5-1b35-4862-8fbd-6c51aec2dced"
      },
      "source": [
        "df_colombia.describe()"
      ],
      "execution_count": 95,
      "outputs": [
        {
          "output_type": "execute_result",
          "data": {
            "text/html": [
              "<div>\n",
              "<style scoped>\n",
              "    .dataframe tbody tr th:only-of-type {\n",
              "        vertical-align: middle;\n",
              "    }\n",
              "\n",
              "    .dataframe tbody tr th {\n",
              "        vertical-align: top;\n",
              "    }\n",
              "\n",
              "    .dataframe thead th {\n",
              "        text-align: right;\n",
              "    }\n",
              "</style>\n",
              "<table border=\"1\" class=\"dataframe\">\n",
              "  <thead>\n",
              "    <tr style=\"text-align: right;\">\n",
              "      <th></th>\n",
              "      <th>Y2019</th>\n",
              "    </tr>\n",
              "  </thead>\n",
              "  <tbody>\n",
              "    <tr>\n",
              "      <th>count</th>\n",
              "      <td>3.230000e+02</td>\n",
              "    </tr>\n",
              "    <tr>\n",
              "      <th>mean</th>\n",
              "      <td>1.679422e+09</td>\n",
              "    </tr>\n",
              "    <tr>\n",
              "      <th>std</th>\n",
              "      <td>7.305392e+09</td>\n",
              "    </tr>\n",
              "    <tr>\n",
              "      <th>min</th>\n",
              "      <td>1.600000e+01</td>\n",
              "    </tr>\n",
              "    <tr>\n",
              "      <th>25%</th>\n",
              "      <td>3.508850e+04</td>\n",
              "    </tr>\n",
              "    <tr>\n",
              "      <th>50%</th>\n",
              "      <td>8.217480e+05</td>\n",
              "    </tr>\n",
              "    <tr>\n",
              "      <th>75%</th>\n",
              "      <td>1.170120e+08</td>\n",
              "    </tr>\n",
              "    <tr>\n",
              "      <th>max</th>\n",
              "      <td>7.268734e+10</td>\n",
              "    </tr>\n",
              "  </tbody>\n",
              "</table>\n",
              "</div>"
            ],
            "text/plain": [
              "              Y2019\n",
              "count  3.230000e+02\n",
              "mean   1.679422e+09\n",
              "std    7.305392e+09\n",
              "min    1.600000e+01\n",
              "25%    3.508850e+04\n",
              "50%    8.217480e+05\n",
              "75%    1.170120e+08\n",
              "max    7.268734e+10"
            ]
          },
          "metadata": {},
          "execution_count": 95
        }
      ]
    },
    {
      "cell_type": "markdown",
      "metadata": {
        "id": "VWtBxdrOkypu"
      },
      "source": [
        "con nueva base de datos porque la anterior no tenía datos de colombia"
      ]
    },
    {
      "cell_type": "code",
      "metadata": {
        "id": "ap2X_d0ukxnS"
      },
      "source": [
        "df_america = pd.read_csv(\"Value_of_Production_E_Americas.csv\", encoding=\"ISO-8859-1\")"
      ],
      "execution_count": 85,
      "outputs": []
    },
    {
      "cell_type": "code",
      "metadata": {
        "colab": {
          "base_uri": "https://localhost:8080/",
          "height": 695
        },
        "id": "k84jjVk_llzF",
        "outputId": "2fd105f9-c469-4c1f-95e8-5c2be22f1e67"
      },
      "source": [
        "df_america.head(5) #los 5 primeros datos"
      ],
      "execution_count": 99,
      "outputs": [
        {
          "output_type": "execute_result",
          "data": {
            "text/html": [
              "<div>\n",
              "<style scoped>\n",
              "    .dataframe tbody tr th:only-of-type {\n",
              "        vertical-align: middle;\n",
              "    }\n",
              "\n",
              "    .dataframe tbody tr th {\n",
              "        vertical-align: top;\n",
              "    }\n",
              "\n",
              "    .dataframe thead th {\n",
              "        text-align: right;\n",
              "    }\n",
              "</style>\n",
              "<table border=\"1\" class=\"dataframe\">\n",
              "  <thead>\n",
              "    <tr style=\"text-align: right;\">\n",
              "      <th></th>\n",
              "      <th>Area Code</th>\n",
              "      <th>Area</th>\n",
              "      <th>Item Code</th>\n",
              "      <th>Item</th>\n",
              "      <th>Element Code</th>\n",
              "      <th>Element</th>\n",
              "      <th>Unit</th>\n",
              "      <th>Y1961</th>\n",
              "      <th>Y1961F</th>\n",
              "      <th>Y1962</th>\n",
              "      <th>Y1962F</th>\n",
              "      <th>Y1963</th>\n",
              "      <th>Y1963F</th>\n",
              "      <th>Y1964</th>\n",
              "      <th>Y1964F</th>\n",
              "      <th>Y1965</th>\n",
              "      <th>Y1965F</th>\n",
              "      <th>Y1966</th>\n",
              "      <th>Y1966F</th>\n",
              "      <th>Y1967</th>\n",
              "      <th>Y1967F</th>\n",
              "      <th>Y1968</th>\n",
              "      <th>Y1968F</th>\n",
              "      <th>Y1969</th>\n",
              "      <th>Y1969F</th>\n",
              "      <th>Y1970</th>\n",
              "      <th>Y1970F</th>\n",
              "      <th>Y1971</th>\n",
              "      <th>Y1971F</th>\n",
              "      <th>Y1972</th>\n",
              "      <th>Y1972F</th>\n",
              "      <th>Y1973</th>\n",
              "      <th>Y1973F</th>\n",
              "      <th>Y1974</th>\n",
              "      <th>Y1974F</th>\n",
              "      <th>Y1975</th>\n",
              "      <th>Y1975F</th>\n",
              "      <th>Y1976</th>\n",
              "      <th>Y1976F</th>\n",
              "      <th>Y1977</th>\n",
              "      <th>...</th>\n",
              "      <th>Y2000</th>\n",
              "      <th>Y2000F</th>\n",
              "      <th>Y2001</th>\n",
              "      <th>Y2001F</th>\n",
              "      <th>Y2002</th>\n",
              "      <th>Y2002F</th>\n",
              "      <th>Y2003</th>\n",
              "      <th>Y2003F</th>\n",
              "      <th>Y2004</th>\n",
              "      <th>Y2004F</th>\n",
              "      <th>Y2005</th>\n",
              "      <th>Y2005F</th>\n",
              "      <th>Y2006</th>\n",
              "      <th>Y2006F</th>\n",
              "      <th>Y2007</th>\n",
              "      <th>Y2007F</th>\n",
              "      <th>Y2008</th>\n",
              "      <th>Y2008F</th>\n",
              "      <th>Y2009</th>\n",
              "      <th>Y2009F</th>\n",
              "      <th>Y2010</th>\n",
              "      <th>Y2010F</th>\n",
              "      <th>Y2011</th>\n",
              "      <th>Y2011F</th>\n",
              "      <th>Y2012</th>\n",
              "      <th>Y2012F</th>\n",
              "      <th>Y2013</th>\n",
              "      <th>Y2013F</th>\n",
              "      <th>Y2014</th>\n",
              "      <th>Y2014F</th>\n",
              "      <th>Y2015</th>\n",
              "      <th>Y2015F</th>\n",
              "      <th>Y2016</th>\n",
              "      <th>Y2016F</th>\n",
              "      <th>Y2017</th>\n",
              "      <th>Y2017F</th>\n",
              "      <th>Y2018</th>\n",
              "      <th>Y2018F</th>\n",
              "      <th>Y2019</th>\n",
              "      <th>Y2019F</th>\n",
              "    </tr>\n",
              "  </thead>\n",
              "  <tbody>\n",
              "    <tr>\n",
              "      <th>0</th>\n",
              "      <td>8</td>\n",
              "      <td>Antigua and Barbuda</td>\n",
              "      <td>486</td>\n",
              "      <td>Bananas</td>\n",
              "      <td>152</td>\n",
              "      <td>Gross Production Value (constant 2014-2016 tho...</td>\n",
              "      <td>1000 Int. $</td>\n",
              "      <td>NaN</td>\n",
              "      <td>NaN</td>\n",
              "      <td>NaN</td>\n",
              "      <td>NaN</td>\n",
              "      <td>NaN</td>\n",
              "      <td>NaN</td>\n",
              "      <td>NaN</td>\n",
              "      <td>NaN</td>\n",
              "      <td>NaN</td>\n",
              "      <td>NaN</td>\n",
              "      <td>2.0</td>\n",
              "      <td>Fc</td>\n",
              "      <td>3.0</td>\n",
              "      <td>Fc</td>\n",
              "      <td>4.0</td>\n",
              "      <td>Fc</td>\n",
              "      <td>4.0</td>\n",
              "      <td>Fc</td>\n",
              "      <td>5.0</td>\n",
              "      <td>Fc</td>\n",
              "      <td>6.0</td>\n",
              "      <td>Fc</td>\n",
              "      <td>7.0</td>\n",
              "      <td>Fc</td>\n",
              "      <td>3.0</td>\n",
              "      <td>Fc</td>\n",
              "      <td>11.0</td>\n",
              "      <td>Fc</td>\n",
              "      <td>4.0</td>\n",
              "      <td>Fc</td>\n",
              "      <td>8.0</td>\n",
              "      <td>Fc</td>\n",
              "      <td>4.0</td>\n",
              "      <td>...</td>\n",
              "      <td>57.0</td>\n",
              "      <td>Fc</td>\n",
              "      <td>64.0</td>\n",
              "      <td>Fc</td>\n",
              "      <td>71.0</td>\n",
              "      <td>Fc</td>\n",
              "      <td>75.0</td>\n",
              "      <td>Fc</td>\n",
              "      <td>78.0</td>\n",
              "      <td>Fc</td>\n",
              "      <td>78.0</td>\n",
              "      <td>Fc</td>\n",
              "      <td>79.0</td>\n",
              "      <td>Fc</td>\n",
              "      <td>79.0</td>\n",
              "      <td>Fc</td>\n",
              "      <td>80.0</td>\n",
              "      <td>Fc</td>\n",
              "      <td>81.0</td>\n",
              "      <td>Fc</td>\n",
              "      <td>80.0</td>\n",
              "      <td>Fc</td>\n",
              "      <td>85.0</td>\n",
              "      <td>Fc</td>\n",
              "      <td>89.0</td>\n",
              "      <td>Fc</td>\n",
              "      <td>91.0</td>\n",
              "      <td>Fc</td>\n",
              "      <td>92.0</td>\n",
              "      <td>Fc</td>\n",
              "      <td>94.0</td>\n",
              "      <td>Fc</td>\n",
              "      <td>94.0</td>\n",
              "      <td>Fc</td>\n",
              "      <td>96.0</td>\n",
              "      <td>Fc</td>\n",
              "      <td>97.0</td>\n",
              "      <td>Fc</td>\n",
              "      <td>98.0</td>\n",
              "      <td>Fc</td>\n",
              "    </tr>\n",
              "    <tr>\n",
              "      <th>1</th>\n",
              "      <td>8</td>\n",
              "      <td>Antigua and Barbuda</td>\n",
              "      <td>486</td>\n",
              "      <td>Bananas</td>\n",
              "      <td>56</td>\n",
              "      <td>Gross Production Value (current thousand SLC)</td>\n",
              "      <td>1000 SLC</td>\n",
              "      <td>NaN</td>\n",
              "      <td>NaN</td>\n",
              "      <td>NaN</td>\n",
              "      <td>NaN</td>\n",
              "      <td>NaN</td>\n",
              "      <td>NaN</td>\n",
              "      <td>NaN</td>\n",
              "      <td>NaN</td>\n",
              "      <td>NaN</td>\n",
              "      <td>NaN</td>\n",
              "      <td>NaN</td>\n",
              "      <td>NaN</td>\n",
              "      <td>NaN</td>\n",
              "      <td>NaN</td>\n",
              "      <td>NaN</td>\n",
              "      <td>NaN</td>\n",
              "      <td>NaN</td>\n",
              "      <td>NaN</td>\n",
              "      <td>NaN</td>\n",
              "      <td>NaN</td>\n",
              "      <td>NaN</td>\n",
              "      <td>NaN</td>\n",
              "      <td>NaN</td>\n",
              "      <td>NaN</td>\n",
              "      <td>NaN</td>\n",
              "      <td>NaN</td>\n",
              "      <td>NaN</td>\n",
              "      <td>NaN</td>\n",
              "      <td>NaN</td>\n",
              "      <td>NaN</td>\n",
              "      <td>NaN</td>\n",
              "      <td>NaN</td>\n",
              "      <td>NaN</td>\n",
              "      <td>...</td>\n",
              "      <td>NaN</td>\n",
              "      <td>NaN</td>\n",
              "      <td>NaN</td>\n",
              "      <td>NaN</td>\n",
              "      <td>NaN</td>\n",
              "      <td>NaN</td>\n",
              "      <td>NaN</td>\n",
              "      <td>NaN</td>\n",
              "      <td>NaN</td>\n",
              "      <td>NaN</td>\n",
              "      <td>NaN</td>\n",
              "      <td>NaN</td>\n",
              "      <td>NaN</td>\n",
              "      <td>NaN</td>\n",
              "      <td>NaN</td>\n",
              "      <td>NaN</td>\n",
              "      <td>1114.0</td>\n",
              "      <td>Fc</td>\n",
              "      <td>1135.0</td>\n",
              "      <td>Fc</td>\n",
              "      <td>1128.0</td>\n",
              "      <td>Fc</td>\n",
              "      <td>1236.0</td>\n",
              "      <td>Fc</td>\n",
              "      <td>1308.0</td>\n",
              "      <td>Fc</td>\n",
              "      <td>1323.0</td>\n",
              "      <td>Fc</td>\n",
              "      <td>1389.0</td>\n",
              "      <td>Fc</td>\n",
              "      <td>1431.0</td>\n",
              "      <td>Fc</td>\n",
              "      <td>2938.0</td>\n",
              "      <td>Fc</td>\n",
              "      <td>3431.0</td>\n",
              "      <td>Fc</td>\n",
              "      <td>3559.0</td>\n",
              "      <td>Fc</td>\n",
              "      <td>NaN</td>\n",
              "      <td>NaN</td>\n",
              "    </tr>\n",
              "    <tr>\n",
              "      <th>2</th>\n",
              "      <td>8</td>\n",
              "      <td>Antigua and Barbuda</td>\n",
              "      <td>486</td>\n",
              "      <td>Bananas</td>\n",
              "      <td>55</td>\n",
              "      <td>Gross Production Value (constant 2014-2016 tho...</td>\n",
              "      <td>1000 SLC</td>\n",
              "      <td>NaN</td>\n",
              "      <td>NaN</td>\n",
              "      <td>NaN</td>\n",
              "      <td>NaN</td>\n",
              "      <td>NaN</td>\n",
              "      <td>NaN</td>\n",
              "      <td>NaN</td>\n",
              "      <td>NaN</td>\n",
              "      <td>NaN</td>\n",
              "      <td>NaN</td>\n",
              "      <td>36.0</td>\n",
              "      <td>Fc</td>\n",
              "      <td>58.0</td>\n",
              "      <td>Fc</td>\n",
              "      <td>73.0</td>\n",
              "      <td>Fc</td>\n",
              "      <td>88.0</td>\n",
              "      <td>Fc</td>\n",
              "      <td>109.0</td>\n",
              "      <td>Fc</td>\n",
              "      <td>131.0</td>\n",
              "      <td>Fc</td>\n",
              "      <td>146.0</td>\n",
              "      <td>Fc</td>\n",
              "      <td>58.0</td>\n",
              "      <td>Fc</td>\n",
              "      <td>233.0</td>\n",
              "      <td>Fc</td>\n",
              "      <td>88.0</td>\n",
              "      <td>Fc</td>\n",
              "      <td>168.0</td>\n",
              "      <td>Fc</td>\n",
              "      <td>80.0</td>\n",
              "      <td>...</td>\n",
              "      <td>1167.0</td>\n",
              "      <td>Fc</td>\n",
              "      <td>1313.0</td>\n",
              "      <td>Fc</td>\n",
              "      <td>1459.0</td>\n",
              "      <td>Fc</td>\n",
              "      <td>1532.0</td>\n",
              "      <td>Fc</td>\n",
              "      <td>1605.0</td>\n",
              "      <td>Fc</td>\n",
              "      <td>1590.0</td>\n",
              "      <td>Fc</td>\n",
              "      <td>1627.0</td>\n",
              "      <td>Fc</td>\n",
              "      <td>1620.0</td>\n",
              "      <td>Fc</td>\n",
              "      <td>1642.0</td>\n",
              "      <td>Fc</td>\n",
              "      <td>1663.0</td>\n",
              "      <td>Fc</td>\n",
              "      <td>1642.0</td>\n",
              "      <td>Fc</td>\n",
              "      <td>1744.0</td>\n",
              "      <td>Fc</td>\n",
              "      <td>1824.0</td>\n",
              "      <td>Fc</td>\n",
              "      <td>1860.0</td>\n",
              "      <td>Fc</td>\n",
              "      <td>1890.0</td>\n",
              "      <td>Fc</td>\n",
              "      <td>1919.0</td>\n",
              "      <td>Fc</td>\n",
              "      <td>1933.0</td>\n",
              "      <td>Fc</td>\n",
              "      <td>1963.0</td>\n",
              "      <td>Fc</td>\n",
              "      <td>1992.0</td>\n",
              "      <td>Fc</td>\n",
              "      <td>2014.0</td>\n",
              "      <td>Fc</td>\n",
              "    </tr>\n",
              "    <tr>\n",
              "      <th>3</th>\n",
              "      <td>8</td>\n",
              "      <td>Antigua and Barbuda</td>\n",
              "      <td>486</td>\n",
              "      <td>Bananas</td>\n",
              "      <td>57</td>\n",
              "      <td>Gross Production Value (current thousand US$)</td>\n",
              "      <td>1000 US$</td>\n",
              "      <td>NaN</td>\n",
              "      <td>NaN</td>\n",
              "      <td>NaN</td>\n",
              "      <td>NaN</td>\n",
              "      <td>NaN</td>\n",
              "      <td>NaN</td>\n",
              "      <td>NaN</td>\n",
              "      <td>NaN</td>\n",
              "      <td>NaN</td>\n",
              "      <td>NaN</td>\n",
              "      <td>NaN</td>\n",
              "      <td>NaN</td>\n",
              "      <td>NaN</td>\n",
              "      <td>NaN</td>\n",
              "      <td>NaN</td>\n",
              "      <td>NaN</td>\n",
              "      <td>NaN</td>\n",
              "      <td>NaN</td>\n",
              "      <td>NaN</td>\n",
              "      <td>NaN</td>\n",
              "      <td>NaN</td>\n",
              "      <td>NaN</td>\n",
              "      <td>NaN</td>\n",
              "      <td>NaN</td>\n",
              "      <td>NaN</td>\n",
              "      <td>NaN</td>\n",
              "      <td>NaN</td>\n",
              "      <td>NaN</td>\n",
              "      <td>NaN</td>\n",
              "      <td>NaN</td>\n",
              "      <td>NaN</td>\n",
              "      <td>NaN</td>\n",
              "      <td>NaN</td>\n",
              "      <td>...</td>\n",
              "      <td>NaN</td>\n",
              "      <td>NaN</td>\n",
              "      <td>NaN</td>\n",
              "      <td>NaN</td>\n",
              "      <td>NaN</td>\n",
              "      <td>NaN</td>\n",
              "      <td>NaN</td>\n",
              "      <td>NaN</td>\n",
              "      <td>NaN</td>\n",
              "      <td>NaN</td>\n",
              "      <td>NaN</td>\n",
              "      <td>NaN</td>\n",
              "      <td>NaN</td>\n",
              "      <td>NaN</td>\n",
              "      <td>NaN</td>\n",
              "      <td>NaN</td>\n",
              "      <td>413.0</td>\n",
              "      <td>Fc</td>\n",
              "      <td>420.0</td>\n",
              "      <td>Fc</td>\n",
              "      <td>418.0</td>\n",
              "      <td>Fc</td>\n",
              "      <td>458.0</td>\n",
              "      <td>Fc</td>\n",
              "      <td>485.0</td>\n",
              "      <td>Fc</td>\n",
              "      <td>490.0</td>\n",
              "      <td>Fc</td>\n",
              "      <td>514.0</td>\n",
              "      <td>Fc</td>\n",
              "      <td>530.0</td>\n",
              "      <td>Fc</td>\n",
              "      <td>1088.0</td>\n",
              "      <td>Fc</td>\n",
              "      <td>1271.0</td>\n",
              "      <td>Fc</td>\n",
              "      <td>1318.0</td>\n",
              "      <td>Fc</td>\n",
              "      <td>NaN</td>\n",
              "      <td>NaN</td>\n",
              "    </tr>\n",
              "    <tr>\n",
              "      <th>4</th>\n",
              "      <td>8</td>\n",
              "      <td>Antigua and Barbuda</td>\n",
              "      <td>486</td>\n",
              "      <td>Bananas</td>\n",
              "      <td>58</td>\n",
              "      <td>Gross Production Value (constant 2014-2016 tho...</td>\n",
              "      <td>1000 US$</td>\n",
              "      <td>NaN</td>\n",
              "      <td>NaN</td>\n",
              "      <td>NaN</td>\n",
              "      <td>NaN</td>\n",
              "      <td>NaN</td>\n",
              "      <td>NaN</td>\n",
              "      <td>NaN</td>\n",
              "      <td>NaN</td>\n",
              "      <td>NaN</td>\n",
              "      <td>NaN</td>\n",
              "      <td>14.0</td>\n",
              "      <td>Fc</td>\n",
              "      <td>22.0</td>\n",
              "      <td>Fc</td>\n",
              "      <td>27.0</td>\n",
              "      <td>Fc</td>\n",
              "      <td>32.0</td>\n",
              "      <td>Fc</td>\n",
              "      <td>41.0</td>\n",
              "      <td>Fc</td>\n",
              "      <td>49.0</td>\n",
              "      <td>Fc</td>\n",
              "      <td>54.0</td>\n",
              "      <td>Fc</td>\n",
              "      <td>22.0</td>\n",
              "      <td>Fc</td>\n",
              "      <td>86.0</td>\n",
              "      <td>Fc</td>\n",
              "      <td>32.0</td>\n",
              "      <td>Fc</td>\n",
              "      <td>62.0</td>\n",
              "      <td>Fc</td>\n",
              "      <td>30.0</td>\n",
              "      <td>...</td>\n",
              "      <td>432.0</td>\n",
              "      <td>Fc</td>\n",
              "      <td>486.0</td>\n",
              "      <td>Fc</td>\n",
              "      <td>540.0</td>\n",
              "      <td>Fc</td>\n",
              "      <td>567.0</td>\n",
              "      <td>Fc</td>\n",
              "      <td>594.0</td>\n",
              "      <td>Fc</td>\n",
              "      <td>589.0</td>\n",
              "      <td>Fc</td>\n",
              "      <td>603.0</td>\n",
              "      <td>Fc</td>\n",
              "      <td>600.0</td>\n",
              "      <td>Fc</td>\n",
              "      <td>608.0</td>\n",
              "      <td>Fc</td>\n",
              "      <td>616.0</td>\n",
              "      <td>Fc</td>\n",
              "      <td>608.0</td>\n",
              "      <td>Fc</td>\n",
              "      <td>646.0</td>\n",
              "      <td>Fc</td>\n",
              "      <td>676.0</td>\n",
              "      <td>Fc</td>\n",
              "      <td>689.0</td>\n",
              "      <td>Fc</td>\n",
              "      <td>700.0</td>\n",
              "      <td>Fc</td>\n",
              "      <td>711.0</td>\n",
              "      <td>Fc</td>\n",
              "      <td>716.0</td>\n",
              "      <td>Fc</td>\n",
              "      <td>727.0</td>\n",
              "      <td>Fc</td>\n",
              "      <td>738.0</td>\n",
              "      <td>Fc</td>\n",
              "      <td>746.0</td>\n",
              "      <td>Fc</td>\n",
              "    </tr>\n",
              "  </tbody>\n",
              "</table>\n",
              "<p>5 rows × 125 columns</p>\n",
              "</div>"
            ],
            "text/plain": [
              "   Area Code                 Area  Item Code  ... Y2018F   Y2019 Y2019F\n",
              "0          8  Antigua and Barbuda        486  ...     Fc    98.0     Fc\n",
              "1          8  Antigua and Barbuda        486  ...     Fc     NaN    NaN\n",
              "2          8  Antigua and Barbuda        486  ...     Fc  2014.0     Fc\n",
              "3          8  Antigua and Barbuda        486  ...     Fc     NaN    NaN\n",
              "4          8  Antigua and Barbuda        486  ...     Fc   746.0     Fc\n",
              "\n",
              "[5 rows x 125 columns]"
            ]
          },
          "metadata": {},
          "execution_count": 99
        }
      ]
    },
    {
      "cell_type": "code",
      "metadata": {
        "colab": {
          "base_uri": "https://localhost:8080/",
          "height": 695
        },
        "id": "fgiVigV3oKSu",
        "outputId": "ab5d3e9b-462c-432e-d73f-827d7a3418fb"
      },
      "source": [
        "df_america.tail(5) #los 5 últimos datos"
      ],
      "execution_count": 101,
      "outputs": [
        {
          "output_type": "execute_result",
          "data": {
            "text/html": [
              "<div>\n",
              "<style scoped>\n",
              "    .dataframe tbody tr th:only-of-type {\n",
              "        vertical-align: middle;\n",
              "    }\n",
              "\n",
              "    .dataframe tbody tr th {\n",
              "        vertical-align: top;\n",
              "    }\n",
              "\n",
              "    .dataframe thead th {\n",
              "        text-align: right;\n",
              "    }\n",
              "</style>\n",
              "<table border=\"1\" class=\"dataframe\">\n",
              "  <thead>\n",
              "    <tr style=\"text-align: right;\">\n",
              "      <th></th>\n",
              "      <th>Area Code</th>\n",
              "      <th>Area</th>\n",
              "      <th>Item Code</th>\n",
              "      <th>Item</th>\n",
              "      <th>Element Code</th>\n",
              "      <th>Element</th>\n",
              "      <th>Unit</th>\n",
              "      <th>Y1961</th>\n",
              "      <th>Y1961F</th>\n",
              "      <th>Y1962</th>\n",
              "      <th>Y1962F</th>\n",
              "      <th>Y1963</th>\n",
              "      <th>Y1963F</th>\n",
              "      <th>Y1964</th>\n",
              "      <th>Y1964F</th>\n",
              "      <th>Y1965</th>\n",
              "      <th>Y1965F</th>\n",
              "      <th>Y1966</th>\n",
              "      <th>Y1966F</th>\n",
              "      <th>Y1967</th>\n",
              "      <th>Y1967F</th>\n",
              "      <th>Y1968</th>\n",
              "      <th>Y1968F</th>\n",
              "      <th>Y1969</th>\n",
              "      <th>Y1969F</th>\n",
              "      <th>Y1970</th>\n",
              "      <th>Y1970F</th>\n",
              "      <th>Y1971</th>\n",
              "      <th>Y1971F</th>\n",
              "      <th>Y1972</th>\n",
              "      <th>Y1972F</th>\n",
              "      <th>Y1973</th>\n",
              "      <th>Y1973F</th>\n",
              "      <th>Y1974</th>\n",
              "      <th>Y1974F</th>\n",
              "      <th>Y1975</th>\n",
              "      <th>Y1975F</th>\n",
              "      <th>Y1976</th>\n",
              "      <th>Y1976F</th>\n",
              "      <th>Y1977</th>\n",
              "      <th>...</th>\n",
              "      <th>Y2000</th>\n",
              "      <th>Y2000F</th>\n",
              "      <th>Y2001</th>\n",
              "      <th>Y2001F</th>\n",
              "      <th>Y2002</th>\n",
              "      <th>Y2002F</th>\n",
              "      <th>Y2003</th>\n",
              "      <th>Y2003F</th>\n",
              "      <th>Y2004</th>\n",
              "      <th>Y2004F</th>\n",
              "      <th>Y2005</th>\n",
              "      <th>Y2005F</th>\n",
              "      <th>Y2006</th>\n",
              "      <th>Y2006F</th>\n",
              "      <th>Y2007</th>\n",
              "      <th>Y2007F</th>\n",
              "      <th>Y2008</th>\n",
              "      <th>Y2008F</th>\n",
              "      <th>Y2009</th>\n",
              "      <th>Y2009F</th>\n",
              "      <th>Y2010</th>\n",
              "      <th>Y2010F</th>\n",
              "      <th>Y2011</th>\n",
              "      <th>Y2011F</th>\n",
              "      <th>Y2012</th>\n",
              "      <th>Y2012F</th>\n",
              "      <th>Y2013</th>\n",
              "      <th>Y2013F</th>\n",
              "      <th>Y2014</th>\n",
              "      <th>Y2014F</th>\n",
              "      <th>Y2015</th>\n",
              "      <th>Y2015F</th>\n",
              "      <th>Y2016</th>\n",
              "      <th>Y2016F</th>\n",
              "      <th>Y2017</th>\n",
              "      <th>Y2017F</th>\n",
              "      <th>Y2018</th>\n",
              "      <th>Y2018F</th>\n",
              "      <th>Y2019</th>\n",
              "      <th>Y2019F</th>\n",
              "    </tr>\n",
              "  </thead>\n",
              "  <tbody>\n",
              "    <tr>\n",
              "      <th>12589</th>\n",
              "      <td>236</td>\n",
              "      <td>Venezuela (Bolivarian Republic of)</td>\n",
              "      <td>1739</td>\n",
              "      <td>Vegetables and Fruit Primary</td>\n",
              "      <td>152</td>\n",
              "      <td>Gross Production Value (constant 2014-2016 tho...</td>\n",
              "      <td>1000 Int. $</td>\n",
              "      <td>614473.0</td>\n",
              "      <td>A</td>\n",
              "      <td>571449.0</td>\n",
              "      <td>A</td>\n",
              "      <td>620689.0</td>\n",
              "      <td>A</td>\n",
              "      <td>633551.0</td>\n",
              "      <td>A</td>\n",
              "      <td>669157.0</td>\n",
              "      <td>A</td>\n",
              "      <td>674730.0</td>\n",
              "      <td>A</td>\n",
              "      <td>675215.0</td>\n",
              "      <td>A</td>\n",
              "      <td>735418.0</td>\n",
              "      <td>A</td>\n",
              "      <td>750313.0</td>\n",
              "      <td>A</td>\n",
              "      <td>786423.0</td>\n",
              "      <td>A</td>\n",
              "      <td>795311.0</td>\n",
              "      <td>A</td>\n",
              "      <td>810731.0</td>\n",
              "      <td>A</td>\n",
              "      <td>777167.0</td>\n",
              "      <td>A</td>\n",
              "      <td>810636.0</td>\n",
              "      <td>A</td>\n",
              "      <td>802217.0</td>\n",
              "      <td>A</td>\n",
              "      <td>828546.0</td>\n",
              "      <td>A</td>\n",
              "      <td>908027.0</td>\n",
              "      <td>...</td>\n",
              "      <td>1665304.0</td>\n",
              "      <td>A</td>\n",
              "      <td>1641698.0</td>\n",
              "      <td>A</td>\n",
              "      <td>1561443.0</td>\n",
              "      <td>A</td>\n",
              "      <td>1494674.0</td>\n",
              "      <td>A</td>\n",
              "      <td>1441118.0</td>\n",
              "      <td>A</td>\n",
              "      <td>1601357.0</td>\n",
              "      <td>A</td>\n",
              "      <td>1450351.0</td>\n",
              "      <td>A</td>\n",
              "      <td>1564214.0</td>\n",
              "      <td>A</td>\n",
              "      <td>1511659.0</td>\n",
              "      <td>A</td>\n",
              "      <td>1573754.0</td>\n",
              "      <td>A</td>\n",
              "      <td>1692406.0</td>\n",
              "      <td>A</td>\n",
              "      <td>1901003.0</td>\n",
              "      <td>A</td>\n",
              "      <td>1614317.0</td>\n",
              "      <td>A</td>\n",
              "      <td>1789829.0</td>\n",
              "      <td>A</td>\n",
              "      <td>1943980.0</td>\n",
              "      <td>A</td>\n",
              "      <td>2034720.0</td>\n",
              "      <td>A</td>\n",
              "      <td>2013815.0</td>\n",
              "      <td>A</td>\n",
              "      <td>1955507.0</td>\n",
              "      <td>A</td>\n",
              "      <td>1931138.0</td>\n",
              "      <td>A</td>\n",
              "      <td>1910384.0</td>\n",
              "      <td>A</td>\n",
              "    </tr>\n",
              "    <tr>\n",
              "      <th>12590</th>\n",
              "      <td>236</td>\n",
              "      <td>Venezuela (Bolivarian Republic of)</td>\n",
              "      <td>1739</td>\n",
              "      <td>Vegetables and Fruit Primary</td>\n",
              "      <td>56</td>\n",
              "      <td>Gross Production Value (current thousand SLC)</td>\n",
              "      <td>1000 SLC</td>\n",
              "      <td>NaN</td>\n",
              "      <td>NaN</td>\n",
              "      <td>NaN</td>\n",
              "      <td>NaN</td>\n",
              "      <td>NaN</td>\n",
              "      <td>NaN</td>\n",
              "      <td>NaN</td>\n",
              "      <td>NaN</td>\n",
              "      <td>NaN</td>\n",
              "      <td>NaN</td>\n",
              "      <td>NaN</td>\n",
              "      <td>NaN</td>\n",
              "      <td>NaN</td>\n",
              "      <td>NaN</td>\n",
              "      <td>NaN</td>\n",
              "      <td>NaN</td>\n",
              "      <td>NaN</td>\n",
              "      <td>NaN</td>\n",
              "      <td>NaN</td>\n",
              "      <td>NaN</td>\n",
              "      <td>NaN</td>\n",
              "      <td>NaN</td>\n",
              "      <td>NaN</td>\n",
              "      <td>NaN</td>\n",
              "      <td>NaN</td>\n",
              "      <td>NaN</td>\n",
              "      <td>NaN</td>\n",
              "      <td>NaN</td>\n",
              "      <td>NaN</td>\n",
              "      <td>NaN</td>\n",
              "      <td>NaN</td>\n",
              "      <td>NaN</td>\n",
              "      <td>NaN</td>\n",
              "      <td>...</td>\n",
              "      <td>754934.0</td>\n",
              "      <td>A</td>\n",
              "      <td>860134.0</td>\n",
              "      <td>A</td>\n",
              "      <td>969544.0</td>\n",
              "      <td>A</td>\n",
              "      <td>1408204.0</td>\n",
              "      <td>A</td>\n",
              "      <td>1769861.0</td>\n",
              "      <td>A</td>\n",
              "      <td>2635073.0</td>\n",
              "      <td>A</td>\n",
              "      <td>3159082.0</td>\n",
              "      <td>A</td>\n",
              "      <td>4622351.0</td>\n",
              "      <td>A</td>\n",
              "      <td>6562723.0</td>\n",
              "      <td>A</td>\n",
              "      <td>9557300.0</td>\n",
              "      <td>A</td>\n",
              "      <td>16154030.0</td>\n",
              "      <td>A</td>\n",
              "      <td>26216568.0</td>\n",
              "      <td>A</td>\n",
              "      <td>26767782.0</td>\n",
              "      <td>A</td>\n",
              "      <td>42532843.0</td>\n",
              "      <td>A</td>\n",
              "      <td>96655106.0</td>\n",
              "      <td>A</td>\n",
              "      <td>NaN</td>\n",
              "      <td>NaN</td>\n",
              "      <td>NaN</td>\n",
              "      <td>NaN</td>\n",
              "      <td>NaN</td>\n",
              "      <td>NaN</td>\n",
              "      <td>NaN</td>\n",
              "      <td>NaN</td>\n",
              "      <td>NaN</td>\n",
              "      <td>NaN</td>\n",
              "    </tr>\n",
              "    <tr>\n",
              "      <th>12591</th>\n",
              "      <td>236</td>\n",
              "      <td>Venezuela (Bolivarian Republic of)</td>\n",
              "      <td>1739</td>\n",
              "      <td>Vegetables and Fruit Primary</td>\n",
              "      <td>55</td>\n",
              "      <td>Gross Production Value (constant 2014-2016 tho...</td>\n",
              "      <td>1000 SLC</td>\n",
              "      <td>25388406.0</td>\n",
              "      <td>A</td>\n",
              "      <td>23892529.0</td>\n",
              "      <td>A</td>\n",
              "      <td>25511073.0</td>\n",
              "      <td>A</td>\n",
              "      <td>26602437.0</td>\n",
              "      <td>A</td>\n",
              "      <td>27835689.0</td>\n",
              "      <td>A</td>\n",
              "      <td>28295869.0</td>\n",
              "      <td>A</td>\n",
              "      <td>28023947.0</td>\n",
              "      <td>A</td>\n",
              "      <td>30798696.0</td>\n",
              "      <td>A</td>\n",
              "      <td>31719823.0</td>\n",
              "      <td>A</td>\n",
              "      <td>33822522.0</td>\n",
              "      <td>A</td>\n",
              "      <td>34544981.0</td>\n",
              "      <td>A</td>\n",
              "      <td>35459124.0</td>\n",
              "      <td>A</td>\n",
              "      <td>34512480.0</td>\n",
              "      <td>A</td>\n",
              "      <td>36167091.0</td>\n",
              "      <td>A</td>\n",
              "      <td>36281943.0</td>\n",
              "      <td>A</td>\n",
              "      <td>37573215.0</td>\n",
              "      <td>A</td>\n",
              "      <td>41827961.0</td>\n",
              "      <td>...</td>\n",
              "      <td>86000055.0</td>\n",
              "      <td>A</td>\n",
              "      <td>86255981.0</td>\n",
              "      <td>A</td>\n",
              "      <td>80800057.0</td>\n",
              "      <td>A</td>\n",
              "      <td>77976957.0</td>\n",
              "      <td>A</td>\n",
              "      <td>76088675.0</td>\n",
              "      <td>A</td>\n",
              "      <td>83216201.0</td>\n",
              "      <td>A</td>\n",
              "      <td>75899829.0</td>\n",
              "      <td>A</td>\n",
              "      <td>81360483.0</td>\n",
              "      <td>A</td>\n",
              "      <td>80162174.0</td>\n",
              "      <td>A</td>\n",
              "      <td>84750802.0</td>\n",
              "      <td>A</td>\n",
              "      <td>89493561.0</td>\n",
              "      <td>A</td>\n",
              "      <td>97062492.0</td>\n",
              "      <td>A</td>\n",
              "      <td>79601937.0</td>\n",
              "      <td>A</td>\n",
              "      <td>88343889.0</td>\n",
              "      <td>A</td>\n",
              "      <td>96655106.0</td>\n",
              "      <td>A</td>\n",
              "      <td>100912641.0</td>\n",
              "      <td>A</td>\n",
              "      <td>98342602.0</td>\n",
              "      <td>A</td>\n",
              "      <td>97112083.0</td>\n",
              "      <td>A</td>\n",
              "      <td>96536545.0</td>\n",
              "      <td>A</td>\n",
              "      <td>95134991.0</td>\n",
              "      <td>A</td>\n",
              "    </tr>\n",
              "    <tr>\n",
              "      <th>12592</th>\n",
              "      <td>236</td>\n",
              "      <td>Venezuela (Bolivarian Republic of)</td>\n",
              "      <td>1739</td>\n",
              "      <td>Vegetables and Fruit Primary</td>\n",
              "      <td>57</td>\n",
              "      <td>Gross Production Value (current thousand US$)</td>\n",
              "      <td>1000 US$</td>\n",
              "      <td>NaN</td>\n",
              "      <td>NaN</td>\n",
              "      <td>NaN</td>\n",
              "      <td>NaN</td>\n",
              "      <td>NaN</td>\n",
              "      <td>NaN</td>\n",
              "      <td>NaN</td>\n",
              "      <td>NaN</td>\n",
              "      <td>NaN</td>\n",
              "      <td>NaN</td>\n",
              "      <td>NaN</td>\n",
              "      <td>NaN</td>\n",
              "      <td>NaN</td>\n",
              "      <td>NaN</td>\n",
              "      <td>NaN</td>\n",
              "      <td>NaN</td>\n",
              "      <td>NaN</td>\n",
              "      <td>NaN</td>\n",
              "      <td>NaN</td>\n",
              "      <td>NaN</td>\n",
              "      <td>NaN</td>\n",
              "      <td>NaN</td>\n",
              "      <td>NaN</td>\n",
              "      <td>NaN</td>\n",
              "      <td>NaN</td>\n",
              "      <td>NaN</td>\n",
              "      <td>NaN</td>\n",
              "      <td>NaN</td>\n",
              "      <td>NaN</td>\n",
              "      <td>NaN</td>\n",
              "      <td>NaN</td>\n",
              "      <td>NaN</td>\n",
              "      <td>NaN</td>\n",
              "      <td>...</td>\n",
              "      <td>1110196.0</td>\n",
              "      <td>A</td>\n",
              "      <td>1188523.0</td>\n",
              "      <td>A</td>\n",
              "      <td>835166.0</td>\n",
              "      <td>A</td>\n",
              "      <td>876294.0</td>\n",
              "      <td>A</td>\n",
              "      <td>935791.0</td>\n",
              "      <td>A</td>\n",
              "      <td>1260921.0</td>\n",
              "      <td>A</td>\n",
              "      <td>1471394.0</td>\n",
              "      <td>A</td>\n",
              "      <td>2152935.0</td>\n",
              "      <td>A</td>\n",
              "      <td>3056694.0</td>\n",
              "      <td>A</td>\n",
              "      <td>4451467.0</td>\n",
              "      <td>A</td>\n",
              "      <td>6256160.0</td>\n",
              "      <td>A</td>\n",
              "      <td>6112085.0</td>\n",
              "      <td>A</td>\n",
              "      <td>6240595.0</td>\n",
              "      <td>A</td>\n",
              "      <td>7032547.0</td>\n",
              "      <td>A</td>\n",
              "      <td>11590036.0</td>\n",
              "      <td>A</td>\n",
              "      <td>NaN</td>\n",
              "      <td>NaN</td>\n",
              "      <td>NaN</td>\n",
              "      <td>NaN</td>\n",
              "      <td>NaN</td>\n",
              "      <td>NaN</td>\n",
              "      <td>NaN</td>\n",
              "      <td>NaN</td>\n",
              "      <td>NaN</td>\n",
              "      <td>NaN</td>\n",
              "    </tr>\n",
              "    <tr>\n",
              "      <th>12593</th>\n",
              "      <td>236</td>\n",
              "      <td>Venezuela (Bolivarian Republic of)</td>\n",
              "      <td>1739</td>\n",
              "      <td>Vegetables and Fruit Primary</td>\n",
              "      <td>58</td>\n",
              "      <td>Gross Production Value (constant 2014-2016 tho...</td>\n",
              "      <td>1000 US$</td>\n",
              "      <td>3044356.0</td>\n",
              "      <td>A</td>\n",
              "      <td>2864983.0</td>\n",
              "      <td>A</td>\n",
              "      <td>3059065.0</td>\n",
              "      <td>A</td>\n",
              "      <td>3189932.0</td>\n",
              "      <td>A</td>\n",
              "      <td>3337813.0</td>\n",
              "      <td>A</td>\n",
              "      <td>3392994.0</td>\n",
              "      <td>A</td>\n",
              "      <td>3360387.0</td>\n",
              "      <td>A</td>\n",
              "      <td>3693111.0</td>\n",
              "      <td>A</td>\n",
              "      <td>3803564.0</td>\n",
              "      <td>A</td>\n",
              "      <td>4055701.0</td>\n",
              "      <td>A</td>\n",
              "      <td>4142332.0</td>\n",
              "      <td>A</td>\n",
              "      <td>4251948.0</td>\n",
              "      <td>A</td>\n",
              "      <td>4138435.0</td>\n",
              "      <td>A</td>\n",
              "      <td>4336842.0</td>\n",
              "      <td>A</td>\n",
              "      <td>4350614.0</td>\n",
              "      <td>A</td>\n",
              "      <td>4505452.0</td>\n",
              "      <td>A</td>\n",
              "      <td>5015644.0</td>\n",
              "      <td>...</td>\n",
              "      <td>10312375.0</td>\n",
              "      <td>A</td>\n",
              "      <td>10343064.0</td>\n",
              "      <td>A</td>\n",
              "      <td>9688837.0</td>\n",
              "      <td>A</td>\n",
              "      <td>9350316.0</td>\n",
              "      <td>A</td>\n",
              "      <td>9123889.0</td>\n",
              "      <td>A</td>\n",
              "      <td>9978560.0</td>\n",
              "      <td>A</td>\n",
              "      <td>9101245.0</td>\n",
              "      <td>A</td>\n",
              "      <td>9756039.0</td>\n",
              "      <td>A</td>\n",
              "      <td>9612348.0</td>\n",
              "      <td>A</td>\n",
              "      <td>10162576.0</td>\n",
              "      <td>A</td>\n",
              "      <td>10731286.0</td>\n",
              "      <td>A</td>\n",
              "      <td>11638886.0</td>\n",
              "      <td>A</td>\n",
              "      <td>9545169.0</td>\n",
              "      <td>A</td>\n",
              "      <td>10593428.0</td>\n",
              "      <td>A</td>\n",
              "      <td>11590036.0</td>\n",
              "      <td>A</td>\n",
              "      <td>12100562.0</td>\n",
              "      <td>A</td>\n",
              "      <td>11792386.0</td>\n",
              "      <td>A</td>\n",
              "      <td>11644833.0</td>\n",
              "      <td>A</td>\n",
              "      <td>11575819.0</td>\n",
              "      <td>A</td>\n",
              "      <td>NaN</td>\n",
              "      <td>NaN</td>\n",
              "    </tr>\n",
              "  </tbody>\n",
              "</table>\n",
              "<p>5 rows × 125 columns</p>\n",
              "</div>"
            ],
            "text/plain": [
              "       Area Code                                Area  ...       Y2019 Y2019F\n",
              "12589        236  Venezuela (Bolivarian Republic of)  ...   1910384.0      A\n",
              "12590        236  Venezuela (Bolivarian Republic of)  ...         NaN    NaN\n",
              "12591        236  Venezuela (Bolivarian Republic of)  ...  95134991.0      A\n",
              "12592        236  Venezuela (Bolivarian Republic of)  ...         NaN    NaN\n",
              "12593        236  Venezuela (Bolivarian Republic of)  ...         NaN    NaN\n",
              "\n",
              "[5 rows x 125 columns]"
            ]
          },
          "metadata": {},
          "execution_count": 101
        }
      ]
    },
    {
      "cell_type": "code",
      "metadata": {
        "colab": {
          "base_uri": "https://localhost:8080/"
        },
        "id": "D-xpvLS4lrbJ",
        "outputId": "51eba9a7-4488-45c2-91b5-e88e3ca0303c"
      },
      "source": [
        "print(df_america.columns)"
      ],
      "execution_count": 87,
      "outputs": [
        {
          "output_type": "stream",
          "name": "stdout",
          "text": [
            "Index(['Area Code', 'Area', 'Item Code', 'Item', 'Element Code', 'Element',\n",
            "       'Unit', 'Y1961', 'Y1961F', 'Y1962',\n",
            "       ...\n",
            "       'Y2015', 'Y2015F', 'Y2016', 'Y2016F', 'Y2017', 'Y2017F', 'Y2018',\n",
            "       'Y2018F', 'Y2019', 'Y2019F'],\n",
            "      dtype='object', length=125)\n"
          ]
        }
      ]
    },
    {
      "cell_type": "code",
      "metadata": {
        "id": "UKY5MMZ7l3k3"
      },
      "source": [
        "df_colombia = df_america.loc[df_america[\"Area\"]== \"Colombia\", [\"Item\",\"Element\", \"Y2019\"]] # nombre de la columna en mi caso no funciono"
      ],
      "execution_count": 93,
      "outputs": []
    },
    {
      "cell_type": "code",
      "metadata": {
        "colab": {
          "base_uri": "https://localhost:8080/",
          "height": 204
        },
        "id": "lZRh3fiCl9MT",
        "outputId": "891ab9b4-c41a-4ae1-e853-f6a072035641"
      },
      "source": [
        "df_colombia.head()"
      ],
      "execution_count": 94,
      "outputs": [
        {
          "output_type": "execute_result",
          "data": {
            "text/html": [
              "<div>\n",
              "<style scoped>\n",
              "    .dataframe tbody tr th:only-of-type {\n",
              "        vertical-align: middle;\n",
              "    }\n",
              "\n",
              "    .dataframe tbody tr th {\n",
              "        vertical-align: top;\n",
              "    }\n",
              "\n",
              "    .dataframe thead th {\n",
              "        text-align: right;\n",
              "    }\n",
              "</style>\n",
              "<table border=\"1\" class=\"dataframe\">\n",
              "  <thead>\n",
              "    <tr style=\"text-align: right;\">\n",
              "      <th></th>\n",
              "      <th>Item</th>\n",
              "      <th>Element</th>\n",
              "      <th>Y2019</th>\n",
              "    </tr>\n",
              "  </thead>\n",
              "  <tbody>\n",
              "    <tr>\n",
              "      <th>3373</th>\n",
              "      <td>Agave fibres nes</td>\n",
              "      <td>Gross Production Value (constant 2014-2016 tho...</td>\n",
              "      <td>8685.0</td>\n",
              "    </tr>\n",
              "    <tr>\n",
              "      <th>3374</th>\n",
              "      <td>Agave fibres nes</td>\n",
              "      <td>Gross Production Value (current thousand SLC)</td>\n",
              "      <td>NaN</td>\n",
              "    </tr>\n",
              "    <tr>\n",
              "      <th>3375</th>\n",
              "      <td>Agave fibres nes</td>\n",
              "      <td>Gross Production Value (constant 2014-2016 tho...</td>\n",
              "      <td>29215653.0</td>\n",
              "    </tr>\n",
              "    <tr>\n",
              "      <th>3376</th>\n",
              "      <td>Agave fibres nes</td>\n",
              "      <td>Gross Production Value (current thousand US$)</td>\n",
              "      <td>NaN</td>\n",
              "    </tr>\n",
              "    <tr>\n",
              "      <th>3377</th>\n",
              "      <td>Agave fibres nes</td>\n",
              "      <td>Gross Production Value (constant 2014-2016 tho...</td>\n",
              "      <td>11539.0</td>\n",
              "    </tr>\n",
              "  </tbody>\n",
              "</table>\n",
              "</div>"
            ],
            "text/plain": [
              "                  Item  ...       Y2019\n",
              "3373  Agave fibres nes  ...      8685.0\n",
              "3374  Agave fibres nes  ...         NaN\n",
              "3375  Agave fibres nes  ...  29215653.0\n",
              "3376  Agave fibres nes  ...         NaN\n",
              "3377  Agave fibres nes  ...     11539.0\n",
              "\n",
              "[5 rows x 3 columns]"
            ]
          },
          "metadata": {},
          "execution_count": 94
        }
      ]
    },
    {
      "cell_type": "code",
      "metadata": {
        "colab": {
          "base_uri": "https://localhost:8080/",
          "height": 297
        },
        "id": "xxWrU3C3nLzT",
        "outputId": "faa77907-2ab4-4cc3-c300-525af42941ae"
      },
      "source": [
        "df_colombia.describe() #toda la información media, mediana, percentil, cantidad, etc."
      ],
      "execution_count": 96,
      "outputs": [
        {
          "output_type": "execute_result",
          "data": {
            "text/html": [
              "<div>\n",
              "<style scoped>\n",
              "    .dataframe tbody tr th:only-of-type {\n",
              "        vertical-align: middle;\n",
              "    }\n",
              "\n",
              "    .dataframe tbody tr th {\n",
              "        vertical-align: top;\n",
              "    }\n",
              "\n",
              "    .dataframe thead th {\n",
              "        text-align: right;\n",
              "    }\n",
              "</style>\n",
              "<table border=\"1\" class=\"dataframe\">\n",
              "  <thead>\n",
              "    <tr style=\"text-align: right;\">\n",
              "      <th></th>\n",
              "      <th>Y2019</th>\n",
              "    </tr>\n",
              "  </thead>\n",
              "  <tbody>\n",
              "    <tr>\n",
              "      <th>count</th>\n",
              "      <td>3.230000e+02</td>\n",
              "    </tr>\n",
              "    <tr>\n",
              "      <th>mean</th>\n",
              "      <td>1.679422e+09</td>\n",
              "    </tr>\n",
              "    <tr>\n",
              "      <th>std</th>\n",
              "      <td>7.305392e+09</td>\n",
              "    </tr>\n",
              "    <tr>\n",
              "      <th>min</th>\n",
              "      <td>1.600000e+01</td>\n",
              "    </tr>\n",
              "    <tr>\n",
              "      <th>25%</th>\n",
              "      <td>3.508850e+04</td>\n",
              "    </tr>\n",
              "    <tr>\n",
              "      <th>50%</th>\n",
              "      <td>8.217480e+05</td>\n",
              "    </tr>\n",
              "    <tr>\n",
              "      <th>75%</th>\n",
              "      <td>1.170120e+08</td>\n",
              "    </tr>\n",
              "    <tr>\n",
              "      <th>max</th>\n",
              "      <td>7.268734e+10</td>\n",
              "    </tr>\n",
              "  </tbody>\n",
              "</table>\n",
              "</div>"
            ],
            "text/plain": [
              "              Y2019\n",
              "count  3.230000e+02\n",
              "mean   1.679422e+09\n",
              "std    7.305392e+09\n",
              "min    1.600000e+01\n",
              "25%    3.508850e+04\n",
              "50%    8.217480e+05\n",
              "75%    1.170120e+08\n",
              "max    7.268734e+10"
            ]
          },
          "metadata": {},
          "execution_count": 96
        }
      ]
    },
    {
      "cell_type": "code",
      "metadata": {
        "colab": {
          "base_uri": "https://localhost:8080/"
        },
        "id": "e9TbE7-sobSz",
        "outputId": "e5a8de77-0de3-49b8-eed0-7e32831855c1"
      },
      "source": [
        "df_colombia.shape # cantidad de filas y columnas respectivamente"
      ],
      "execution_count": 102,
      "outputs": [
        {
          "output_type": "execute_result",
          "data": {
            "text/plain": [
              "(466, 3)"
            ]
          },
          "metadata": {},
          "execution_count": 102
        }
      ]
    },
    {
      "cell_type": "code",
      "metadata": {
        "colab": {
          "base_uri": "https://localhost:8080/"
        },
        "id": "7FSfcaaEo5wO",
        "outputId": "b83e43d0-0805-4727-d9ae-d5d4ad6b65a6"
      },
      "source": [
        "df_colombia.info"
      ],
      "execution_count": 103,
      "outputs": [
        {
          "output_type": "execute_result",
          "data": {
            "text/plain": [
              "<bound method DataFrame.info of                               Item  ...         Y2019\n",
              "3373              Agave fibres nes  ...  8.685000e+03\n",
              "3374              Agave fibres nes  ...           NaN\n",
              "3375              Agave fibres nes  ...  2.921565e+07\n",
              "3376              Agave fibres nes  ...           NaN\n",
              "3377              Agave fibres nes  ...  1.153900e+04\n",
              "...                            ...  ...           ...\n",
              "3834  Vegetables and Fruit Primary  ...  5.858463e+06\n",
              "3835  Vegetables and Fruit Primary  ...  5.111876e+09\n",
              "3836  Vegetables and Fruit Primary  ...  1.437240e+10\n",
              "3837  Vegetables and Fruit Primary  ...           NaN\n",
              "3838  Vegetables and Fruit Primary  ...           NaN\n",
              "\n",
              "[466 rows x 3 columns]>"
            ]
          },
          "metadata": {},
          "execution_count": 103
        }
      ]
    },
    {
      "cell_type": "code",
      "metadata": {
        "colab": {
          "base_uri": "https://localhost:8080/",
          "height": 276
        },
        "id": "8O_TthLjuim2",
        "outputId": "b5a6bd49-5226-4142-b20f-895e2b5c63ae"
      },
      "source": [
        "df_colombia.plot()\n",
        "plt.show()"
      ],
      "execution_count": 111,
      "outputs": [
        {
          "output_type": "display_data",
          "data": {
            "image/png": "[encoded data removed]",
            "text/plain": [
              "<Figure size 432x288 with 1 Axes>"
            ]
          },
          "metadata": {
            "needs_background": "light"
          }
        }
      ]
    },
    {
      "cell_type": "code",
      "metadata": {
        "colab": {
          "base_uri": "https://localhost:8080/",
          "height": 290
        },
        "id": "RtKezuMIvBq_",
        "outputId": "037acbf2-c686-4b49-afd9-c4aa56236af4"
      },
      "source": [
        "df_colombia.plot(kind= \"scatter\", x=\"Item\", y=\"Y2019\") #scaterr para comparar dos columnas Diagrama de Dispersión\n",
        "plt.show()"
      ],
      "execution_count": 118,
      "outputs": [
        {
          "output_type": "display_data",
          "data": {
            "image/png": "[encoded data removed]",
            "text/plain": [
              "<Figure size 432x288 with 1 Axes>"
            ]
          },
          "metadata": {
            "needs_background": "light"
          }
        }
      ]
    },
    {
      "cell_type": "code",
      "metadata": {
        "colab": {
          "base_uri": "https://localhost:8080/",
          "height": 290
        },
        "id": "8ZUJ1ZVvw6p7",
        "outputId": "9ca4f555-5be5-4602-f1e9-3729710d0923"
      },
      "source": [
        "df_america.plot(kind= \"scatter\", x=\"Y2018\", y=\"Y2019\") # SCATTER para comparrar dos columnas\n",
        "plt.show()"
      ],
      "execution_count": 121,
      "outputs": [
        {
          "output_type": "display_data",
          "data": {
            "image/png": "[encoded data removed]",
            "text/plain": [
              "<Figure size 432x288 with 1 Axes>"
            ]
          },
          "metadata": {
            "needs_background": "light"
          }
        }
      ]
    },
    {
      "cell_type": "code",
      "metadata": {
        "colab": {
          "base_uri": "https://localhost:8080/",
          "height": 293
        },
        "id": "TYpKJIg21NBQ",
        "outputId": "3cadc2d3-2e41-4491-fe43-920b85c32869"
      },
      "source": [
        "boxplot = df_colombia.boxplot(column=['Y2019'])\n",
        "boxplot.plot()"
      ],
      "execution_count": 124,
      "outputs": [
        {
          "output_type": "execute_result",
          "data": {
            "text/plain": [
              "[]"
            ]
          },
          "metadata": {},
          "execution_count": 124
        },
        {
          "output_type": "display_data",
          "data": {
            "image/png": "[encoded data removed]",
            "text/plain": [
              "<Figure size 432x288 with 1 Axes>"
            ]
          },
          "metadata": {
            "needs_background": "light"
          }
        }
      ]
    },
    {
      "cell_type": "code",
      "metadata": {
        "colab": {
          "base_uri": "https://localhost:8080/"
        },
        "id": "_E_k-CuK6yAd",
        "outputId": "ef6d09fa-4398-4492-ce0e-53ee9c14bbf9"
      },
      "source": [
        "print(df_colombia.head())"
      ],
      "execution_count": 126,
      "outputs": [
        {
          "output_type": "stream",
          "name": "stdout",
          "text": [
            "                  Item  ...       Y2019\n",
            "3373  Agave fibres nes  ...      8685.0\n",
            "3374  Agave fibres nes  ...         NaN\n",
            "3375  Agave fibres nes  ...  29215653.0\n",
            "3376  Agave fibres nes  ...         NaN\n",
            "3377  Agave fibres nes  ...     11539.0\n",
            "\n",
            "[5 rows x 3 columns]\n"
          ]
        }
      ]
    },
    {
      "cell_type": "markdown",
      "metadata": {
        "id": "Ycp2p2Wl70An"
      },
      "source": [
        "UNIR COLUMNAS"
      ]
    },
    {
      "cell_type": "code",
      "metadata": {
        "colab": {
          "base_uri": "https://localhost:8080/",
          "height": 301
        },
        "id": "tE7L11IM7Wds",
        "outputId": "b3480a92-3287-4b70-cf49-d741f9226ce7"
      },
      "source": [
        "#df_col2 = df_america.loc[df_america[\"Area\"].isin([\"Colombia\", \"Mexico\"]),:]\n",
        "df_col2 = df_col2.loc[df_col2[\"Item\"].isin([\"Avocados\"]),:]\n",
        "box = df_col2.boxplot(column=['Y2019'], by= \"Item\")"
      ],
      "execution_count": 140,
      "outputs": [
        {
          "output_type": "display_data",
          "data": {
            "image/png": "[encoded data removed]",
            "text/plain": [
              "<Figure size 432x288 with 1 Axes>"
            ]
          },
          "metadata": {
            "needs_background": "light"
          }
        }
      ]
    }
  ]
}