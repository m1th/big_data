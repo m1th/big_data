{
  "nbformat": 4,
  "nbformat_minor": 0,
  "metadata": {
    "colab": {
      "name": "Python_Basico.ipynb",
      "provenance": [],
      "collapsed_sections": []
    },
    "kernelspec": {
      "name": "python3",
      "display_name": "Python 3"
    },
    "language_info": {
      "name": "python"
    }
  },
  "cells": [
    {
      "cell_type": "markdown",
      "metadata": {
        "id": "LHzD7idvECGH"
      },
      "source": [
        ""
      ]
    },
    {
      "cell_type": "code",
      "metadata": {
        "id": "SuQjg6ccEEgs"
      },
      "source": [
        "BUCLES O CICLOS: FOR = CUANDO CONOZCO LA CANTIDAD DE DATOS QUE VOY A RECORRER\n",
        "UN RANGE = ES UNA FUNCIÓN QUE CREA UN RANGO DE CERO HASTA EL NUMERO QUE ESTA ENTRE PARENTESIS"
      ],
      "execution_count": null,
      "outputs": []
    },
    {
      "cell_type": "code",
      "metadata": {
        "colab": {
          "base_uri": "https://localhost:8080/"
        },
        "id": "kiL4UEsvOYSo",
        "outputId": "9369ed67-d09a-45f6-9f37-a9135f864279"
      },
      "source": [
        "for x in range(1,11):\n",
        "  print(x)"
      ],
      "execution_count": null,
      "outputs": [
        {
          "output_type": "stream",
          "name": "stdout",
          "text": [
            "1\n",
            "2\n",
            "3\n",
            "4\n",
            "5\n",
            "6\n",
            "7\n",
            "8\n",
            "9\n",
            "10\n"
          ]
        }
      ]
    },
    {
      "cell_type": "markdown",
      "metadata": {
        "id": "ES4xZkfOEd1x"
      },
      "source": [
        "FOR PORQUE CONOZCO EL VECTOR QUE VOY A RECORER"
      ]
    },
    {
      "cell_type": "code",
      "metadata": {
        "colab": {
          "base_uri": "https://localhost:8080/"
        },
        "id": "b0ZiQU2JPexe",
        "outputId": "b20fe028-9ef3-4267-d342-eb2f11e2e08a"
      },
      "source": [
        "vector = [1,2,3,4,5,6,7,8,9]\n",
        "for x in vector:\n",
        "    print(\"numero\", x)"
      ],
      "execution_count": null,
      "outputs": [
        {
          "output_type": "stream",
          "name": "stdout",
          "text": [
            "numero 1\n",
            "numero 2\n",
            "numero 3\n",
            "numero 4\n",
            "numero 5\n",
            "numero 6\n",
            "numero 7\n",
            "numero 8\n",
            "numero 9\n"
          ]
        }
      ]
    },
    {
      "cell_type": "markdown",
      "metadata": {
        "id": "Eybgo9rpEnOO"
      },
      "source": [
        "WHILE CUANDO NO CONOZCO LA CANTIDAD DE NUMEROS QUE VOY A RECORRER"
      ]
    },
    {
      "cell_type": "code",
      "metadata": {
        "colab": {
          "base_uri": "https://localhost:8080/"
        },
        "id": "zQE828rOQrkU",
        "outputId": "7a2291d2-70e6-4334-aaa3-f9fa947b7260"
      },
      "source": [
        "num = 0\n",
        "while num < 5:\n",
        "  print(num)\n",
        "  num= num + 1"
      ],
      "execution_count": null,
      "outputs": [
        {
          "output_type": "stream",
          "name": "stdout",
          "text": [
            "0\n",
            "1\n",
            "2\n",
            "3\n",
            "4\n"
          ]
        }
      ]
    },
    {
      "cell_type": "markdown",
      "metadata": {
        "id": "Qp_9Hdmq0jdF"
      },
      "source": [
        "CONDICIONALES"
      ]
    },
    {
      "cell_type": "code",
      "metadata": {
        "colab": {
          "base_uri": "https://localhost:8080/"
        },
        "id": "GYj2yL_8zwI3",
        "outputId": "e14c1cc3-6f70-4463-eb0a-81206ea11577"
      },
      "source": [
        "num= int(input(\"Ingrese el numero a evaluar \"))\n",
        "tipo= num%2\n",
        "if tipo == 0:\n",
        "  print(\"El numero es PAR\")\n",
        "else:\n",
        "   print(\"El numero es IMPAR\")"
      ],
      "execution_count": null,
      "outputs": [
        {
          "output_type": "stream",
          "name": "stdout",
          "text": [
            "Ingrese el numero a evaluar3\n",
            "El numero es IMPAR\n"
          ]
        }
      ]
    },
    {
      "cell_type": "code",
      "metadata": {
        "colab": {
          "base_uri": "https://localhost:8080/"
        },
        "id": "79_rLIdk1AGo",
        "outputId": "2f5ec3e3-63ca-4748-92af-924aa1a292ee"
      },
      "source": [
        "num= int(input(\"Ingrese el numero a evaluar \"))\n",
        "if num < 0:\n",
        "  print(\"El numero es NEGATIVO\")\n",
        "elif num == 0:\n",
        "  print(\"El numero es CERO\")\n",
        "else:\n",
        "   print(\"El numero es POSITIVO\")"
      ],
      "execution_count": null,
      "outputs": [
        {
          "output_type": "stream",
          "name": "stdout",
          "text": [
            "Ingrese el numero a evaluar 2\n",
            "El numero es POSITIVO\n"
          ]
        }
      ]
    },
    {
      "cell_type": "markdown",
      "metadata": {
        "id": "aVXQPq5X9UUK"
      },
      "source": [
        "EJERCICIOS PARTE 1"
      ]
    },
    {
      "cell_type": "code",
      "metadata": {
        "colab": {
          "base_uri": "https://localhost:8080/"
        },
        "id": "3lF9UmCERc3K",
        "outputId": "1d9a35b3-d9f1-4ee9-f9d9-083181175a41"
      },
      "source": [
        "var_horas= float(input(\"cuantas horas tienes trabajas?\"))\n",
        "var_valor= float(input(\"valor de la hora trabajada?\"))\n",
        "valor_total = var_horas * var_valor\n",
        "print(valor_total)\n",
        "\n"
      ],
      "execution_count": null,
      "outputs": [
        {
          "output_type": "stream",
          "name": "stdout",
          "text": [
            "cuantas horas tienes trabajas?5\n",
            "valor de la hora trabajada?4000\n",
            "20000.0\n"
          ]
        }
      ]
    },
    {
      "cell_type": "code",
      "metadata": {
        "colab": {
          "base_uri": "https://localhost:8080/"
        },
        "id": "RZC5F5L_TrWn",
        "outputId": "69ff8451-365a-43de-9d2d-5638bbc9ea6f"
      },
      "source": [
        "peso = float(input(\"Escriba su peso en Kg\"))\n",
        "estatura = float(input(\"escriba su estatura en mt\"))\n",
        "masacorporal = peso/(estatura**2)\n",
        "print(masacorporal)"
      ],
      "execution_count": null,
      "outputs": [
        {
          "output_type": "stream",
          "name": "stdout",
          "text": [
            "Escriba su peso en Kg75\n",
            "escriba su estatura en mt1.60\n",
            "29.296874999999993\n"
          ]
        }
      ]
    },
    {
      "cell_type": "code",
      "metadata": {
        "colab": {
          "base_uri": "https://localhost:8080/"
        },
        "id": "C0Gd7VYsVlHE",
        "outputId": "e245bdb7-d755-4913-99dc-56130422edef"
      },
      "source": [
        "barrasnodia = float(input(\"cuantas barras que no son del día se vendieron\"))\n",
        "valor_barra = 450\n",
        "print(\"la barra del día tiene un precio de $ 450, las que tienen un 50% de descuento son \", barrasnodia)\n",
        "print (\"el costo final de esas\", barrasnodia, \"fue de $\", (barrasnodia*valor_barra)/2)"
      ],
      "execution_count": null,
      "outputs": [
        {
          "output_type": "stream",
          "name": "stdout",
          "text": [
            "cuantas barras que no son del día se vendieron50\n",
            "la barra del día tiene un precio de $450, las que tienen un 50% de descuento son  50.0\n",
            "el costo final de esas 50.0 fue de $ 11250.0\n"
          ]
        }
      ]
    },
    {
      "cell_type": "markdown",
      "metadata": {
        "id": "2KSnpIsVAKh_"
      },
      "source": [
        "LISTAS VAN ENTRE []"
      ]
    },
    {
      "cell_type": "code",
      "metadata": {
        "colab": {
          "base_uri": "https://localhost:8080/"
        },
        "id": "6p1Mz6VvZZpV",
        "outputId": "d4cb335f-69c5-41f7-b851-c0dfe059a7b3"
      },
      "source": [
        "lista1 = [1,2,3,4,5]\n",
        "lista2 = [6,7,8,9,10]\n",
        "\n",
        "print(lista1)\n",
        "print(lista2)"
      ],
      "execution_count": null,
      "outputs": [
        {
          "output_type": "stream",
          "name": "stdout",
          "text": [
            "[1, 2, 3, 4, 5]\n",
            "[6, 7, 8, 9, 10]\n"
          ]
        }
      ]
    },
    {
      "cell_type": "code",
      "metadata": {
        "colab": {
          "base_uri": "https://localhost:8080/"
        },
        "id": "IDL8hiBeZx8k",
        "outputId": "e5ad3f9d-4b51-403e-8380-158c908191f3"
      },
      "source": [
        "for x in lista1:\n",
        "  print(x)"
      ],
      "execution_count": null,
      "outputs": [
        {
          "output_type": "stream",
          "name": "stdout",
          "text": [
            "1\n",
            "2\n",
            "3\n",
            "4\n",
            "5\n"
          ]
        }
      ]
    },
    {
      "cell_type": "code",
      "metadata": {
        "colab": {
          "base_uri": "https://localhost:8080/"
        },
        "id": "M0ge9KEKaTDj",
        "outputId": "18c027dd-16bc-40ad-d149-beedb1f51a60"
      },
      "source": [
        "for x in range(5):\n",
        "  total =lista1[x]+lista2[x]\n",
        "  print(lista1[x], \"+\", lista2[x], \"=\",total)\n",
        "\n",
        "lista3 = lista1 + lista2\n",
        "print(lista3)\n",
        "\n",
        "lista4 = lista3\n",
        "# se agrega un valor al final\n",
        "lista4.append(0)\n",
        "# se agregan varios valores a la vez\n",
        "lista4.extend([1,-2])\n",
        "# elimina el primer uno encontrado y es necesario hacerlo por cada repetido si es el caso\n",
        "lista4.remove(1)\n",
        "lista4.remove(1)\n",
        "print(lista4)"
      ],
      "execution_count": null,
      "outputs": [
        {
          "output_type": "stream",
          "name": "stdout",
          "text": [
            "1 + 6 = 7\n",
            "2 + 7 = 9\n",
            "3 + 8 = 11\n",
            "4 + 9 = 13\n",
            "5 + 10 = 15\n",
            "[1, 2, 3, 4, 5, 6, 7, 8, 9, 10]\n",
            "[2, 3, 4, 5, 6, 7, 8, 9, 10, 0, -2]\n"
          ]
        }
      ]
    },
    {
      "cell_type": "markdown",
      "metadata": {
        "id": "u0a8mvlmDw13"
      },
      "source": [
        "TUPLAS: COLECCIONES INMUTABLES ES DECIR NO ALTERABLES EN TIEMPOS DE EJECUCION"
      ]
    },
    {
      "cell_type": "code",
      "metadata": {
        "id": "N8JoZVtFgbPa",
        "colab": {
          "base_uri": "https://localhost:8080/"
        },
        "outputId": "03d40908-b5b8-4467-82a4-fe0281a5c805"
      },
      "source": [
        "# inmutable es que no se puede modificar\n",
        "mi_tupla = (2, \"hola\")\n",
        "print(mi_tupla)\n",
        "\n",
        "mi_tupla2 = tuple(lista4)\n",
        "print(mi_tupla2)"
      ],
      "execution_count": null,
      "outputs": [
        {
          "output_type": "stream",
          "name": "stdout",
          "text": [
            "(2, 'hola')\n",
            "(2, 3, 4, 5, 6, 7, 8, 9, 10, 0, -2)\n"
          ]
        }
      ]
    },
    {
      "cell_type": "markdown",
      "metadata": {
        "id": "saG9LeNR53vM"
      },
      "source": [
        "CONJUNTOS"
      ]
    },
    {
      "cell_type": "code",
      "metadata": {
        "colab": {
          "base_uri": "https://localhost:8080/"
        },
        "id": "dsst2hs755ma",
        "outputId": "41c06ee9-274d-485b-b299-6e29f71f2c81"
      },
      "source": [
        "con1 = set([8,1,2,3,4])\n",
        "con2 = set([5,6,7,2])\n",
        "print(con1)\n",
        "print(con2)\n",
        "# imprime solo los comunes entre los conjuntos\n",
        "con3 = con1.intersection(con2)\n",
        "print(\"numero que esta repetido en las dos listas\", con3)\n",
        "# imprime todo entre los conjuntos\n",
        "con4 = con1.union(con2)\n",
        "print(\"numero de las dos listas, el las organiza de menor a mayor\", con4)"
      ],
      "execution_count": null,
      "outputs": [
        {
          "output_type": "stream",
          "name": "stdout",
          "text": [
            "{1, 2, 3, 4, 8}\n",
            "{2, 5, 6, 7}\n",
            "numero que esta repetido en las dos listas {2}\n",
            "numero de las dos listas, el las organiza de menor a mayor {1, 2, 3, 4, 5, 6, 7, 8}\n"
          ]
        }
      ]
    },
    {
      "cell_type": "markdown",
      "metadata": {
        "id": "ufQGH8ySa2wF"
      },
      "source": [
        "EJERCICIO 2: almacene x cantidad de números"
      ]
    },
    {
      "cell_type": "code",
      "metadata": {
        "id": "cjFJA_tnd_ts",
        "colab": {
          "base_uri": "https://localhost:8080/"
        },
        "outputId": "8329cff7-8a92-4635-b78c-f52abb7f2386"
      },
      "source": [
        "numlist = int(input(\"escriba cuantos numeros va a crear en la lista = \"))\n",
        "# guardamos el valor de la cantidad de numeros que van en la lista como son enteros es int\n",
        "listnum = []\n",
        "# pide los valores de cada objeto de la lista\n",
        "contador = 0\n",
        "\n",
        "while contador < numlist:\n",
        "  num = int(input(\"escriba el numero de la lista = \"))\n",
        "  # usar append para agregarlos al final de la lista uno a uno\n",
        "  listnum.append(num)\n",
        "  contador = contador + 1\n",
        "\n",
        "print(listnum)\n",
        "\n",
        "contador2 = 0\n",
        "for x in listnum:\n",
        "  contador2 = contador2 + x\n",
        "\n",
        "print(\"la suma total es \", contador2)\n",
        "\n",
        "#utilizo la funcion para listar los numeros en orden reverso y la imprimo\n",
        "listnum.reverse()\n",
        "print(listnum)\n",
        "\n",
        "print(\"al réves es igual \", contador2)"
      ],
      "execution_count": null,
      "outputs": [
        {
          "output_type": "stream",
          "name": "stdout",
          "text": [
            "escriba cuantos numeros va a crear en la lista = 3\n",
            "escriba numero = 4\n",
            "escriba numero = 5\n",
            "escriba numero = 6\n",
            "[4, 5, 6]\n",
            "la suma total es  15\n",
            "[6, 5, 4]\n",
            "al reves es igual  15\n"
          ]
        }
      ]
    },
    {
      "cell_type": "code",
      "metadata": {
        "colab": {
          "base_uri": "https://localhost:8080/"
        },
        "id": "DSCwh2hVA8Xm",
        "outputId": "cd4a7d0e-3751-41e7-e7a8-9994e57eae81"
      },
      "source": [
        "igual, aux = 0, 0\n",
        "texto = input(\"ingrese la palabra para evaluar \")\n",
        "\n",
        "for x in reversed(range(0, len(texto))):\n",
        "  if texto[x].lower() == texto[aux].lower():\n",
        "    igual += 1\n",
        "  aux += 1\n",
        "\n",
        "if len(texto) == igual:\n",
        "  print(texto, \" :SI es PALINDROMO\")\n",
        "else:\n",
        "  print(texto, \" :NO es PALINDROMO\")"
      ],
      "execution_count": null,
      "outputs": [
        {
          "output_type": "stream",
          "name": "stdout",
          "text": [
            "ingrese la palabra para evaluar OJO\n",
            "OJO  :SI es PALINDROMO\n"
          ]
        }
      ]
    },
    {
      "cell_type": "markdown",
      "metadata": {
        "id": "BX6U_IZKb-P4"
      },
      "source": [
        "la suma, la mediana y la desviacion ok"
      ]
    },
    {
      "cell_type": "code",
      "metadata": {
        "colab": {
          "base_uri": "https://localhost:8080/"
        },
        "id": "rKlqNNxMEeRA",
        "outputId": "b4172918-a58a-49ce-e0ef-091005aac76a"
      },
      "source": [
        "numlist = int(input(\"escriba cuantos numeros va a crear en la lista = \"))\n",
        "listnum = []\n",
        "contador = 0\n",
        "\n",
        "while contador < numlist:\n",
        "  num = int(input(\"escriba numero = \"))\n",
        "  listnum.append(num)\n",
        "  contador = contador + 1\n",
        "\n",
        "print(listnum)\n",
        "\n",
        "#la suma\n",
        "contador2 = 0\n",
        "for x in listnum:\n",
        "  contador2 = contador2 + x\n",
        "\n",
        "# La mediana\n",
        "n = len(listnum)\n",
        "mediana = contador2/numlist\n",
        "\n",
        "print(\"la suma es \", contador2)\n",
        "\n",
        "print(\"la mediana es\", mediana)"
      ],
      "execution_count": null,
      "outputs": [
        {
          "output_type": "stream",
          "name": "stdout",
          "text": [
            "escriba cuantos numeros va a crear en la lista = 3\n",
            "escriba numero = 1\n",
            "escriba numero = 2\n",
            "escriba numero = 3\n",
            "[1, 2, 3]\n",
            "la suma es  6\n",
            "la mediana es 2.0\n"
          ]
        }
      ]
    },
    {
      "cell_type": "code",
      "metadata": {
        "colab": {
          "base_uri": "https://localhost:8080/"
        },
        "id": "YvLq7Z_UKiUy",
        "outputId": "75896fc4-a764-4c1c-9e9f-b72a97749bd2"
      },
      "source": [
        "#Desviación estandar\n",
        "import statistics\n",
        "\n",
        "print(\"la desviacion estandar es \", statistics.pstdev(listnum))\n",
        "\n"
      ],
      "execution_count": null,
      "outputs": [
        {
          "output_type": "stream",
          "name": "stdout",
          "text": [
            "la desviacion estandar es  0.816496580927726\n"
          ]
        }
      ]
    },
    {
      "cell_type": "markdown",
      "metadata": {
        "id": "pP1bUSadE9S8"
      },
      "source": [
        "DICCIONARIO"
      ]
    },
    {
      "cell_type": "code",
      "metadata": {
        "colab": {
          "base_uri": "https://localhost:8080/"
        },
        "id": "jfzAuJ-OE9sz",
        "outputId": "1e902bd4-25f5-4d0f-e74e-a56b51149f94"
      },
      "source": [
        "PERSONA1 = {\"nombre\": \"michael\", \"edad\": \"47\"}\n",
        "print(PERSONA1[\"nombre\"])\n",
        "print(PERSONA1[\"edad\"])\n"
      ],
      "execution_count": null,
      "outputs": [
        {
          "output_type": "stream",
          "name": "stdout",
          "text": [
            "michael\n",
            "47\n"
          ]
        }
      ]
    },
    {
      "cell_type": "markdown",
      "metadata": {
        "id": "hVxvZ6wyM4v8"
      },
      "source": [
        "DICCIONARIO DE FRUTAS"
      ]
    },
    {
      "cell_type": "code",
      "metadata": {
        "colab": {
          "base_uri": "https://localhost:8080/"
        },
        "id": "hOJOXzfRM7Ie",
        "outputId": "fac5d8a9-058e-44bb-95d5-d796b0c90871"
      },
      "source": [
        "FRUTA1 = {\"nombre\": \"BANANO\", \"kilo\": \"1500\"}\n",
        "\n",
        "X= input(\"escriba la fruta que desea \")\n",
        "\n",
        "if (X in FRUTA1.values() != None):\n",
        "    print (\"la fruta SI esta DISPONIBLE\")\n",
        "    kilosVenta = int(input(\"cuantos kilos desea comprar \"))\n",
        "    valor= int(FRUTA1[\"kilo\"])\n",
        "    valorVenta = (kilosVenta*valor)\n",
        "    print(\"el valor de\", kilosVenta, \"KILOS de\", X, \"es de $\",valorVenta)\n",
        "\n",
        "else:\n",
        "    DISPONIBLES = FRUTA1[\"nombre\"]+\", \" +FRUTA2[\"nombre\"]+\", \" + FRUTA3[\"nombre\"]\n",
        "    print (\"la fruta no esta DISPONIBLE, tenemos\", DISPONIBLES)\n",
        "\n",
        "\n",
        "\n",
        "\n"
      ],
      "execution_count": null,
      "outputs": [
        {
          "output_type": "stream",
          "name": "stdout",
          "text": [
            "escriba la fruta que desea BANANO\n",
            "la fruta SI esta DISPONIBLE\n",
            "cuantos kilos desea comprar 2\n",
            "el valor de 2 KILOS de BANANO es de $ 3000\n"
          ]
        }
      ]
    },
    {
      "cell_type": "markdown",
      "metadata": {
        "id": "bwnxRqa7AFma"
      },
      "source": [
        "FUNCIONES LLAMADAS DESDE PHYTON"
      ]
    },
    {
      "cell_type": "code",
      "metadata": {
        "id": "46G1P2ID-L36"
      },
      "source": [
        "def dividir(num1, num2):\n",
        "  total = num1/num2\n",
        "  print(total)"
      ],
      "execution_count": null,
      "outputs": []
    },
    {
      "cell_type": "code",
      "metadata": {
        "colab": {
          "base_uri": "https://localhost:8080/"
        },
        "id": "T8Mz2T0j-dM9",
        "outputId": "08e5d48c-61ac-49f2-c0d2-6b7ec0b6d1b2"
      },
      "source": [
        "n1 = float(input(\"valor 1 es: \"))\n",
        "n2 = float(input(\"valor 2 es: \"))\n",
        "print(\"llamado normal\")\n",
        "dividir(n1,n2)\n",
        "print(\"llamado por nombre de parametros\")\n",
        "dividir(num2=2, num1=n1)\n",
        "print(\"invertir parametros\")\n",
        "dividir(n2, n1)"
      ],
      "execution_count": null,
      "outputs": [
        {
          "output_type": "stream",
          "name": "stdout",
          "text": [
            "valor 1 es: 6\n",
            "valor 2 es: 3\n",
            "llamado normal\n",
            "2.0\n",
            "llamado por nombre de parametros\n",
            "3.0\n",
            "invertir parametros\n",
            "0.5\n"
          ]
        }
      ]
    },
    {
      "cell_type": "markdown",
      "metadata": {
        "id": "uSSDZMAOAtY6"
      },
      "source": [
        "FUNCION SUMA"
      ]
    },
    {
      "cell_type": "code",
      "metadata": {
        "id": "JuPi3bJeAr-y"
      },
      "source": [
        "def suma(*valores):\n",
        "    total = 0\n",
        "    for x in valores:\n",
        "      total = total + x\n",
        "      print(\"total\", total)"
      ],
      "execution_count": null,
      "outputs": []
    },
    {
      "cell_type": "code",
      "metadata": {
        "colab": {
          "base_uri": "https://localhost:8080/"
        },
        "id": "Mo0AHadHBFxt",
        "outputId": "4ef2ec64-6c50-4a52-b9c2-f31054bb0663"
      },
      "source": [
        "suma(1)\n",
        "suma(1,2)\n",
        "suma(4,100,2) "
      ],
      "execution_count": null,
      "outputs": [
        {
          "output_type": "stream",
          "name": "stdout",
          "text": [
            "total 1\n",
            "total 1\n",
            "total 3\n",
            "total 4\n",
            "total 104\n",
            "total 106\n"
          ]
        }
      ]
    },
    {
      "cell_type": "markdown",
      "metadata": {
        "id": "fNptHV9JCp3g"
      },
      "source": [
        "ARCHIVOS O FICHEROS: ABRIR Y CERARLOS FUNCION WITH"
      ]
    },
    {
      "cell_type": "code",
      "metadata": {
        "id": "mSILHXNiCt_s"
      },
      "source": [
        "num= range(1,2)\n",
        "f = open(\"mi texto.txt\", \"w\")\n",
        "# w se anexa con a se agrega\n",
        "for n in num:\n",
        "  f.write(str(n)+ \"\\n\")\n",
        "f.write(\"mitch\")\n",
        "f.close()"
      ],
      "execution_count": null,
      "outputs": []
    },
    {
      "cell_type": "code",
      "metadata": {
        "colab": {
          "base_uri": "https://localhost:8080/"
        },
        "id": "bc1j6fGzE9SG",
        "outputId": "62b6280e-6c9e-4331-fea4-2080ae7166e0"
      },
      "source": [
        "with open(\"mi texto.txt\",\"r\") as reader:\n",
        "  lineas = reader.readlines()\n",
        "  for l in lineas:\n",
        "    print(l)\n"
      ],
      "execution_count": null,
      "outputs": [
        {
          "output_type": "stream",
          "name": "stdout",
          "text": [
            "1\n",
            "\n",
            "mitch\n"
          ]
        }
      ]
    },
    {
      "cell_type": "markdown",
      "metadata": {
        "id": "zrB3hDg6LYaR"
      },
      "source": [
        "FACTORIAL = guarda en archivo"
      ]
    },
    {
      "cell_type": "code",
      "metadata": {
        "id": "QISIiLflJivr"
      },
      "source": [
        "file = open(\"mifact.txt\", \"w\")\n",
        "num = int(input(\"ingrese numero: \"))\n",
        "file.write('num= % s'%num)\n",
        "file.close()\n",
        "def factorial(x):\n",
        "  if x == 1:\n",
        "    return 1;\n",
        "  else:\n",
        "    return x * factorial (x-1)\n",
        "\n",
        "fac = factorial(num)\n",
        "\n",
        "print(\"factorial de\", num, \"es\", fac)\n"
      ],
      "execution_count": null,
      "outputs": []
    },
    {
      "cell_type": "markdown",
      "metadata": {
        "id": "dgk9jF-TcaCh"
      },
      "source": [
        "NUMPY MATRIZ"
      ]
    },
    {
      "cell_type": "code",
      "metadata": {
        "id": "A3ZOHuO1caMt"
      },
      "source": [
        "import numpy as np"
      ],
      "execution_count": 6,
      "outputs": []
    },
    {
      "cell_type": "code",
      "metadata": {
        "colab": {
          "base_uri": "https://localhost:8080/"
        },
        "id": "erKqo2VCci0d",
        "outputId": "28893322-c4d2-4a36-f6a8-0ac7bfac619b"
      },
      "source": [
        "lista = [1,2,3,4,5,6,7]\n",
        "arreglo = np.array(lista)\n",
        "\n",
        "print (lista)\n",
        "print (arreglo)\n"
      ],
      "execution_count": 7,
      "outputs": [
        {
          "output_type": "stream",
          "name": "stdout",
          "text": [
            "[1, 2, 3, 4, 5, 6, 7]\n",
            "[1 2 3 4 5 6 7]\n"
          ]
        }
      ]
    }
  ]
}