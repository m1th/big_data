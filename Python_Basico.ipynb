{
  "nbformat": 4,
  "nbformat_minor": 0,
  "metadata": {
    "colab": {
      "name": "Python_Basico.ipynb",
      "provenance": [],
      "collapsed_sections": []
    },
    "kernelspec": {
      "name": "python3",
      "display_name": "Python 3"
    },
    "language_info": {
      "name": "python"
    }
  },
  "cells": [
    {
      "cell_type": "markdown",
      "metadata": {
        "id": "Qp_9Hdmq0jdF"
      },
      "source": [
        "CONDICIONALES"
      ]
    },
    {
      "cell_type": "code",
      "metadata": {
        "colab": {
          "base_uri": "https://localhost:8080/"
        },
        "id": "GYj2yL_8zwI3",
        "outputId": "e14c1cc3-6f70-4463-eb0a-81206ea11577"
      },
      "source": [
        "num= int(input(\"Ingrese el numero a evaluar \"))\n",
        "tipo= num%2\n",
        "if tipo == 0:\n",
        "  print(\"El numero es PAR\")\n",
        "else:\n",
        "   print(\"El numero es IMPAR\")  "
      ],
      "execution_count": null,
      "outputs": [
        {
          "output_type": "stream",
          "name": "stdout",
          "text": [
            "Ingrese el numero a evaluar3\n",
            "El numero es IMPAR\n"
          ]
        }
      ]
    },
    {
      "cell_type": "markdown",
      "metadata": {
        "id": "ASWzt9zcxISZ"
      },
      "source": [
        "CONDICIONALES ANIDADOS"
      ]
    },
    {
      "cell_type": "code",
      "metadata": {
        "colab": {
          "base_uri": "https://localhost:8080/"
        },
        "id": "79_rLIdk1AGo",
        "outputId": "2f5ec3e3-63ca-4748-92af-924aa1a292ee"
      },
      "source": [
        "num= int(input(\"Ingrese el numero a evaluar \"))\n",
        "if num < 0:\n",
        "  print(\"El numero es NEGATIVO\")\n",
        "elif num == 0:\n",
        "  print(\"El numero es CERO\")\n",
        "else:\n",
        "   print(\"El numero es POSITIVO\")"
      ],
      "execution_count": null,
      "outputs": [
        {
          "output_type": "stream",
          "name": "stdout",
          "text": [
            "Ingrese el numero a evaluar 2\n",
            "El numero es POSITIVO\n"
          ]
        }
      ]
    },
    {
      "cell_type": "markdown",
      "metadata": {
        "id": "UGJAVddMxSvQ"
      },
      "source": [
        "#BUCLES O CICLOS: \n",
        "FOR = CUANDO CONOZCO LA CANTIDAD DE DATOS QUE VOY A RECORRER\n",
        "WHILE: CUANDO NO CONOZCO LA CANTIDAD O LA PIDO AL USUARIO\n",
        "\n",
        "RANGE = ES UNA FUNCIÓN QUE CREA UN RANGO DE CERO HASTA EL NUMERO QUE ESTA ENTRE PARENTESIS"
      ]
    },
    {
      "cell_type": "code",
      "metadata": {
        "colab": {
          "base_uri": "https://localhost:8080/"
        },
        "id": "kiL4UEsvOYSo",
        "outputId": "9369ed67-d09a-45f6-9f37-a9135f864279"
      },
      "source": [
        "for x in range(1,11):\n",
        "  print(x)"
      ],
      "execution_count": null,
      "outputs": [
        {
          "output_type": "stream",
          "name": "stdout",
          "text": [
            "1\n",
            "2\n",
            "3\n",
            "4\n",
            "5\n",
            "6\n",
            "7\n",
            "8\n",
            "9\n",
            "10\n"
          ]
        }
      ]
    },
    {
      "cell_type": "markdown",
      "metadata": {
        "id": "ES4xZkfOEd1x"
      },
      "source": [
        "FOR PORQUE CONOZCO EL VECTOR QUE VOY A RECORER"
      ]
    },
    {
      "cell_type": "code",
      "metadata": {
        "colab": {
          "base_uri": "https://localhost:8080/"
        },
        "id": "b0ZiQU2JPexe",
        "outputId": "b20fe028-9ef3-4267-d342-eb2f11e2e08a"
      },
      "source": [
        "vector = [1,2,3,4,5,6,7,8,9]\n",
        "for x in vector:\n",
        "    print(\"numero\", x)"
      ],
      "execution_count": null,
      "outputs": [
        {
          "output_type": "stream",
          "name": "stdout",
          "text": [
            "numero 1\n",
            "numero 2\n",
            "numero 3\n",
            "numero 4\n",
            "numero 5\n",
            "numero 6\n",
            "numero 7\n",
            "numero 8\n",
            "numero 9\n"
          ]
        }
      ]
    },
    {
      "cell_type": "code",
      "metadata": {
        "colab": {
          "base_uri": "https://localhost:8080/"
        },
        "id": "41yuypL-xjWv",
        "outputId": "69582616-be38-475d-de3c-01b96221f5af"
      },
      "source": [
        "vector1 = [1,2,\"tres\"]\n",
        "vector2 = [\"cuatro\",5,6]\n",
        "vector3 = vector1+vector2\n",
        "for x in vector3:\n",
        "    #imprime uno a uno los elementos de la lista\n",
        "    print(\"numero:\", x)\n",
        "#sobrecarga operador= aquí concatena las lista no las suma\n",
        "print(\"concatena las listas \", vector3)"
      ],
      "execution_count": 11,
      "outputs": [
        {
          "output_type": "stream",
          "name": "stdout",
          "text": [
            "numero: 1\n",
            "numero: 2\n",
            "numero: tres\n",
            "numero: cuatro\n",
            "numero: 5\n",
            "numero: 6\n",
            "concatena las listas  [1, 2, 'tres', 'cuatro', 5, 6]\n"
          ]
        }
      ]
    },
    {
      "cell_type": "markdown",
      "metadata": {
        "id": "Eybgo9rpEnOO"
      },
      "source": [
        "WHILE CUANDO NO CONOZCO LA CANTIDAD DE NUMEROS QUE VOY A RECORRER"
      ]
    },
    {
      "cell_type": "code",
      "metadata": {
        "colab": {
          "base_uri": "https://localhost:8080/"
        },
        "id": "zQE828rOQrkU",
        "outputId": "f509dfea-c922-4577-e340-b684382de642"
      },
      "source": [
        "num = 0\n",
        "while num < 5:\n",
        "  num= num + 1\n",
        "  print(num)\n",
        "  "
      ],
      "execution_count": 6,
      "outputs": [
        {
          "output_type": "stream",
          "name": "stdout",
          "text": [
            "1\n",
            "2\n",
            "3\n",
            "4\n",
            "5\n"
          ]
        }
      ]
    },
    {
      "cell_type": "markdown",
      "metadata": {
        "id": "aVXQPq5X9UUK"
      },
      "source": [
        "EJERCICIOS PARTE 1"
      ]
    },
    {
      "cell_type": "code",
      "metadata": {
        "colab": {
          "base_uri": "https://localhost:8080/"
        },
        "id": "3lF9UmCERc3K",
        "outputId": "1d9a35b3-d9f1-4ee9-f9d9-083181175a41"
      },
      "source": [
        "var_horas= float(input(\"cuantas horas tienes trabajas?\"))\n",
        "var_valor= float(input(\"valor de la hora trabajada?\"))\n",
        "valor_total = var_horas * var_valor\n",
        "print(valor_total)\n",
        "\n"
      ],
      "execution_count": null,
      "outputs": [
        {
          "output_type": "stream",
          "name": "stdout",
          "text": [
            "cuantas horas tienes trabajas?5\n",
            "valor de la hora trabajada?4000\n",
            "20000.0\n"
          ]
        }
      ]
    },
    {
      "cell_type": "code",
      "metadata": {
        "colab": {
          "base_uri": "https://localhost:8080/"
        },
        "id": "RZC5F5L_TrWn",
        "outputId": "69ff8451-365a-43de-9d2d-5638bbc9ea6f"
      },
      "source": [
        "peso = float(input(\"Escriba su peso en Kg\"))\n",
        "estatura = float(input(\"escriba su estatura en mt\"))\n",
        "masacorporal = peso/(estatura**2)\n",
        "print(masacorporal)"
      ],
      "execution_count": null,
      "outputs": [
        {
          "output_type": "stream",
          "name": "stdout",
          "text": [
            "Escriba su peso en Kg75\n",
            "escriba su estatura en mt1.60\n",
            "29.296874999999993\n"
          ]
        }
      ]
    },
    {
      "cell_type": "code",
      "metadata": {
        "colab": {
          "base_uri": "https://localhost:8080/"
        },
        "id": "C0Gd7VYsVlHE",
        "outputId": "e245bdb7-d755-4913-99dc-56130422edef"
      },
      "source": [
        "barrasnodia = float(input(\"cuantas barras que no son del día se vendieron\"))\n",
        "valor_barra = 450\n",
        "print(\"la barra del día tiene un precio de $ 450, las que tienen un 50% de descuento son \", barrasnodia)\n",
        "print (\"el costo final de esas\", barrasnodia, \"fue de $\", (barrasnodia*valor_barra)/2)"
      ],
      "execution_count": null,
      "outputs": [
        {
          "output_type": "stream",
          "name": "stdout",
          "text": [
            "cuantas barras que no son del día se vendieron50\n",
            "la barra del día tiene un precio de $450, las que tienen un 50% de descuento son  50.0\n",
            "el costo final de esas 50.0 fue de $ 11250.0\n"
          ]
        }
      ]
    },
    {
      "cell_type": "markdown",
      "metadata": {
        "id": "2KSnpIsVAKh_"
      },
      "source": [
        "LISTAS VAN ENTRE CORCHETES [  ]"
      ]
    },
    {
      "cell_type": "code",
      "metadata": {
        "colab": {
          "base_uri": "https://localhost:8080/"
        },
        "id": "6p1Mz6VvZZpV",
        "outputId": "e77b1344-43b6-44e7-ba3c-11aed32963d9"
      },
      "source": [
        "lista1 = [1,2,3,4,5,6]\n",
        "lista2 = [6,7,8,9,10]\n",
        "\n",
        "print(lista1)\n",
        "print(lista2)\n",
        "print(lista1+lista2)#sobrecarga de operadores + concatenar"
      ],
      "execution_count": 15,
      "outputs": [
        {
          "output_type": "stream",
          "name": "stdout",
          "text": [
            "[1, 2, 3, 4, 5, 6]\n",
            "[6, 7, 8, 9, 10]\n",
            "[1, 2, 3, 4, 5, 6, 6, 7, 8, 9, 10]\n"
          ]
        }
      ]
    },
    {
      "cell_type": "code",
      "metadata": {
        "colab": {
          "base_uri": "https://localhost:8080/"
        },
        "id": "IDL8hiBeZx8k",
        "outputId": "e5ad3f9d-4b51-403e-8380-158c908191f3"
      },
      "source": [
        "for x in lista1:\n",
        "  print(x)"
      ],
      "execution_count": null,
      "outputs": [
        {
          "output_type": "stream",
          "name": "stdout",
          "text": [
            "1\n",
            "2\n",
            "3\n",
            "4\n",
            "5\n"
          ]
        }
      ]
    },
    {
      "cell_type": "code",
      "metadata": {
        "colab": {
          "base_uri": "https://localhost:8080/"
        },
        "id": "M0ge9KEKaTDj",
        "outputId": "b9e5c610-ef3d-4026-9d7b-a1c0e24c9de0"
      },
      "source": [
        "for x in range(5):\n",
        "  total =lista1[x]+lista2[x]\n",
        "  print(x, \" \", lista1[x], \"+\", lista2[x], \"=\",total)\n",
        "\n",
        "lista3 = lista1 + lista2\n",
        "print(lista3)#concatenar mediante sorecarga de la +\n",
        "\n",
        "lista4 = lista3\n",
        "# se agrega un valor al final\n",
        "lista4.append(0)\n",
        "print(lista4, \"se agrego un cero con la funcion append\")\n",
        "# se agregan varios valores a la vez\n",
        "lista4.extend([1,-2])\n",
        "print(lista4, \"se agrego 1 y -2 con la funcion extend haciendo otra lista []\")\n",
        "# elimina el primer uno encontrado y es necesario hacerlo por cada repetido si es el caso\n",
        "lista4.remove(1)\n",
        "print(lista4, \"con remove elimina el primer 1 que encuentra\")\n",
        "lista4.remove(1)\n",
        "print(lista4, \"con remove elimina el segundo 1 que encuentra\")"
      ],
      "execution_count": 27,
      "outputs": [
        {
          "output_type": "stream",
          "name": "stdout",
          "text": [
            "0   1 + 6 = 7\n",
            "1   2 + 7 = 9\n",
            "2   3 + 8 = 11\n",
            "3   4 + 9 = 13\n",
            "4   5 + 10 = 15\n",
            "[1, 2, 3, 4, 5, 6, 6, 7, 8, 9, 10]\n",
            "[1, 2, 3, 4, 5, 6, 6, 7, 8, 9, 10, 0] se agrego un cero con la funcion append\n",
            "[1, 2, 3, 4, 5, 6, 6, 7, 8, 9, 10, 0, 1, -2] se agrego 1 y -2 con la funcion extend haciendo otra lista []\n",
            "[2, 3, 4, 5, 6, 6, 7, 8, 9, 10, 0, 1, -2] con remove elimina el primer 1 que encuentra\n",
            "[2, 3, 4, 5, 6, 6, 7, 8, 9, 10, 0, -2] con remove elimina el segundo 1 que encuentra\n"
          ]
        }
      ]
    },
    {
      "cell_type": "markdown",
      "metadata": {
        "id": "u0a8mvlmDw13"
      },
      "source": [
        "TUPLAS: COLECCIONES INMUTABLES ES DECIR NO ALTERABLES EN TIEMPOS DE EJECUCION\n",
        "estas van entre paréntesis "
      ]
    },
    {
      "cell_type": "code",
      "metadata": {
        "id": "N8JoZVtFgbPa",
        "colab": {
          "base_uri": "https://localhost:8080/"
        },
        "outputId": "c058d66e-7bd0-416d-ddde-997de87469cd"
      },
      "source": [
        "# inmutable es que no se puede modificar\n",
        "mi_tupla = (2, \"hola\")\n",
        "print(mi_tupla)\n",
        "\n",
        "mi_tupla2 = tuple(lista4) #con tuple convertimos un arreglo en tupla\n",
        "print(mi_tupla2)"
      ],
      "execution_count": 28,
      "outputs": [
        {
          "output_type": "stream",
          "name": "stdout",
          "text": [
            "(2, 'hola')\n",
            "(2, 3, 4, 5, 6, 6, 7, 8, 9, 10, 0, -2)\n"
          ]
        }
      ]
    },
    {
      "cell_type": "markdown",
      "metadata": {
        "id": "pP1bUSadE9S8"
      },
      "source": [
        "DICCIONARIO"
      ]
    },
    {
      "cell_type": "code",
      "metadata": {
        "colab": {
          "base_uri": "https://localhost:8080/"
        },
        "id": "jfzAuJ-OE9sz",
        "outputId": "01558f1a-91c8-4a3c-e83a-eb3f429c5387"
      },
      "source": [
        "PERSONA1 = {\"nombre\": \"mitchel\", \"edad\": \"47\"} #diccionario1\n",
        "PERSONA2 = {\"nombre\": \"viviana\", \"edad\": \"35\"} #diccionario2\n",
        "personas =[] #lista\n",
        "personas.append(PERSONA1) #se agrego a la lista\n",
        "personas.append(PERSONA2) #se agrego a la lista\n",
        "print(PERSONA1[\"nombre\"])\n",
        "print(PERSONA1[\"edad\"])\n",
        "print(personas)"
      ],
      "execution_count": 32,
      "outputs": [
        {
          "output_type": "stream",
          "name": "stdout",
          "text": [
            "mitchel\n",
            "47\n",
            "[{'nombre': 'mitchel', 'edad': '47'}, {'nombre': 'viviana', 'edad': '35'}]\n"
          ]
        }
      ]
    },
    {
      "cell_type": "markdown",
      "metadata": {
        "id": "saG9LeNR53vM"
      },
      "source": [
        "CONJUNTOS"
      ]
    },
    {
      "cell_type": "code",
      "metadata": {
        "colab": {
          "base_uri": "https://localhost:8080/"
        },
        "id": "dsst2hs755ma",
        "outputId": "e496ec6a-551c-482e-e5db-69c11d9081f1"
      },
      "source": [
        "con1 = set([8,1,2,3,4]) #set es mutable\n",
        "con2 = set([5,6,7,2])   #set mutable\n",
        "print(con1)\n",
        "print(con2)\n",
        "# intenseccion imprime solo los comunes entre los conjuntos\n",
        "con3 = con1.intersection(con2)\n",
        "print(\"numero que esta repetido en las dos listas\", con3)\n",
        "# union imprime todo entre los conjuntos\n",
        "con4 = con1.union(con2)\n",
        "print(\"las dos listas organizadas de menor a mayor sin repetir\", con4)"
      ],
      "execution_count": 34,
      "outputs": [
        {
          "output_type": "stream",
          "name": "stdout",
          "text": [
            "{1, 2, 3, 4, 8}\n",
            "{2, 5, 6, 7}\n",
            "numero que esta repetido en las dos listas {2}\n",
            "las dos listas organizadas de menor a mayor sin repetir {1, 2, 3, 4, 5, 6, 7, 8}\n"
          ]
        }
      ]
    },
    {
      "cell_type": "markdown",
      "metadata": {
        "id": "ufQGH8ySa2wF"
      },
      "source": [
        "EJERCICIO 2: almacene x cantidad de números"
      ]
    },
    {
      "cell_type": "code",
      "metadata": {
        "id": "cjFJA_tnd_ts",
        "colab": {
          "base_uri": "https://localhost:8080/"
        },
        "outputId": "5625d8d4-d5b3-4014-f8c1-49f95b32b62d"
      },
      "source": [
        "numlist = int(input(\"escriba cuantos numeros va a crear en la lista = \"))\n",
        "# guardamos el valor de la cantidad de numeros que van en la lista como son enteros es int\n",
        "listnum = []\n",
        "# pide los valores de cada objeto de la lista\n",
        "contador = 0\n",
        "\n",
        "while contador < numlist:\n",
        "  num = int(input(\"escriba el numero de la lista = \"))\n",
        "  # usar append para agregarlos al final de la lista uno a uno\n",
        "  listnum.append(num)\n",
        "  contador = contador + 1\n",
        "\n",
        "print(listnum)\n",
        "\n",
        "contador2 = 0\n",
        "for x in listnum:\n",
        "  contador2 = contador2 + x\n",
        "\n",
        "print(\"la suma total es= \", contador2)\n",
        "\n",
        "#utilizo la funcion para listar los numeros en orden reverso y la imprimo\n",
        "listnum.reverse()\n",
        "print(listnum)\n",
        "\n",
        "print(\"al réves es igual= \", contador2)"
      ],
      "execution_count": 35,
      "outputs": [
        {
          "output_type": "stream",
          "name": "stdout",
          "text": [
            "escriba cuantos numeros va a crear en la lista = 3\n",
            "escriba el numero de la lista = 4\n",
            "escriba el numero de la lista = 5\n",
            "escriba el numero de la lista = 6\n",
            "[4, 5, 6]\n",
            "la suma total es=  15\n",
            "[6, 5, 4]\n",
            "al réves es igual=  15\n"
          ]
        }
      ]
    },
    {
      "cell_type": "markdown",
      "metadata": {
        "id": "HjzwfDBo9gAl"
      },
      "source": [
        "EJERCICIO: VERIFICAR SI UNA PALABRA ES PALINDROMO"
      ]
    },
    {
      "cell_type": "code",
      "metadata": {
        "colab": {
          "base_uri": "https://localhost:8080/"
        },
        "id": "DSCwh2hVA8Xm",
        "outputId": "27525960-cb83-4968-91f1-309b21e1391b"
      },
      "source": [
        "igual, aux = 0, 0\n",
        "texto = input(\"ingrese la palabra para evaluar: \")\n",
        "\n",
        "for x in reversed(range(0, len(texto))):\n",
        "  if texto[x].lower() == texto[aux].lower():\n",
        "    igual += 1\n",
        "  aux += 1\n",
        "\n",
        "if len(texto) == igual:\n",
        "  print(texto, \": SI es PALINDROMO\")\n",
        "else:\n",
        "  print(texto, \": NO es PALINDROMO\")"
      ],
      "execution_count": 37,
      "outputs": [
        {
          "output_type": "stream",
          "name": "stdout",
          "text": [
            "ingrese la palabra para evaluar: OJO\n",
            "OJO : SI es PALINDROMO\n"
          ]
        }
      ]
    },
    {
      "cell_type": "markdown",
      "metadata": {
        "id": "BX6U_IZKb-P4"
      },
      "source": [
        "\n",
        "EJERCICIO: la suma y la mediana"
      ]
    },
    {
      "cell_type": "code",
      "metadata": {
        "colab": {
          "base_uri": "https://localhost:8080/"
        },
        "id": "rKlqNNxMEeRA",
        "outputId": "2d3574c3-c10c-4dbf-8d33-a4b2db6af95e"
      },
      "source": [
        "numlist = int(input(\"escriba cuantos numeros va a crear en la lista = \"))\n",
        "listnum = []\n",
        "contador = 0\n",
        "\n",
        "while contador < numlist:\n",
        "  num = int(input(\"escriba numero = \"))\n",
        "  listnum.append(num)\n",
        "  contador = contador + 1\n",
        "\n",
        "print(listnum)\n",
        "\n",
        "#la suma\n",
        "contador2 = 0\n",
        "for x in listnum:\n",
        "  contador2 = contador2 + x\n",
        "\n",
        "# La mediana\n",
        "n = len(listnum)\n",
        "mediana = contador2/numlist\n",
        "\n",
        "print(\"la suma es \", contador2)\n",
        "\n",
        "print(\"la mediana es\", mediana)"
      ],
      "execution_count": 38,
      "outputs": [
        {
          "output_type": "stream",
          "name": "stdout",
          "text": [
            "escriba cuantos numeros va a crear en la lista = 3\n",
            "escriba numero = 1\n",
            "escriba numero = 2\n",
            "escriba numero = 3\n",
            "[1, 2, 3]\n",
            "la suma es  6\n",
            "la mediana es 2.0\n"
          ]
        }
      ]
    },
    {
      "cell_type": "markdown",
      "metadata": {
        "id": "Ff5f9XdLq5av"
      },
      "source": [
        "EJERCICIO:  MODULO IMPORTADO PARA LA DESVIACION ESTANDAR"
      ]
    },
    {
      "cell_type": "code",
      "metadata": {
        "colab": {
          "base_uri": "https://localhost:8080/"
        },
        "id": "YvLq7Z_UKiUy",
        "outputId": "75896fc4-a764-4c1c-9e9f-b72a97749bd2"
      },
      "source": [
        "#Desviación estandar\n",
        "import statistics\n",
        "\n",
        "print(\"la desviacion estandar es \", statistics.pstdev(listnum))\n",
        "\n"
      ],
      "execution_count": null,
      "outputs": [
        {
          "output_type": "stream",
          "name": "stdout",
          "text": [
            "la desviacion estandar es  0.816496580927726\n"
          ]
        }
      ]
    },
    {
      "cell_type": "markdown",
      "metadata": {
        "id": "hVxvZ6wyM4v8"
      },
      "source": [
        "EJERCICIO: DICCIONARIO DE FRUTAS"
      ]
    },
    {
      "cell_type": "code",
      "metadata": {
        "colab": {
          "base_uri": "https://localhost:8080/"
        },
        "id": "hOJOXzfRM7Ie",
        "outputId": "fac5d8a9-058e-44bb-95d5-d796b0c90871"
      },
      "source": [
        "FRUTA1 = {\"nombre\": \"BANANO\", \"kilo\": \"1500\"}\n",
        "\n",
        "X= input(\"escriba la fruta que desea \")\n",
        "\n",
        "if (X in FRUTA1.values() != None):\n",
        "    print (\"la fruta SI esta DISPONIBLE\")\n",
        "    kilosVenta = int(input(\"cuantos kilos desea comprar \"))\n",
        "    valor= int(FRUTA1[\"kilo\"])\n",
        "    valorVenta = (kilosVenta*valor)\n",
        "    print(\"el valor de\", kilosVenta, \"KILOS de\", X, \"es de $\",valorVenta)\n",
        "\n",
        "else:\n",
        "    DISPONIBLES = FRUTA1[\"nombre\"]+\", \" +FRUTA2[\"nombre\"]+\", \" + FRUTA3[\"nombre\"]\n",
        "    print (\"la fruta no esta DISPONIBLE, tenemos\", DISPONIBLES)\n",
        "\n",
        "\n",
        "\n",
        "\n"
      ],
      "execution_count": null,
      "outputs": [
        {
          "output_type": "stream",
          "name": "stdout",
          "text": [
            "escriba la fruta que desea BANANO\n",
            "la fruta SI esta DISPONIBLE\n",
            "cuantos kilos desea comprar 2\n",
            "el valor de 2 KILOS de BANANO es de $ 3000\n"
          ]
        }
      ]
    },
    {
      "cell_type": "markdown",
      "metadata": {
        "id": "bwnxRqa7AFma"
      },
      "source": [
        "FUNCIONES LLAMADAS DESDE PHYTON: def\n",
        "debe tener cuidado con la identación es decir tabuladas hacia la derecha\n",
        "\n"
      ]
    },
    {
      "cell_type": "code",
      "metadata": {
        "id": "46G1P2ID-L36"
      },
      "source": [
        "# aquí definimos la FUNCIÓN\n",
        "def dividir(num1, num2):\n",
        "  total = num1 / num2\n",
        "  print(total)"
      ],
      "execution_count": 47,
      "outputs": []
    },
    {
      "cell_type": "code",
      "metadata": {
        "colab": {
          "base_uri": "https://localhost:8080/"
        },
        "id": "T8Mz2T0j-dM9",
        "outputId": "a5b3da52-ba1a-4c22-d5c9-0ae39272933f"
      },
      "source": [
        "# AQUÍ PEDIMOS LOS DATOS\n",
        "n1 = float(input(\"valor 1 es: \"))\n",
        "n2 = float(input(\"valor 2 es: \"))\n",
        "print(\"llamado normal\")\n",
        "dividir(n1,n2)\n",
        "print(\"llamado por nombre de parametros\")\n",
        "dividir(num2=2, num1=n1)\n",
        "print(\"invertir parametros\")\n",
        "dividir(n2, n1)"
      ],
      "execution_count": 48,
      "outputs": [
        {
          "output_type": "stream",
          "name": "stdout",
          "text": [
            "valor 1 es: 6\n",
            "valor 2 es: 3\n",
            "llamado normal\n",
            "2.0\n",
            "llamado por nombre de parametros\n",
            "3.0\n",
            "invertir parametros\n",
            "0.5\n"
          ]
        }
      ]
    },
    {
      "cell_type": "markdown",
      "metadata": {
        "id": "uSSDZMAOAtY6"
      },
      "source": [
        "FUNCION SUMA"
      ]
    },
    {
      "cell_type": "code",
      "metadata": {
        "id": "JuPi3bJeAr-y"
      },
      "source": [
        "def suma(*valores): # AQUÍ DEFINIMOS LA FUNCIÓN SIEMPRE () EL * AYUDA\n",
        "    total = 0\n",
        "    for x in valores:\n",
        "      total = total + x\n",
        "    print(\"total de la SUMA es:\", total)"
      ],
      "execution_count": 57,
      "outputs": []
    },
    {
      "cell_type": "code",
      "metadata": {
        "colab": {
          "base_uri": "https://localhost:8080/"
        },
        "id": "Mo0AHadHBFxt",
        "outputId": "ccbe72c1-84a0-4709-9401-7cf60f84668a"
      },
      "source": [
        "# AQUÍ USAMOS LA FUNCION SUMA\n",
        "suma(1)\n",
        "suma(1,2)\n",
        "suma(4,100,2) "
      ],
      "execution_count": 58,
      "outputs": [
        {
          "output_type": "stream",
          "name": "stdout",
          "text": [
            "total de la SUMA es: 1\n",
            "total de la SUMA es: 3\n",
            "total de la SUMA es: 106\n"
          ]
        }
      ]
    },
    {
      "cell_type": "markdown",
      "metadata": {
        "id": "fNptHV9JCp3g"
      },
      "source": [
        "ARCHIVOS O FICHEROS: ABRIR Y CERARLOS FUNCION WITH"
      ]
    },
    {
      "cell_type": "code",
      "metadata": {
        "id": "mSILHXNiCt_s"
      },
      "source": [
        "num= range(1,3)\n",
        "f = open(\"mi texto.txt\", \"w\") #  mode lectura= write\n",
        "# w se anexa con a se agrega\n",
        "for n in num:\n",
        "  f.write(str(n)+ \"\\n\")\n",
        "f.write(\"mitch\")\n",
        "f.close() #debe cerrarse para poderlo leer"
      ],
      "execution_count": 61,
      "outputs": []
    },
    {
      "cell_type": "code",
      "metadata": {
        "colab": {
          "base_uri": "https://localhost:8080/"
        },
        "id": "bc1j6fGzE9SG",
        "outputId": "d2dc5e1d-376f-483b-998e-ea64f62b7dff"
      },
      "source": [
        "with open(\"mi texto.txt\",\"r\") as reader:\n",
        "  lineas = reader.readlines()\n",
        "  for l in lineas:\n",
        "    print(l)\n"
      ],
      "execution_count": 62,
      "outputs": [
        {
          "output_type": "stream",
          "name": "stdout",
          "text": [
            "1\n",
            "\n",
            "2\n",
            "\n",
            "mitch\n"
          ]
        }
      ]
    },
    {
      "cell_type": "markdown",
      "metadata": {
        "id": "zrB3hDg6LYaR"
      },
      "source": [
        "FACTORIAL = guarda en archivo"
      ]
    },
    {
      "cell_type": "code",
      "metadata": {
        "colab": {
          "base_uri": "https://localhost:8080/"
        },
        "id": "QISIiLflJivr",
        "outputId": "8f93fb9a-e837-4cae-955a-006423e478ec"
      },
      "source": [
        "file = open(\"mifact.txt\", \"w\")\n",
        "num = int(input(\"ingrese numero: \"))\n",
        "file.write('num= % s'%num)\n",
        "file.close()\n",
        "def factorial(x):\n",
        "  if x == 1:\n",
        "    return 1;\n",
        "  else:\n",
        "    return x * factorial (x-1)\n",
        "\n",
        "fac = factorial(num)\n",
        "\n",
        "print(\"factorial de\", num, \"es\", fac)\n"
      ],
      "execution_count": 63,
      "outputs": [
        {
          "output_type": "stream",
          "name": "stdout",
          "text": [
            "ingrese numero: 3\n",
            "factorial de 3 es 6\n"
          ]
        }
      ]
    }
  ]
}