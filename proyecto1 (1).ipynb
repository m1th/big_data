{
  "nbformat": 4,
  "nbformat_minor": 0,
  "metadata": {
    "colab": {
      "name": "proyecto1.ipynb",
      "provenance": [],
      "collapsed_sections": []
    },
    "kernelspec": {
      "name": "python3",
      "display_name": "Python 3"
    },
    "language_info": {
      "name": "python"
    }
  },
  "cells": [
    {
      "cell_type": "code",
      "metadata": {
        "id": "5d1cLVjwpYmX"
      },
      "source": [
        "import numpy as np\n",
        "import random as rd\n",
        "import pandas as pd\n",
        "import matplotlib.pyplot as plt"
      ],
      "execution_count": null,
      "outputs": []
    },
    {
      "cell_type": "code",
      "metadata": {
        "id": "VHGkFF2JphK4"
      },
      "source": [
        "df_food_sec_co = pd.read_csv(\"food_sec_co.csv\", encoding = \"ISO-8859-1\") #indicadores de seguridad alimentaria en colombia"
      ],
      "execution_count": null,
      "outputs": []
    },
    {
      "cell_type": "code",
      "metadata": {
        "id": "WZ7lc2Djp-Pn"
      },
      "source": [
        "print(df_food_sec_co.head())"
      ],
      "execution_count": null,
      "outputs": []
    },
    {
      "cell_type": "code",
      "metadata": {
        "id": "hAQknR4UqqWW"
      },
      "source": [
        " #seguridad alimentaria, variable numero de personas desnutridas por millon, para paises de latinoamérica y caribe\n",
        "df_food_sec_LA = pd.read_csv(\"undern.csv\", encoding = \"ISO-8859-1\")"
      ],
      "execution_count": null,
      "outputs": []
    },
    {
      "cell_type": "code",
      "metadata": {
        "colab": {
          "base_uri": "https://localhost:8080/"
        },
        "id": "mS2KP_P6q0Lu",
        "outputId": "0a3e7797-3c1e-4ce1-c19d-7b26c29994ce"
      },
      "source": [
        "df_food_sec_LA[\"Item\"].drop_duplicates() #lista los elementos de la columna Item y elimina duplicados"
      ],
      "execution_count": null,
      "outputs": [
        {
          "output_type": "execute_result",
          "data": {
            "text/plain": [
              "0    Number of people undernourished (million) (3-y...\n",
              "Name: Item, dtype: object"
            ]
          },
          "metadata": {},
          "execution_count": 38
        }
      ]
    },
    {
      "cell_type": "code",
      "metadata": {
        "id": "KpkMI9Th-CVg"
      },
      "source": [
        "#filtro por paises\n",
        "df_undment= df_food_sec_LA.loc[df_food_sec_LA[\"Area\"].isin([\"Argentina\", \"Bolivia (Plurinational State of)\", \"Colombia\",\"Venezuela (Bolivarian Republic of)\"]), [\"Area\",\"Item\",\"Value\"]]"
      ],
      "execution_count": null,
      "outputs": []
    },
    {
      "cell_type": "code",
      "metadata": {
        "id": "TQ6LCeuGFfxv"
      },
      "source": [
        "df_undment[\"Value\"].plot()\n",
        "plt.show()"
      ],
      "execution_count": null,
      "outputs": []
    },
    {
      "cell_type": "code",
      "metadata": {
        "id": "Yf-hkfyeDb7v"
      },
      "source": [
        "df_undment.to_csv(\"fao_values2.csv\",encoding=\"ISO-8859-1\")"
      ],
      "execution_count": null,
      "outputs": []
    },
    {
      "cell_type": "code",
      "metadata": {
        "id": "vEssBVYMATTL"
      },
      "source": [
        "box= df_undment.boxplot(column=[\"Value\"], by=\"Area\")"
      ],
      "execution_count": null,
      "outputs": []
    },
    {
      "cell_type": "code",
      "metadata": {
        "colab": {
          "base_uri": "https://localhost:8080/",
          "height": 174
        },
        "id": "z4xPH6HRG_QJ",
        "outputId": "bd66e11f-f5c7-4780-cdf4-7fcf32762709"
      },
      "source": [
        "df_undment.head()\n"
      ],
      "execution_count": null,
      "outputs": [
        {
          "output_type": "execute_result",
          "data": {
            "text/html": [
              "<div>\n",
              "<style scoped>\n",
              "    .dataframe tbody tr th:only-of-type {\n",
              "        vertical-align: middle;\n",
              "    }\n",
              "\n",
              "    .dataframe tbody tr th {\n",
              "        vertical-align: top;\n",
              "    }\n",
              "\n",
              "    .dataframe thead th {\n",
              "        text-align: right;\n",
              "    }\n",
              "</style>\n",
              "<table border=\"1\" class=\"dataframe\">\n",
              "  <thead>\n",
              "    <tr style=\"text-align: right;\">\n",
              "      <th></th>\n",
              "      <th>Area</th>\n",
              "      <th>Item</th>\n",
              "      <th>Value</th>\n",
              "    </tr>\n",
              "  </thead>\n",
              "  <tbody>\n",
              "    <tr>\n",
              "      <th>1</th>\n",
              "      <td>Argentina</td>\n",
              "      <td>Number of people undernourished (million) (3-y...</td>\n",
              "      <td>1.4</td>\n",
              "    </tr>\n",
              "    <tr>\n",
              "      <th>5</th>\n",
              "      <td>Bolivia (Plurinational State of)</td>\n",
              "      <td>Number of people undernourished (million) (3-y...</td>\n",
              "      <td>1.4</td>\n",
              "    </tr>\n",
              "    <tr>\n",
              "      <th>8</th>\n",
              "      <td>Colombia</td>\n",
              "      <td>Number of people undernourished (million) (3-y...</td>\n",
              "      <td>3.5</td>\n",
              "    </tr>\n",
              "    <tr>\n",
              "      <th>33</th>\n",
              "      <td>Venezuela (Bolivarian Republic of)</td>\n",
              "      <td>Number of people undernourished (million) (3-y...</td>\n",
              "      <td>6.5</td>\n",
              "    </tr>\n",
              "  </tbody>\n",
              "</table>\n",
              "</div>"
            ],
            "text/plain": [
              "                                  Area  ... Value\n",
              "1                            Argentina  ...   1.4\n",
              "5     Bolivia (Plurinational State of)  ...   1.4\n",
              "8                             Colombia  ...   3.5\n",
              "33  Venezuela (Bolivarian Republic of)  ...   6.5\n",
              "\n",
              "[4 rows x 3 columns]"
            ]
          },
          "metadata": {},
          "execution_count": 51
        }
      ]
    },
    {
      "cell_type": "code",
      "metadata": {
        "id": "i6_PasA0G-2q"
      },
      "source": [
        "#produccion agricola latinoamerica\n",
        "df_agropro_LA = pd.read_csv(\"agro_production_LA.csv\", encoding = \"ISO-8859-1\")"
      ],
      "execution_count": null,
      "outputs": []
    },
    {
      "cell_type": "code",
      "metadata": {
        "id": "KArlU5JnMRXN"
      },
      "source": [
        "#filtro agricola por paises\n",
        "df_agropro_f= df_agropro_LA.loc[df_agropro_LA[\"Area\"].isin([\"Argentina\",\"Bolivia (Plurinational State of)\",\"Venezuela (Bolivarian Republic of)\"]), [\"Area\",\"Item\",\"Year\",\"Unit\",\"Value\"]]"
      ],
      "execution_count": null,
      "outputs": []
    },
    {
      "cell_type": "code",
      "metadata": {
        "colab": {
          "base_uri": "https://localhost:8080/"
        },
        "id": "3rZrRuznNZQh",
        "outputId": "ff815890-f843-46cc-ae60-b406d2ce9a57"
      },
      "source": [
        "df_agropro_f[\"Item\"].drop_duplicates()\n"
      ],
      "execution_count": null,
      "outputs": [
        {
          "output_type": "execute_result",
          "data": {
            "text/plain": [
              "201                  Cereals, Total\n",
              "228                           Crops\n",
              "255                            Food\n",
              "283                       Livestock\n",
              "311          Meat indigenous, total\n",
              "339                     Milk, Total\n",
              "367                        Non Food\n",
              "395        Oilcrops, Oil Equivalent\n",
              "422         Roots and Tubers, Total\n",
              "449    Vegetables and Fruit Primary\n",
              "Name: Item, dtype: object"
            ]
          },
          "metadata": {},
          "execution_count": 67
        }
      ]
    },
    {
      "cell_type": "code",
      "metadata": {
        "id": "adVbR36_Pgc3"
      },
      "source": [
        "#filtro por producción de vegetales y frutas\n",
        "df_agrop_veg = df_agropro_f.loc[df_agropro_f[\"Item\"]==\"Vegetables and Fruit Primary\",:]"
      ],
      "execution_count": null,
      "outputs": []
    },
    {
      "cell_type": "code",
      "metadata": {
        "id": "qwNcHZ1QSgRM"
      },
      "source": [
        "#filtro por producción de lacteos\n",
        "df_agrop_lacteos = df_agropro_f.loc[df_agropro_f[\"Item\"]==\"Milk, Total\",:]"
      ],
      "execution_count": null,
      "outputs": []
    },
    {
      "cell_type": "code",
      "metadata": {
        "id": "CVG_0XMVSiEE"
      },
      "source": [
        "#filtro por producción de tuberculos\n",
        "df_agrop_tubers = df_agropro_f.loc[df_agropro_f[\"Item\"]==\"Roots and Tubers, Total\",:]"
      ],
      "execution_count": null,
      "outputs": []
    },
    {
      "cell_type": "code",
      "metadata": {
        "id": "3WYOONW7Sl4u"
      },
      "source": [
        "#filtro por producción de carne\n",
        "df_agrop_livestock = df_agropro_f.loc[df_agropro_f[\"Item\"]==\"Livestock\",:]"
      ],
      "execution_count": null,
      "outputs": []
    },
    {
      "cell_type": "code",
      "metadata": {
        "id": "yVfejOjNSpaU"
      },
      "source": [
        "#filtro por producción de cereales\n",
        "df_agrop_cereals = df_agropro_f.loc[df_agropro_f[\"Item\"]==\"Cereals, Total\",:]"
      ],
      "execution_count": null,
      "outputs": []
    },
    {
      "cell_type": "code",
      "metadata": {
        "id": "bXbFvgAtQAOw"
      },
      "source": [
        "df_agrop_veg[\"Area\"].drop_duplicates()"
      ],
      "execution_count": null,
      "outputs": []
    },
    {
      "cell_type": "code",
      "metadata": {
        "colab": {
          "base_uri": "https://localhost:8080/",
          "height": 307
        },
        "id": "XZ4r-0GlRmHO",
        "outputId": "e972bcdf-c80d-4ab9-d160-628223e07c63"
      },
      "source": [
        "df_agrop_veg.plot(kind=\"scatter\", x=\"Area\", y=\"Value\")"
      ],
      "execution_count": null,
      "outputs": [
        {
          "output_type": "execute_result",
          "data": {
            "text/plain": [
              "<matplotlib.axes._subplots.AxesSubplot at 0x7fe8bc62cc90>"
            ]
          },
          "metadata": {},
          "execution_count": 10
        },
        {
          "output_type": "display_data",
          "data": {
            "image/png": "[encoded data removed]",
            "text/plain": [
              "<Figure size 432x288 with 1 Axes>"
            ]
          },
          "metadata": {
            "needs_background": "light"
          }
        }
      ]
    },
    {
      "cell_type": "code",
      "metadata": {
        "colab": {
          "base_uri": "https://localhost:8080/",
          "height": 307
        },
        "id": "CF4f2eiIUFoC",
        "outputId": "b272a86d-a6de-4afd-bf16-e40a62019f71"
      },
      "source": [
        "df_agrop_lacteos.plot(kind=\"scatter\", x=\"Area\", y=\"Value\")"
      ],
      "execution_count": null,
      "outputs": [
        {
          "output_type": "execute_result",
          "data": {
            "text/plain": [
              "<matplotlib.axes._subplots.AxesSubplot at 0x7fe8bc580bd0>"
            ]
          },
          "metadata": {},
          "execution_count": 14
        },
        {
          "output_type": "display_data",
          "data": {
            "image/png": "[encoded data removed]",
            "text/plain": [
              "<Figure size 432x288 with 1 Axes>"
            ]
          },
          "metadata": {
            "needs_background": "light"
          }
        }
      ]
    },
    {
      "cell_type": "code",
      "metadata": {
        "colab": {
          "base_uri": "https://localhost:8080/",
          "height": 307
        },
        "id": "d37l_14gUL25",
        "outputId": "059788df-bd8f-4e56-ed39-6481a48d27d3"
      },
      "source": [
        "df_agrop_livestock.plot(kind=\"scatter\", x=\"Area\", y=\"Value\")"
      ],
      "execution_count": null,
      "outputs": [
        {
          "output_type": "execute_result",
          "data": {
            "text/plain": [
              "<matplotlib.axes._subplots.AxesSubplot at 0x7fe30f1490d0>"
            ]
          },
          "metadata": {},
          "execution_count": 81
        },
        {
          "output_type": "display_data",
          "data": {
            "image/png": "[encoded data removed]",
            "text/plain": [
              "<Figure size 432x288 with 1 Axes>"
            ]
          },
          "metadata": {
            "needs_background": "light"
          }
        }
      ]
    },
    {
      "cell_type": "code",
      "metadata": {
        "colab": {
          "base_uri": "https://localhost:8080/",
          "height": 307
        },
        "id": "591hJbkaUPLp",
        "outputId": "28a464b3-0778-4427-f547-5e4b1cc6887c"
      },
      "source": [
        "df_agrop_tubers.plot(kind=\"scatter\", x=\"Area\", y=\"Value\")"
      ],
      "execution_count": null,
      "outputs": [
        {
          "output_type": "execute_result",
          "data": {
            "text/plain": [
              "<matplotlib.axes._subplots.AxesSubplot at 0x7fe8bc0a2b50>"
            ]
          },
          "metadata": {},
          "execution_count": 15
        },
        {
          "output_type": "display_data",
          "data": {
            "image/png": "[encoded data removed]",
            "text/plain": [
              "<Figure size 432x288 with 1 Axes>"
            ]
          },
          "metadata": {
            "needs_background": "light"
          }
        }
      ]
    },
    {
      "cell_type": "code",
      "metadata": {
        "colab": {
          "base_uri": "https://localhost:8080/",
          "height": 307
        },
        "id": "DHlnFzYcUVJy",
        "outputId": "d3841e6f-9d2e-4105-9cbf-96d43051b048"
      },
      "source": [
        "df_agrop_cereals.plot(kind=\"scatter\", x=\"Area\", y=\"Value\")"
      ],
      "execution_count": null,
      "outputs": [
        {
          "output_type": "execute_result",
          "data": {
            "text/plain": [
              "<matplotlib.axes._subplots.AxesSubplot at 0x7fe8bc08d310>"
            ]
          },
          "metadata": {},
          "execution_count": 16
        },
        {
          "output_type": "display_data",
          "data": {
            "image/png": "[encoded data removed]",
            "text/plain": [
              "<Figure size 432x288 with 1 Axes>"
            ]
          },
          "metadata": {
            "needs_background": "light"
          }
        }
      ]
    },
    {
      "cell_type": "code",
      "metadata": {
        "id": "m5wetdgGMztf"
      },
      "source": [
        "df_agropro_f.to_csv(\"df_agropro_f.csv\",encoding=\"ISO-8859-1\")"
      ],
      "execution_count": null,
      "outputs": []
    }
  ]
}